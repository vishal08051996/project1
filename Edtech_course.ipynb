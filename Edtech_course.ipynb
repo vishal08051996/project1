{
 "cells": [
  {
   "cell_type": "markdown",
   "id": "b1025321",
   "metadata": {},
   "source": [
    " # EDTECH course cost prediction."
   ]
  },
  {
   "cell_type": "markdown",
   "id": "91c626b7",
   "metadata": {},
   "source": [
    "CRISP-ML(Q) Methodology\n",
    " * Business and Data understanding\n",
    " * Data preparation(Data Engineering)\n",
    " * Model Building(Machine Learning)\n",
    " * Model Evaluation and Tunning\n",
    " * Deployment\n",
    " * Monitoring and Maintenance"
   ]
  },
  {
   "cell_type": "markdown",
   "id": "5245220f",
   "metadata": {},
   "source": [
    "# Stage 1: Business Understanding Project Overview"
   ]
  },
  {
   "cell_type": "markdown",
   "id": "f1fbfbda",
   "metadata": {},
   "source": [
    "* The project aims to be predict the course price of Edtech companies.\n",
    "* Collection of data respected fields(less data(real) occured these area)."
   ]
  },
  {
   "cell_type": "markdown",
   "id": "182424cc",
   "metadata": {},
   "source": [
    "# * Business Objectives *"
   ]
  },
  {
   "cell_type": "markdown",
   "id": "b6427ed4",
   "metadata": {},
   "source": [
    "* Maximize the course cost.\n",
    "* Minimize the Maintenance cost."
   ]
  },
  {
   "cell_type": "markdown",
   "id": "c0f24f53",
   "metadata": {},
   "source": [
    "# * Constraints *"
   ]
  },
  {
   "cell_type": "markdown",
   "id": "b13bed8f",
   "metadata": {},
   "source": [
    "* The model my be impacted by infrastructure cost, trainer cost ....\n",
    "* Students enrollments, palcements ......"
   ]
  },
  {
   "cell_type": "markdown",
   "id": "74f3927f",
   "metadata": {},
   "source": [
    "# Load the Edtech_course data to predict the course price."
   ]
  },
  {
   "cell_type": "markdown",
   "id": "ee798ccd",
   "metadata": {},
   "source": [
    "# Loading data form MySQL server DataBase."
   ]
  },
  {
   "cell_type": "code",
   "execution_count": 21,
   "id": "62d6525c",
   "metadata": {},
   "outputs": [
    {
     "name": "stdout",
     "output_type": "stream",
     "text": [
      "[(1, 'Datatrain', 'ProjectManagement', 'Delhi', 'Doctorate', 'Yes', 'Yes', 'advanced', 'Yes', 'Yes', 19, 192, 5, 145, 722, 140, 205, 1419), (2, 'Datatrain', 'DataScience', 'Hyderabad', 'Graduate', 'Yes', 'no', 'advanced', 'No', 'Yes', 9, 94, 2, 68, 454, 70, 116, 746), (3, 'Guvi', 'python', 'Chennai', 'UnderGraduate', 'no', 'no', 'advanced', 'Yes', 'Yes', 15, 154, 4, 112, 641, 118, 179, 1121), (4, 'innomatics', 'DigitalTransformation', 'Ahmedabad', 'Doctorate', 'Yes', 'Yes', 'intermediate', 'No', 'Yes', 18, 182, 5, 130, 729, 132, 108, 1341), (5, 'Datatrain', 'DigitalTransformation', 'Pune', 'UnderGraduate', 'Yes', 'Yes', 'advanced', 'No', 'Yes', 6, 75, 2, 43, 349, 45, 88, 512), (6, 'Datatrain', 'python', 'Ahmedabad', 'UnderGraduate', 'no', 'Yes', 'beginer', 'Yes', 'Yes', 11, 115, 3, 84, 510, 80, 135, 879), (7, '360DigiTMG', 'BigData', 'Pune', 'UnderGraduate', 'no', 'no', 'beginer', 'Yes', 'Yes', 6, 63, 2, 37, 297, 40, 76, 429), (8, 'Edureka', 'ArtificialIntelligence', 'Kanpour', 'Doctorate', 'no', 'Yes', 'advanced', 'Yes', 'Yes', 6, 70, 2, 42, 315, 46, 80, 481), (9, 'Udemy', 'BigData', 'Bengaluru', 'Doctorate', 'no', 'no', 'beginer', 'Yes', 'Yes', 6, 78, 2, 51, 356, 51, 95, 618), (10, 'Coursera', 'Dataanalysis', 'Kanpour', 'Graduate', 'Yes', 'Yes', 'advanced', 'Yes', 'Yes', 6, 67, 2, 39, 310, 43, 78, 463), (11, 'Edvancer', 'FullstackDataScience', 'Bengaluru', 'UnderGraduate', 'Yes', 'Yes', 'beginer', 'Yes', 'Yes', 6, 77, 2, 49, 354, 50, 94, 597), (12, '360DigiTMG', 'DataScience', 'Ahmedabad', 'UnderGraduate', 'no', 'Yes', 'beginer', 'No', 'Yes', 1, 41, 1, 16, 217, 20, 53, 322), (13, 'Coursera', 'FullstackDataScience', 'Kanpour', 'UnderGraduate', 'no', 'no', 'beginer', 'No', 'Yes', 15, 160, 4, 115, 642, 115, 178, 1133), (14, 'Simple_learn', 'DigitalTransformation', 'Delhi', 'Graduate', 'Yes', 'Yes', 'beginer', 'No', 'Yes', 1, 40, 1, 16, 210, 16, 51, 320), (15, 'Great_Learn', 'ArtificialIntelligence', 'Bengaluru', 'Doctorate', 'no', 'Yes', 'beginer', 'Yes', 'Yes', 6, 85, 3, 59, 409, 58, 106, 679), (16, 'Simple_learn', 'CloudComputing', 'Chennai', 'Graduate', 'Yes', 'no', 'beginer', 'Yes', 'Yes', 1, 44, 1, 17, 211, 16, 50, 318), (17, 'innomatics', 'ProjectManagement', 'Ahmedabad', 'Doctorate', 'Yes', 'no', 'intermediate', 'No', 'Yes', 12, 126, 3, 90, 524, 93, 145, 932), (18, 'Coursera', 'BigData', 'Chennai', 'UnderGraduate', 'no', 'Yes', 'intermediate', 'Yes', 'Yes', 11, 117, 3, 83, 511, 81, 136, 871), (19, 'innomatics', 'python', 'Mumbai', 'Graduate', 'no', 'Yes', 'intermediate', 'Yes', 'Yes', 7, 87, 2, 59, 455, 63, 101, 683), (20, 'Edureka', 'DigitalTransformation', 'Bengaluru', 'Graduate', 'no', 'no', 'intermediate', 'No', 'Yes', 2, 48, 1, 16, 232, 16, 59, 324), (21, 'innomatics', 'Dataanalysis', 'Calcutta', 'Doctorate', 'no', 'Yes', 'intermediate', 'Yes', 'Yes', 4, 62, 1, 39, 286, 33, 72, 727), (22, 'Upgrad', 'FullstackDataScience', 'Kanpour', 'UnderGraduate', 'Yes', 'Yes', 'intermediate', 'No', 'Yes', 5, 69, 2, 42, 301, 37, 75, 761), (23, 'Datatrain', 'ProjectManagement', 'Pune', 'Graduate', 'Yes', 'Yes', 'intermediate', 'No', 'Yes', 12, 127, 3, 88, 520, 85, 141, 959), (24, 'Edvancer', 'DigitalTransformation', 'Ahmedabad', 'UnderGraduate', 'no', 'no', 'advanced', 'No', 'Yes', 10, 115, 3, 78, 486, 80, 135, 827), (25, 'Data_camp', 'ArtificialIntelligence', 'Chennai', 'Doctorate', 'no', 'no', 'beginer', 'No', 'Yes', 11, 118, 3, 85, 511, 83, 137, 882), (26, 'Coursera', 'ArtificialIntelligence', 'Calcutta', 'Graduate', 'Yes', 'Yes', 'beginer', 'No', 'Yes', 12, 127, 3, 93, 550, 86, 140, 916), (27, 'Edvancer', 'DataScience', 'Chennai', 'Doctorate', 'no', 'no', 'advanced', 'No', 'Yes', 5, 65, 2, 37, 298, 39, 79, 458), (28, '360DigiTMG', 'DigitalMarketing', 'Bengaluru', 'Graduate', 'Yes', 'no', 'advanced', 'Yes', 'Yes', 4, 62, 2, 34, 280, 35, 75, 428), (29, 'Guvi', 'FullstackDataScience', 'Kanpour', 'Graduate', 'no', 'no', 'beginer', 'Yes', 'Yes', 9, 104, 3, 72, 443, 74, 117, 741), (30, 'Edvancer', 'python', 'Calcutta', 'Graduate', 'Yes', 'no', 'intermediate', 'Yes', 'Yes', 15, 155, 4, 114, 640, 115, 176, 1127), (31, 'Datatrain', 'DataScience', 'Chennai', 'Graduate', 'Yes', 'Yes', 'advanced', 'Yes', 'Yes', 10, 98, 2, 43, 300, 75, 127, 799), (32, 'innomatics', 'DataScience', 'Ahmedabad', 'UnderGraduate', 'Yes', 'no', 'beginer', 'Yes', 'Yes', 12, 122, 3, 87, 535, 86, 141, 933), (33, 'ExcelR', 'CloudComputing', 'Delhi', 'Graduate', 'Yes', 'Yes', 'advanced', 'Yes', 'Yes', 13, 127, 3, 89, 540, 87, 142, 948), (34, 'Data_camp', 'DigitalTransformation', 'Delhi', 'Doctorate', 'Yes', 'Yes', 'beginer', 'Yes', 'Yes', 9, 95, 2, 61, 450, 62, 104, 707), (35, 'Udemy', 'DigitalMarketing', 'Delhi', 'Graduate', 'no', 'no', 'intermediate', 'No', 'Yes', 5, 72, 2, 47, 342, 48, 92, 557), (36, 'Coursera', 'DigitalTransformation', 'Ahmedabad', 'UnderGraduate', 'Yes', 'no', 'intermediate', 'No', 'Yes', 10, 99, 3, 72, 445, 73, 127, 790), (37, 'Edx', 'DigitalTransformation', 'Delhi', 'UnderGraduate', 'Yes', 'no', 'intermediate', 'No', 'Yes', 20, 199, 5, 146, 797, 94, 219, 1484), (38, 'Great_Learn', 'CloudComputing', 'Mumbai', 'Graduate', 'Yes', 'Yes', 'intermediate', 'No', 'Yes', 10, 97, 2, 46, 303, 95, 127, 792), (39, 'Upgrad', 'DigitalMarketing', 'Delhi', 'Doctorate', 'no', 'no', 'intermediate', 'Yes', 'Yes', 9, 93, 2, 60, 445, 96, 103, 696), (40, 'Great_Learn', 'ProjectManagement', 'Pune', 'Doctorate', 'Yes', 'Yes', 'intermediate', 'Yes', 'Yes', 5, 67, 2, 43, 305, 97, 78, 474), (41, 'Datatrain', 'FullstackDataScience', 'Chennai', 'UnderGraduate', 'Yes', 'no', 'advanced', 'Yes', 'Yes', 18, 185, 5, 134, 748, 98, 200, 1322), (42, '360DigiTMG', 'ProjectManagement', 'Delhi', 'Graduate', 'Yes', 'Yes', 'advanced', 'Yes', 'Yes', 19, 190, 5, 135, 758, 99, 205, 1373), (43, 'Edvancer', 'CloudComputing', 'Kanpour', 'Graduate', 'no', 'Yes', 'advanced', 'Yes', 'Yes', 4, 59, 2, 38, 289, 100, 75, 432), (44, 'Udemy', 'ArtificialIntelligence', 'Kanpour', 'Graduate', 'no', 'no', 'beginer', 'Yes', 'Yes', 20, 196, 5, 146, 789, 148, 225, 1465), (45, 'Datatrain', 'python', 'Pune', 'UnderGraduate', 'Yes', 'Yes', 'intermediate', 'No', 'Yes', 16, 165, 3, 81, 520, 82, 138, 905), (46, 'Datatrain', 'ProjectManagement', 'Pune', 'UnderGraduate', 'Yes', 'no', 'beginer', 'Yes', 'Yes', 12, 175, 3, 85, 535, 86, 145, 958), (47, 'Datatrain', 'FullstackDataScience', 'Bengaluru', 'UnderGraduate', 'Yes', 'no', 'intermediate', 'No', 'Yes', 16, 165, 4, 118, 650, 119, 187, 1200), (48, 'Simple_learn', 'BigData', 'Delhi', 'UnderGraduate', 'Yes', 'Yes', 'advanced', 'No', 'Yes', 11, 101, 3, 90, 580, 90, 152, 989), (49, 'innomatics', 'DataScience', 'Delhi', 'Graduate', 'Yes', 'Yes', 'intermediate', 'No', 'Yes', 14, 138, 4, 107, 580, 108, 169, 1079), (50, 'Datatrain', 'Dataanalysis', 'Pune', 'Graduate', 'no', 'no', 'intermediate', 'Yes', 'Yes', 2, 42, 1, 15, 210, 16, 52, 319), (51, 'innomatics', 'CloudComputing', 'Bengaluru', 'UnderGraduate', 'Yes', 'no', 'intermediate', 'No', 'Yes', 6, 75, 2, 48, 350, 49, 93, 587), (52, 'Edureka', 'ProjectManagement', 'Kanpour', 'Graduate', 'Yes', 'Yes', 'intermediate', 'Yes', 'Yes', 16, 165, 4, 119, 660, 122, 195, 1246), (53, 'Udemy', 'python', 'Hyderabad', 'UnderGraduate', 'Yes', 'Yes', 'advanced', 'Yes', 'Yes', 13, 130, 3, 102, 591, 106, 150, 1051), (54, 'Coursera', 'DigitalMarketing', 'Calcutta', 'UnderGraduate', 'Yes', 'no', 'beginer', 'Yes', 'Yes', 9, 98, 3, 74, 482, 75, 118, 800), (55, 'Data_camp', 'DigitalMarketing', 'Pune', 'UnderGraduate', 'no', 'Yes', 'advanced', 'No', 'Yes', 18, 182, 4, 101, 727, 135, 205, 1307), (56, 'ExcelR', 'FullstackDataScience', 'Chennai', 'Graduate', 'no', 'no', 'beginer', 'No', 'Yes', 17, 179, 4, 99, 720, 132, 202, 1257), (57, 'Simple_learn', 'DataScience', 'Bengaluru', 'Graduate', 'Yes', 'no', 'intermediate', 'Yes', 'Yes', 8, 97, 3, 65, 412, 66, 121, 767), (58, 'Udemy', 'python', 'Chennai', 'UnderGraduate', 'Yes', 'Yes', 'beginer', 'Yes', 'Yes', 19, 191, 5, 140, 760, 142, 215, 1412), (59, 'Coursera', 'DataScience', 'Calcutta', 'UnderGraduate', 'no', 'Yes', 'advanced', 'No', 'Yes', 16, 129, 4, 94, 585, 96, 148, 975), (60, 'Datatrain', 'BigData', 'Delhi', 'Doctorate', 'Yes', 'no', 'advanced', 'Yes', 'Yes', 13, 120, 3, 89, 579, 91, 142, 911), (61, 'Edureka', 'DataScience', 'Hyderabad', 'UnderGraduate', 'Yes', 'Yes', 'beginer', 'Yes', 'Yes', 6, 76, 2, 48, 353, 49, 93, 591), (62, 'innomatics', 'DigitalTransformation', 'Ahmedabad', 'Graduate', 'no', 'no', 'beginer', 'Yes', 'Yes', 14, 135, 4, 95, 595, 99, 151, 1015), (63, 'Coursera', 'python', 'Pune', 'UnderGraduate', 'no', 'no', 'intermediate', 'Yes', 'Yes', 9, 101, 3, 66, 430, 69, 128, 791), (64, 'Upgrad', 'FullstackDataScience', 'Mumbai', 'Doctorate', 'no', 'Yes', 'beginer', 'Yes', 'Yes', 13, 135, 3, 103, 593, 107, 152, 1063), (65, 'Udemy', 'ArtificialIntelligence', 'Ahmedabad', 'Doctorate', 'no', 'no', 'advanced', 'No', 'Yes', 6, 77, 2, 49, 354, 50, 94, 598), (66, 'Upgrad', 'python', 'Kanpour', 'Doctorate', 'Yes', 'no', 'advanced', 'Yes', 'Yes', 4, 53, 1, 31, 275, 33, 66, 423), (67, 'Upgrad', 'ArtificialIntelligence', 'Hyderabad', 'Doctorate', 'Yes', 'Yes', 'intermediate', 'No', 'Yes', 10, 105, 3, 73, 425, 76, 125, 777), (68, '360DigiTMG', 'FullstackDataScience', 'Delhi', 'Doctorate', 'Yes', 'no', 'beginer', 'Yes', 'Yes', 2, 46, 1, 17, 230, 18, 52, 352), (69, 'Great_Learn', 'ArtificialIntelligence', 'Kanpour', 'Doctorate', 'Yes', 'no', 'beginer', 'No', 'Yes', 13, 124, 3, 95, 588, 97, 146, 978), (70, 'Great_Learn', 'ArtificialIntelligence', 'Kanpour', 'Doctorate', 'Yes', 'no', 'intermediate', 'No', 'Yes', 13, 133, 4, 104, 591, 105, 150, 1041), (71, 'Edvancer', 'CloudComputing', 'Bengaluru', 'Doctorate', 'no', 'no', 'beginer', 'Yes', 'Yes', 15, 156, 4, 113, 636, 115, 172, 1113), (72, 'Datatrain', 'ProjectManagement', 'Chennai', 'Graduate', 'no', 'Yes', 'intermediate', 'Yes', 'Yes', 11, 115, 3, 78, 501, 81, 132, 860), (73, 'Udemy', 'ArtificialIntelligence', 'Chennai', 'Doctorate', 'no', 'no', 'advanced', 'No', 'Yes', 7, 91, 2, 61, 423, 63, 112, 705), (74, 'Data_camp', 'FullstackDataScience', 'Mumbai', 'UnderGraduate', 'Yes', 'Yes', 'advanced', 'Yes', 'Yes', 12, 131, 4, 101, 575, 103, 145, 1001), (75, 'Simple_learn', 'DataScience', 'Kanpour', 'UnderGraduate', 'no', 'no', 'intermediate', 'Yes', 'Yes', 11, 118, 3, 84, 511, 83, 137, 883), (76, 'Great_Learn', 'ProjectManagement', 'Mumbai', 'Doctorate', 'Yes', 'no', 'intermediate', 'No', 'Yes', 18, 185, 4, 132, 725, 135, 206, 1377), (77, 'innomatics', 'python', 'Calcutta', 'Doctorate', 'Yes', 'Yes', 'beginer', 'Yes', 'Yes', 14, 128, 3, 94, 572, 95, 152, 997), (78, 'Upgrad', 'DataScience', 'Mumbai', 'UnderGraduate', 'Yes', 'Yes', 'advanced', 'Yes', 'Yes', 5, 59, 2, 34, 278, 34, 67, 470), (79, 'Edvancer', 'ProjectManagement', 'Kanpour', 'Doctorate', 'Yes', 'no', 'intermediate', 'Yes', 'Yes', 10, 104, 3, 75, 425, 76, 125, 777), (80, 'innomatics', 'ArtificialIntelligence', 'Mumbai', 'Doctorate', 'no', 'no', 'intermediate', 'No', 'Yes', 10, 109, 3, 79, 432, 80, 129, 799), (81, 'Data_camp', 'python', 'Bengaluru', 'Graduate', 'no', 'Yes', 'intermediate', 'Yes', 'Yes', 5, 107, 2, 33, 281, 35, 68, 474), (82, 'Upgrad', 'CloudComputing', 'Bengaluru', 'Graduate', 'Yes', 'no', 'intermediate', 'Yes', 'Yes', 7, 83, 3, 87, 545, 89, 142, 932), (83, 'Udemy', 'BigData', 'Bengaluru', 'Graduate', 'no', 'no', 'intermediate', 'No', 'Yes', 6, 115, 3, 79, 495, 80, 134, 856), (84, 'Edureka', 'BigData', 'Ahmedabad', 'Doctorate', 'Yes', 'no', 'advanced', 'No', 'Yes', 7, 82, 2, 52, 375, 54, 99, 666), (85, 'Upgrad', 'Dataanalysis', 'Delhi', 'UnderGraduate', 'Yes', 'Yes', 'beginer', 'No', 'Yes', 9, 104, 3, 71, 416, 72, 165, 1094), (86, 'Edureka', 'BigData', 'Hyderabad', 'UnderGraduate', 'no', 'no', 'advanced', 'No', 'Yes', 5, 64, 2, 35, 300, 37, 72, 492), (87, '360DigiTMG', 'DataScience', 'Hyderabad', 'UnderGraduate', 'no', 'Yes', 'intermediate', 'Yes', 'Yes', 6, 72, 2, 46, 330, 47, 90, 562), (88, 'ExcelR', 'DataScience', 'Chennai', 'UnderGraduate', 'no', 'Yes', 'advanced', 'No', 'Yes', 11, 120, 3, 84, 521, 85, 141, 899), (89, 'ExcelR', 'python', 'Ahmedabad', 'Graduate', 'no', 'no', 'beginer', 'Yes', 'Yes', 11, 129, 3, 86, 537, 88, 147, 938), (90, 'Edureka', 'BigData', 'Kanpour', 'Doctorate', 'Yes', 'no', 'beginer', 'No', 'Yes', 11, 138, 3, 90, 562, 91, 153, 967), (91, 'Upgrad', 'BigData', 'Calcutta', 'Doctorate', 'Yes', 'no', 'intermediate', 'No', 'Yes', 1, 42, 1, 15, 210, 16, 51, 308), (92, 'innomatics', 'python', 'Mumbai', 'Doctorate', 'no', 'Yes', 'advanced', 'Yes', 'Yes', 2, 46, 1, 16, 230, 18, 57, 377), (93, 'Coursera', 'BigData', 'Chennai', 'Graduate', 'Yes', 'Yes', 'beginer', 'No', 'Yes', 20, 196, 5, 145, 789, 146, 220, 1465), (94, '360DigiTMG', 'Dataanalysis', 'Calcutta', 'Doctorate', 'no', 'Yes', 'advanced', 'Yes', 'Yes', 15, 165, 4, 117, 648, 119, 181, 1192), (95, 'Edx', 'DigitalMarketing', 'Pune', 'UnderGraduate', 'Yes', 'Yes', 'intermediate', 'Yes', 'Yes', 20, 200, 5, 149, 800, 150, 225, 1498), (96, 'Upgrad', 'CloudComputing', 'Pune', 'Graduate', 'Yes', 'no', 'intermediate', 'No', 'Yes', 11, 126, 3, 84, 534, 86, 145, 928), (97, '360DigiTMG', 'CloudComputing', 'Calcutta', 'Doctorate', 'Yes', 'Yes', 'beginer', 'No', 'Yes', 10, 109, 3, 79, 432, 80, 129, 798), (98, 'Data_camp', 'DigitalTransformation', 'Mumbai', 'UnderGraduate', 'Yes', 'Yes', 'advanced', 'Yes', 'Yes', 18, 187, 5, 137, 611, 139, 208, 1386), (99, 'Great_Learn', 'CloudComputing', 'Delhi', 'Doctorate', 'Yes', 'Yes', 'advanced', 'No', 'Yes', 18, 187, 5, 137, 611, 139, 208, 1387), (100, 'Edvancer', 'DigitalMarketing', 'Ahmedabad', 'Doctorate', 'Yes', 'Yes', 'advanced', 'Yes', 'Yes', 14, 154, 4, 113, 634, 115, 178, 1132), (101, 'Udemy', 'ArtificialIntelligence', 'Hyderabad', 'UnderGraduate', 'Yes', 'Yes', 'advanced', 'No', 'Yes', 6, 74, 2, 46, 325, 47, 91, 566), (102, '360DigiTMG', 'ProjectManagement', 'Ahmedabad', 'Graduate', 'Yes', 'Yes', 'intermediate', 'Yes', 'Yes', 11, 161, 4, 117, 648, 118, 180, 1180), (103, 'ExcelR', 'DataScience', 'Kanpour', 'Graduate', 'no', 'Yes', 'advanced', 'No', 'Yes', 7, 89, 2, 61, 396, 62, 63, 676), (104, 'Data_camp', 'ProjectManagement', 'Calcutta', 'Graduate', 'no', 'no', 'advanced', 'Yes', 'Yes', 20, 197, 5, 145, 795, 148, 222, 1482), (105, 'Datatrain', 'CloudComputing', 'Calcutta', 'Doctorate', 'no', 'Yes', 'beginer', 'Yes', 'Yes', 5, 71, 2, 44, 321, 46, 89, 557), (106, 'Edureka', 'BigData', 'Mumbai', 'UnderGraduate', 'Yes', 'Yes', 'advanced', 'No', 'Yes', 19, 190, 5, 141, 750, 142, 215, 1433), (107, 'Great_Learn', 'ProjectManagement', 'Mumbai', 'UnderGraduate', 'Yes', 'Yes', 'beginer', 'Yes', 'Yes', 6, 74, 2, 47, 327, 49, 93, 577), (108, 'Edureka', 'Dataanalysis', 'Chennai', 'Graduate', 'no', 'Yes', 'intermediate', 'No', 'Yes', 7, 91, 2, 95, 555, 96, 151, 980), (109, 'Udemy', 'ProjectManagement', 'Calcutta', 'UnderGraduate', 'no', 'no', 'intermediate', 'Yes', 'Yes', 16, 168, 4, 121, 675, 122, 187, 1227), (110, 'Coursera', 'FullstackDataScience', 'Chennai', 'UnderGraduate', 'Yes', 'Yes', 'beginer', 'Yes', 'Yes', 9, 97, 3, 69, 434, 67, 116, 739), (111, 'ExcelR', 'ArtificialIntelligence', 'Hyderabad', 'UnderGraduate', 'Yes', 'no', 'beginer', 'Yes', 'Yes', 5, 62, 2, 31, 290, 32, 77, 480), (112, 'Guvi', 'FullstackDataScience', 'Ahmedabad', 'Doctorate', 'Yes', 'Yes', 'advanced', 'No', 'Yes', 6, 79, 2, 50, 360, 52, 95, 607), (113, 'Edx', 'DataScience', 'Chennai', 'Doctorate', 'Yes', 'Yes', 'beginer', 'No', 'Yes', 17, 170, 4, 122, 677, 124, 189, 1233), (114, 'Upgrad', 'ArtificialIntelligence', 'Chennai', 'Doctorate', 'Yes', 'no', 'beginer', 'Yes', 'Yes', 11, 158, 4, 114, 636, 116, 179, 1137), (115, 'Guvi', 'Dataanalysis', 'Pune', 'Graduate', 'Yes', 'Yes', 'beginer', 'No', 'Yes', 7, 90, 2, 62, 397, 63, 65, 687), (116, 'Udemy', 'FullstackDataScience', 'Mumbai', 'Doctorate', 'no', 'no', 'intermediate', 'No', 'Yes', 2, 42, 1, 17, 215, 18, 53, 320), (117, 'Coursera', 'DigitalTransformation', 'Bengaluru', 'Doctorate', 'no', 'no', 'beginer', 'No', 'Yes', 20, 195, 5, 147, 791, 149, 224, 1495), (118, 'ExcelR', 'FullstackDataScience', 'Pune', 'Doctorate', 'no', 'Yes', 'intermediate', 'No', 'Yes', 8, 94, 2, 62, 405, 64, 67, 694), (119, 'ExcelR', 'FullstackDataScience', 'Delhi', 'UnderGraduate', 'Yes', 'no', 'intermediate', 'Yes', 'Yes', 2, 43, 1, 18, 217, 19, 54, 326), (120, 'ExcelR', 'FullstackDataScience', 'Bengaluru', 'Doctorate', 'Yes', 'no', 'beginer', 'No', 'Yes', 5, 62, 2, 31, 290, 32, 77, 481), (121, 'Udemy', 'DataScience', 'Hyderabad', 'Graduate', 'no', 'no', 'intermediate', 'No', 'Yes', 10, 109, 3, 75, 403, 76, 126, 847), (122, 'Datatrain', 'FullstackDataScience', 'Calcutta', 'Graduate', 'Yes', 'no', 'intermediate', 'Yes', 'Yes', 7, 87, 2, 59, 392, 61, 62, 667), (123, 'Great_Learn', 'DataScience', 'Calcutta', 'Doctorate', 'no', 'no', 'advanced', 'Yes', 'Yes', 18, 146, 4, 105, 605, 107, 165, 1092), (124, 'Great_Learn', 'DataScience', 'Calcutta', 'UnderGraduate', 'Yes', 'no', 'intermediate', 'No', 'Yes', 6, 73, 2, 47, 322, 48, 92, 568), (125, 'Udemy', 'DataScience', 'Hyderabad', 'UnderGraduate', 'no', 'Yes', 'advanced', 'Yes', 'Yes', 13, 132, 3, 92, 556, 95, 151, 995), (126, 'Great_Learn', 'python', 'Pune', 'Graduate', 'no', 'Yes', 'intermediate', 'No', 'Yes', 10, 109, 3, 73, 402, 75, 125, 844), (127, 'ExcelR', 'ArtificialIntelligence', 'Kanpour', 'Doctorate', 'no', 'no', 'intermediate', 'No', 'Yes', 19, 192, 5, 141, 774, 142, 117, 1443), (128, '360DigiTMG', 'python', 'Delhi', 'Doctorate', 'Yes', 'Yes', 'advanced', 'Yes', 'Yes', 19, 191, 5, 140, 773, 141, 116, 1436), (129, 'Coursera', 'python', 'Chennai', 'Graduate', 'Yes', 'Yes', 'intermediate', 'Yes', 'Yes', 13, 131, 3, 92, 555, 94, 150, 990), (130, 'Edvancer', 'CloudComputing', 'Bengaluru', 'Doctorate', 'no', 'no', 'advanced', 'Yes', 'Yes', 5, 69, 2, 45, 312, 46, 90, 530), (131, 'Udemy', 'DataScience', 'Mumbai', 'UnderGraduate', 'no', 'no', 'beginer', 'Yes', 'Yes', 11, 120, 3, 86, 513, 84, 140, 909), (132, 'Coursera', 'FullstackDataScience', 'Mumbai', 'Graduate', 'no', 'Yes', 'beginer', 'No', 'Yes', 18, 148, 4, 107, 607, 108, 166, 1100), (133, 'Simple_learn', 'Dataanalysis', 'Chennai', 'UnderGraduate', 'Yes', 'no', 'advanced', 'Yes', 'Yes', 11, 123, 3, 86, 515, 85, 142, 917), (134, 'Simple_learn', 'DigitalTransformation', 'Kanpour', 'UnderGraduate', 'Yes', 'Yes', 'intermediate', 'Yes', 'Yes', 20, 196, 5, 145, 784, 146, 221, 1460), (135, 'Great_Learn', 'python', 'Pune', 'Doctorate', 'Yes', 'no', 'intermediate', 'No', 'Yes', 5, 68, 2, 44, 310, 45, 88, 522), (136, 'innomatics', 'CloudComputing', 'Hyderabad', 'Doctorate', 'no', 'Yes', 'beginer', 'No', 'Yes', 18, 182, 4, 132, 730, 134, 202, 1360), (137, 'ExcelR', 'python', 'Kanpour', 'UnderGraduate', 'no', 'Yes', 'intermediate', 'Yes', 'Yes', 6, 79, 2, 51, 360, 53, 96, 611), (138, 'innomatics', 'BigData', 'Hyderabad', 'Doctorate', 'Yes', 'no', 'intermediate', 'No', 'Yes', 9, 98, 2, 65, 429, 67, 115, 745), (139, 'Great_Learn', 'ArtificialIntelligence', 'Mumbai', 'Graduate', 'no', 'no', 'beginer', 'Yes', 'Yes', 20, 196, 5, 146, 796, 147, 223, 1487), (140, 'Edx', 'DigitalMarketing', 'Hyderabad', 'Doctorate', 'Yes', 'Yes', 'beginer', 'No', 'Yes', 5, 68, 2, 44, 310, 45, 89, 523), (141, 'Great_Learn', 'ArtificialIntelligence', 'Hyderabad', 'Graduate', 'no', 'Yes', 'intermediate', 'No', 'Yes', 4, 58, 1, 38, 280, 39, 78, 498), (142, 'Great_Learn', 'CloudComputing', 'Bengaluru', 'Doctorate', 'no', 'Yes', 'intermediate', 'Yes', 'Yes', 6, 71, 2, 45, 315, 47, 92, 548), (143, 'Edureka', 'BigData', 'Mumbai', 'UnderGraduate', 'Yes', 'Yes', 'beginer', 'Yes', 'Yes', 1, 40, 1, 15, 200, 15, 50, 302), (144, 'Coursera', 'DigitalMarketing', 'Mumbai', 'UnderGraduate', 'Yes', 'no', 'intermediate', 'No', 'Yes', 17, 175, 4, 124, 710, 125, 192, 1302), (145, 'Great_Learn', 'BigData', 'Hyderabad', 'Graduate', 'Yes', 'Yes', 'intermediate', 'No', 'Yes', 1, 41, 1, 17, 204, 17, 52, 308), (146, 'Coursera', 'FullstackDataScience', 'Hyderabad', 'Doctorate', 'no', 'Yes', 'intermediate', 'No', 'Yes', 1, 43, 1, 16, 215, 16, 54, 329), (147, 'Guvi', 'BigData', 'Mumbai', 'UnderGraduate', 'Yes', 'no', 'intermediate', 'Yes', 'Yes', 18, 178, 4, 130, 720, 132, 200, 1351), (148, '360DigiTMG', 'python', 'Delhi', 'Doctorate', 'no', 'Yes', 'intermediate', 'Yes', 'Yes', 2, 47, 1, 21, 230, 20, 58, 354), (149, 'Upgrad', 'DigitalMarketing', 'Ahmedabad', 'UnderGraduate', 'no', 'Yes', 'advanced', 'No', 'Yes', 9, 106, 2, 68, 437, 69, 118, 762), (150, 'Upgrad', 'DigitalMarketing', 'Pune', 'Graduate', 'Yes', 'no', 'beginer', 'Yes', 'Yes', 7, 82, 2, 54, 366, 56, 101, 620), (151, 'Coursera', 'BigData', 'Kanpour', 'Graduate', 'no', 'Yes', 'advanced', 'Yes', 'Yes', 16, 170, 4, 121, 701, 122, 189, 1289), (152, 'ExcelR', 'Dataanalysis', 'Pune', 'UnderGraduate', 'Yes', 'Yes', 'beginer', 'Yes', 'Yes', 20, 200, 5, 150, 800, 150, 225, 1497), (153, 'Great_Learn', 'DigitalMarketing', 'Bengaluru', 'Doctorate', 'Yes', 'no', 'advanced', 'No', 'Yes', 12, 132, 3, 94, 554, 96, 150, 973), (154, 'Guvi', 'python', 'Delhi', 'UnderGraduate', 'Yes', 'Yes', 'advanced', 'Yes', 'Yes', 7, 79, 2, 53, 359, 54, 98, 602), (155, 'Data_camp', 'BigData', 'Calcutta', 'UnderGraduate', 'Yes', 'Yes', 'beginer', 'Yes', 'Yes', 9, 94, 2, 62, 420, 64, 111, 731), (156, 'Guvi', 'CloudComputing', 'Kanpour', 'Graduate', 'no', 'Yes', 'beginer', 'Yes', 'Yes', 12, 134, 3, 96, 555, 97, 151, 979), (157, 'Simple_learn', 'ProjectManagement', 'Delhi', 'Doctorate', 'Yes', 'Yes', 'intermediate', 'No', 'Yes', 8, 99, 2, 62, 399, 63, 107, 674), (158, 'Datatrain', 'python', 'Calcutta', 'Doctorate', 'no', 'Yes', 'intermediate', 'No', 'Yes', 14, 146, 4, 108, 601, 109, 165, 1072), (159, 'Edvancer', 'ProjectManagement', 'Pune', 'UnderGraduate', 'no', 'no', 'advanced', 'No', 'Yes', 3, 53, 1, 26, 250, 27, 64, 389), (160, 'innomatics', 'DigitalTransformation', 'Ahmedabad', 'Graduate', 'Yes', 'Yes', 'intermediate', 'No', 'Yes', 1, 42, 1, 17, 204, 17, 52, 310), (161, 'Datatrain', 'ArtificialIntelligence', 'Pune', 'UnderGraduate', 'Yes', 'no', 'beginer', 'No', 'Yes', 16, 165, 4, 119, 652, 120, 182, 1185), (162, 'Edureka', 'CloudComputing', 'Ahmedabad', 'Doctorate', 'no', 'Yes', 'beginer', 'No', 'Yes', 14, 155, 4, 111, 622, 112, 174, 1119), (163, 'Edureka', 'DataScience', 'Bengaluru', 'Doctorate', 'Yes', 'Yes', 'intermediate', 'No', 'Yes', 13, 137, 3, 97, 558, 98, 152, 984), (164, 'Guvi', 'python', 'Calcutta', 'Doctorate', 'Yes', 'no', 'advanced', 'No', 'Yes', 1, 43, 1, 16, 215, 16, 54, 327), (165, 'Edvancer', 'Dataanalysis', 'Pune', 'Graduate', 'Yes', 'no', 'intermediate', 'Yes', 'Yes', 6, 74, 2, 46, 340, 47, 89, 537), (166, 'Datatrain', 'BigData', 'Mumbai', 'UnderGraduate', 'Yes', 'Yes', 'advanced', 'Yes', 'Yes', 19, 191, 5, 141, 770, 143, 215, 1436), (167, '360DigiTMG', 'DigitalTransformation', 'Delhi', 'Doctorate', 'no', 'Yes', 'advanced', 'Yes', 'Yes', 2, 49, 1, 21, 235, 21, 62, 368), (168, 'Edx', 'ArtificialIntelligence', 'Pune', 'Doctorate', 'no', 'no', 'beginer', 'No', 'Yes', 15, 162, 4, 118, 689, 120, 186, 1231), (169, 'Guvi', 'Dataanalysis', 'Chennai', 'Graduate', 'Yes', 'Yes', 'beginer', 'No', 'Yes', 10, 107, 3, 71, 485, 72, 125, 819), (170, 'Edvancer', 'DigitalMarketing', 'Chennai', 'Doctorate', 'Yes', 'Yes', 'beginer', 'Yes', 'Yes', 12, 132, 3, 95, 554, 96, 150, 972), (171, 'Udemy', 'python', 'Pune', 'UnderGraduate', 'no', 'no', 'intermediate', 'No', 'Yes', 18, 180, 4, 130, 725, 132, 201, 1328), (172, 'Edvancer', 'CloudComputing', 'Hyderabad', 'Doctorate', 'Yes', 'no', 'intermediate', 'Yes', 'Yes', 10, 111, 3, 78, 489, 79, 131, 861), (173, 'Edx', 'ArtificialIntelligence', 'Hyderabad', 'UnderGraduate', 'no', 'Yes', 'intermediate', 'Yes', 'Yes', 7, 75, 2, 50, 349, 51, 94, 587), (174, 'Datatrain', 'FullstackDataScience', 'Delhi', 'Graduate', 'Yes', 'no', 'beginer', 'No', 'Yes', 19, 188, 5, 141, 750, 142, 209, 1383), (175, '360DigiTMG', 'ArtificialIntelligence', 'Ahmedabad', 'UnderGraduate', 'no', 'Yes', 'beginer', 'No', 'Yes', 20, 200, 5, 150, 800, 150, 225, 1499), (176, 'Data_camp', 'FullstackDataScience', 'Delhi', 'Doctorate', 'Yes', 'no', 'beginer', 'Yes', 'Yes', 19, 190, 5, 138, 762, 140, 212, 1414), (177, 'Coursera', 'CloudComputing', 'Pune', 'Doctorate', 'no', 'Yes', 'intermediate', 'Yes', 'Yes', 11, 120, 3, 85, 514, 84, 138, 888), (178, 'Datatrain', 'BigData', 'Mumbai', 'UnderGraduate', 'no', 'no', 'beginer', 'Yes', 'Yes', 12, 125, 3, 92, 545, 91, 141, 950), (179, 'Edvancer', 'ProjectManagement', 'Hyderabad', 'Doctorate', 'Yes', 'no', 'beginer', 'No', 'Yes', 19, 191, 5, 139, 742, 141, 214, 1431), (180, 'Coursera', 'python', 'Calcutta', 'UnderGraduate', 'Yes', 'no', 'beginer', 'Yes', 'Yes', 9, 99, 2, 67, 434, 66, 116, 770), (181, 'ExcelR', 'ArtificialIntelligence', 'Calcutta', 'Graduate', 'Yes', 'Yes', 'beginer', 'Yes', 'Yes', 3, 58, 1, 31, 277, 32, 71, 430), (182, 'Udemy', 'python', 'Pune', 'Graduate', 'no', 'Yes', 'beginer', 'Yes', 'Yes', 2, 42, 1, 16, 202, 16, 51, 306), (183, 'Great_Learn', 'FullstackDataScience', 'Calcutta', 'Graduate', 'Yes', 'Yes', 'beginer', 'No', 'Yes', 10, 110, 3, 75, 480, 76, 127, 826), (184, 'Great_Learn', 'Dataanalysis', 'Pune', 'Graduate', 'Yes', 'Yes', 'advanced', 'Yes', 'Yes', 5, 71, 2, 45, 330, 44, 86, 527), (185, 'Coursera', 'ArtificialIntelligence', 'Ahmedabad', 'Graduate', 'Yes', 'no', 'intermediate', 'No', 'Yes', 7, 86, 2, 55, 385, 56, 103, 660), (186, 'innomatics', 'ArtificialIntelligence', 'Bengaluru', 'Doctorate', 'Yes', 'Yes', 'advanced', 'No', 'Yes', 9, 103, 3, 71, 456, 72, 122, 794), (187, '360DigiTMG', 'DigitalTransformation', 'Bengaluru', 'Doctorate', 'Yes', 'no', 'advanced', 'Yes', 'Yes', 9, 98, 2, 66, 429, 67, 116, 743), (188, 'Datatrain', 'DigitalTransformation', 'Delhi', 'Graduate', 'no', 'Yes', 'intermediate', 'Yes', 'Yes', 16, 174, 4, 128, 690, 129, 194, 1272), (189, 'innomatics', 'DataScience', 'Delhi', 'UnderGraduate', 'Yes', 'no', 'advanced', 'No', 'Yes', 18, 179, 5, 135, 730, 135, 205, 1360), (190, 'ExcelR', 'FullstackDataScience', 'Pune', 'Graduate', 'no', 'Yes', 'advanced', 'Yes', 'Yes', 6, 74, 2, 46, 338, 47, 91, 564), (191, 'Guvi', 'DigitalTransformation', 'Delhi', 'Graduate', 'Yes', 'Yes', 'intermediate', 'No', 'Yes', 16, 168, 4, 118, 660, 121, 183, 1199), (192, 'Edureka', 'ProjectManagement', 'Ahmedabad', 'Graduate', 'no', 'no', 'intermediate', 'Yes', 'Yes', 3, 52, 1, 25, 246, 25, 63, 397), (193, 'ExcelR', 'python', 'Mumbai', 'Graduate', 'no', 'no', 'advanced', 'No', 'Yes', 17, 172, 4, 123, 670, 124, 185, 1208), (194, 'Edx', 'CloudComputing', 'Ahmedabad', 'UnderGraduate', 'Yes', 'no', 'intermediate', 'Yes', 'Yes', 16, 170, 4, 121, 665, 122, 184, 1204), (195, 'ExcelR', 'DigitalTransformation', 'Pune', 'Doctorate', 'no', 'Yes', 'beginer', 'Yes', 'Yes', 9, 101, 2, 68, 438, 67, 118, 774), (196, 'Upgrad', 'BigData', 'Pune', 'UnderGraduate', 'Yes', 'no', 'advanced', 'No', 'Yes', 10, 107, 3, 73, 462, 74, 123, 808), (197, 'Great_Learn', 'DigitalTransformation', 'Mumbai', 'UnderGraduate', 'Yes', 'Yes', 'advanced', 'Yes', 'Yes', 18, 185, 5, 137, 732, 138, 210, 1417), (198, 'Edvancer', 'python', 'Delhi', 'Doctorate', 'no', 'no', 'intermediate', 'No', 'Yes', 3, 55, 1, 30, 274, 31, 69, 420), (199, 'Edx', 'DataScience', 'Kanpour', 'UnderGraduate', 'no', 'Yes', 'intermediate', 'No', 'Yes', 11, 118, 3, 85, 511, 83, 137, 884), (200, 'Edureka', 'CloudComputing', 'Mumbai', 'Graduate', 'no', 'no', 'advanced', 'No', 'Yes', 9, 93, 2, 62, 405, 63, 101, 729), (201, 'Coursera', 'DigitalTransformation', 'Chennai', 'Doctorate', 'no', 'Yes', 'intermediate', 'No', 'Yes', 20, 195, 5, 147, 795, 148, 224, 1495), (202, 'ExcelR', 'python', 'Mumbai', 'Doctorate', 'Yes', 'no', 'intermediate', 'No', 'Yes', 6, 81, 2, 53, 370, 54, 97, 639), (203, 'Great_Learn', 'BigData', 'Ahmedabad', 'Graduate', 'no', 'no', 'beginer', 'No', 'Yes', 6, 79, 2, 50, 357, 51, 95, 604), (204, 'Upgrad', 'ArtificialIntelligence', 'Bengaluru', 'Doctorate', 'no', 'no', 'beginer', 'No', 'Yes', 13, 132, 4, 104, 607, 105, 165, 1075), (205, 'Udemy', 'BigData', 'Ahmedabad', 'Graduate', 'Yes', 'Yes', 'beginer', 'Yes', 'Yes', 11, 117, 3, 86, 526, 87, 142, 925), (206, 'Guvi', 'Dataanalysis', 'Delhi', 'Doctorate', 'Yes', 'no', 'intermediate', 'Yes', 'Yes', 11, 124, 3, 94, 546, 95, 151, 974), (207, 'innomatics', 'DigitalMarketing', 'Calcutta', 'Doctorate', 'no', 'Yes', 'advanced', 'Yes', 'Yes', 4, 62, 1, 34, 290, 35, 76, 483), (208, 'Edureka', 'ArtificialIntelligence', 'Pune', 'UnderGraduate', 'Yes', 'no', 'beginer', 'Yes', 'Yes', 2, 47, 1, 20, 227, 21, 58, 353), (209, 'Guvi', 'ArtificialIntelligence', 'Ahmedabad', 'Doctorate', 'no', 'no', 'advanced', 'No', 'Yes', 9, 105, 3, 71, 458, 72, 121, 796), (210, 'Simple_learn', 'ProjectManagement', 'Hyderabad', 'UnderGraduate', 'Yes', 'Yes', 'advanced', 'Yes', 'Yes', 18, 182, 4, 132, 726, 133, 203, 1361), (211, 'Edureka', 'FullstackDataScience', 'Bengaluru', 'Doctorate', 'Yes', 'Yes', 'advanced', 'Yes', 'Yes', 11, 122, 3, 94, 556, 95, 151, 992), (212, 'Edx', 'DigitalTransformation', 'Delhi', 'Doctorate', 'no', 'no', 'intermediate', 'Yes', 'Yes', 16, 173, 4, 124, 675, 125, 186, 1212), (213, 'Datatrain', 'ProjectManagement', 'Kanpour', 'Graduate', 'no', 'Yes', 'beginer', 'No', 'Yes', 17, 176, 4, 130, 690, 131, 191, 1250), (214, 'Guvi', 'DataScience', 'Ahmedabad', 'Doctorate', 'Yes', 'Yes', 'advanced', 'No', 'Yes', 11, 119, 3, 83, 514, 84, 138, 892), (215, 'innomatics', 'DataScience', 'Hyderabad', 'Doctorate', 'Yes', 'no', 'intermediate', 'Yes', 'Yes', 1, 47, 1, 21, 230, 22, 59, 369), (216, 'Edureka', 'ProjectManagement', 'Chennai', 'Graduate', 'Yes', 'Yes', 'intermediate', 'No', 'Yes', 20, 196, 5, 145, 785, 147, 221, 1477), (217, 'Data_camp', 'Dataanalysis', 'Hyderabad', 'UnderGraduate', 'no', 'no', 'advanced', 'Yes', 'Yes', 19, 190, 5, 140, 763, 141, 213, 1421), (218, 'innomatics', 'DigitalTransformation', 'Ahmedabad', 'Doctorate', 'Yes', 'no', 'beginer', 'No', 'Yes', 17, 182, 4, 134, 740, 134, 196, 1296), (219, '360DigiTMG', 'ProjectManagement', 'Pune', 'Graduate', 'Yes', 'Yes', 'advanced', 'Yes', 'Yes', 12, 143, 3, 99, 645, 98, 163, 1031), (220, 'Edvancer', 'ProjectManagement', 'Bengaluru', 'Graduate', 'no', 'no', 'advanced', 'Yes', 'Yes', 12, 141, 3, 97, 641, 97, 160, 1028), (221, 'innomatics', 'DigitalMarketing', 'Hyderabad', 'Graduate', 'no', 'Yes', 'advanced', 'Yes', 'Yes', 4, 63, 1, 36, 299, 37, 78, 497), (222, 'innomatics', 'CloudComputing', 'Ahmedabad', 'Graduate', 'Yes', 'Yes', 'intermediate', 'No', 'Yes', 1, 48, 1, 22, 234, 23, 60, 376), (223, 'innomatics', 'python', 'Bengaluru', 'Graduate', 'Yes', 'Yes', 'intermediate', 'No', 'Yes', 5, 70, 1, 42, 323, 43, 85, 533), (224, 'innomatics', 'BigData', 'Ahmedabad', 'Graduate', 'no', 'Yes', 'advanced', 'No', 'Yes', 8, 95, 4, 64, 424, 65, 116, 730), (225, 'Great_Learn', 'ArtificialIntelligence', 'Delhi', 'Graduate', 'no', 'Yes', 'beginer', 'No', 'Yes', 8, 107, 3, 77, 636, 78, 128, 811), (226, 'Simple_learn', 'DataScience', 'Delhi', 'UnderGraduate', 'no', 'Yes', 'beginer', 'No', 'Yes', 8, 101, 2, 68, 448, 70, 117, 768), (227, 'Guvi', 'ProjectManagement', 'Delhi', 'Doctorate', 'no', 'no', 'advanced', 'Yes', 'Yes', 13, 139, 3, 89, 569, 90, 158, 1026), (228, 'Coursera', 'DataScience', 'Hyderabad', 'Doctorate', 'Yes', 'no', 'advanced', 'Yes', 'Yes', 4, 57, 1, 32, 277, 33, 72, 453), (229, 'Great_Learn', 'DigitalMarketing', 'Bengaluru', 'Graduate', 'Yes', 'no', 'intermediate', 'No', 'Yes', 19, 192, 5, 145, 760, 146, 215, 1446), (230, 'Udemy', 'FullstackDataScience', 'Bengaluru', 'Graduate', 'no', 'no', 'beginer', 'Yes', 'Yes', 19, 189, 5, 139, 753, 140, 191, 1385), (231, 'ExcelR', 'CloudComputing', 'Hyderabad', 'UnderGraduate', 'Yes', 'no', 'intermediate', 'No', 'Yes', 14, 156, 4, 113, 633, 114, 175, 1134), (232, 'Data_camp', 'CloudComputing', 'Bengaluru', 'Doctorate', 'no', 'Yes', 'advanced', 'No', 'Yes', 11, 115, 3, 80, 503, 81, 133, 867), (233, 'Great_Learn', 'ArtificialIntelligence', 'Ahmedabad', 'UnderGraduate', 'no', 'no', 'beginer', 'No', 'Yes', 2, 51, 1, 24, 246, 25, 63, 414), (234, 'Upgrad', 'Dataanalysis', 'Pune', 'Doctorate', 'no', 'no', 'intermediate', 'No', 'Yes', 4, 62, 2, 35, 292, 36, 76, 489), (235, 'Udemy', 'DigitalMarketing', 'Calcutta', 'Graduate', 'no', 'no', 'intermediate', 'No', 'Yes', 9, 101, 2, 68, 450, 69, 119, 782), (236, 'Guvi', 'DataScience', 'Ahmedabad', 'UnderGraduate', 'Yes', 'no', 'beginer', 'Yes', 'Yes', 5, 65, 2, 38, 307, 39, 81, 512), (237, 'Coursera', 'DigitalTransformation', 'Hyderabad', 'UnderGraduate', 'no', 'Yes', 'beginer', 'Yes', 'Yes', 15, 160, 4, 117, 647, 118, 180, 1173), (238, 'Edx', 'FullstackDataScience', 'Bengaluru', 'UnderGraduate', 'Yes', 'no', 'intermediate', 'No', 'Yes', 13, 140, 3, 100, 580, 101, 159, 1022), (239, 'Edx', 'Dataanalysis', 'Kanpour', 'UnderGraduate', 'no', 'Yes', 'advanced', 'Yes', 'Yes', 3, 51, 1, 24, 246, 25, 62, 405), (240, 'Edvancer', 'python', 'Chennai', 'UnderGraduate', 'Yes', 'no', 'advanced', 'No', 'Yes', 16, 171, 4, 125, 685, 126, 191, 1256), (241, 'Edureka', 'FullstackDataScience', 'Ahmedabad', 'Doctorate', 'Yes', 'Yes', 'intermediate', 'No', 'Yes', 16, 171, 4, 125, 685, 126, 191, 1255), (242, 'innomatics', 'Dataanalysis', 'Delhi', 'Graduate', 'Yes', 'no', 'beginer', 'Yes', 'Yes', 13, 141, 3, 101, 586, 102, 160, 1043), (243, 'Simple_learn', 'BigData', 'Kanpour', 'UnderGraduate', 'Yes', 'Yes', 'advanced', 'No', 'Yes', 12, 124, 3, 88, 531, 89, 143, 928), (244, 'Upgrad', 'DigitalMarketing', 'Chennai', 'Doctorate', 'Yes', 'Yes', 'advanced', 'Yes', 'Yes', 13, 135, 3, 96, 565, 97, 154, 1006), (245, 'Udemy', 'python', 'Mumbai', 'UnderGraduate', 'Yes', 'no', 'beginer', 'No', 'Yes', 3, 57, 1, 32, 277, 33, 72, 453), (246, 'Edx', 'BigData', 'Bengaluru', 'UnderGraduate', 'no', 'no', 'intermediate', 'Yes', 'Yes', 18, 187, 5, 139, 747, 142, 210, 1409), (247, 'Data_camp', 'BigData', 'Pune', 'Doctorate', 'no', 'no', 'beginer', 'No', 'Yes', 17, 174, 4, 128, 700, 129, 195, 1289), (248, 'Simple_learn', 'FullstackDataScience', 'Mumbai', 'Doctorate', 'Yes', 'Yes', 'intermediate', 'No', 'Yes', 14, 147, 4, 106, 605, 107, 166, 1083), (249, 'Great_Learn', 'python', 'Bengaluru', 'UnderGraduate', 'Yes', 'no', 'intermediate', 'No', 'Yes', 3, 61, 2, 34, 289, 35, 75, 474), (250, 'Coursera', 'Dataanalysis', 'Pune', 'UnderGraduate', 'no', 'no', 'advanced', 'Yes', 'Yes', 18, 184, 4, 136, 738, 137, 207, 1367), (251, 'ExcelR', 'DigitalTransformation', 'Pune', 'UnderGraduate', 'no', 'no', 'beginer', 'No', 'Yes', 16, 172, 4, 126, 692, 127, 193, 1264), (252, '360DigiTMG', 'DataScience', 'Calcutta', 'Graduate', 'Yes', 'no', 'advanced', 'No', 'Yes', 3, 53, 2, 39, 253, 40, 81, 515), (253, 'Coursera', 'DataScience', 'Ahmedabad', 'UnderGraduate', 'no', 'no', 'beginer', 'Yes', 'Yes', 11, 117, 3, 81, 510, 82, 136, 881), (254, 'Simple_learn', 'DigitalMarketing', 'Chennai', 'Doctorate', 'no', 'Yes', 'advanced', 'No', 'Yes', 18, 181, 4, 134, 727, 135, 203, 1346), (255, 'Great_Learn', 'DigitalMarketing', 'Chennai', 'Graduate', 'no', 'no', 'intermediate', 'No', 'Yes', 8, 88, 2, 58, 396, 59, 105, 674), (256, 'Datatrain', 'DigitalMarketing', 'Bengaluru', 'Graduate', 'Yes', 'Yes', 'intermediate', 'Yes', 'Yes', 15, 161, 4, 116, 647, 118, 180, 1164), (257, 'Edvancer', 'Dataanalysis', 'Ahmedabad', 'Doctorate', 'no', 'no', 'beginer', 'No', 'Yes', 15, 161, 4, 116, 648, 118, 180, 1167), (258, 'Simple_learn', 'FullstackDataScience', 'Pune', 'Graduate', 'Yes', 'no', 'beginer', 'Yes', 'Yes', 10, 107, 3, 73, 471, 74, 126, 811), (259, 'Edx', 'CloudComputing', 'Bengaluru', 'UnderGraduate', 'no', 'Yes', 'beginer', 'No', 'Yes', 16, 167, 4, 122, 671, 123, 187, 1225), (260, 'innomatics', 'DigitalTransformation', 'Ahmedabad', 'Graduate', 'Yes', 'no', 'beginer', 'No', 'Yes', 13, 141, 3, 101, 586, 102, 160, 1043), (261, 'innomatics', 'BigData', 'Calcutta', 'UnderGraduate', 'no', 'Yes', 'intermediate', 'Yes', 'Yes', 4, 61, 1, 34, 290, 35, 79, 475), (262, 'Simple_learn', 'FullstackDataScience', 'Ahmedabad', 'Graduate', 'no', 'no', 'beginer', 'Yes', 'Yes', 18, 182, 4, 133, 712, 135, 205, 1356), (263, 'Data_camp', 'Dataanalysis', 'Kanpour', 'Doctorate', 'Yes', 'Yes', 'intermediate', 'Yes', 'Yes', 15, 165, 4, 119, 663, 121, 185, 1208), (264, 'Data_camp', 'FullstackDataScience', 'Chennai', 'UnderGraduate', 'Yes', 'Yes', 'advanced', 'Yes', 'Yes', 3, 56, 1, 29, 267, 30, 70, 438), (265, 'Simple_learn', 'python', 'Pune', 'Graduate', 'no', 'Yes', 'advanced', 'Yes', 'Yes', 15, 153, 4, 111, 624, 112, 172, 1124), (266, 'Udemy', 'Dataanalysis', 'Hyderabad', 'Graduate', 'no', 'no', 'beginer', 'Yes', 'Yes', 1, 46, 1, 20, 227, 21, 57, 355), (267, '360DigiTMG', 'DataScience', 'Delhi', 'UnderGraduate', 'Yes', 'Yes', 'intermediate', 'No', 'Yes', 3, 58, 1, 31, 278, 32, 72, 452), (268, 'Edx', 'python', 'Kanpour', 'Graduate', 'no', 'Yes', 'beginer', 'No', 'Yes', 1, 47, 1, 21, 232, 22, 59, 364), (269, 'Simple_learn', 'Dataanalysis', 'Delhi', 'Doctorate', 'no', 'Yes', 'beginer', 'No', 'Yes', 10, 105, 2, 70, 462, 72, 123, 796), (270, 'Guvi', 'python', 'Pune', 'UnderGraduate', 'no', 'no', 'beginer', 'Yes', 'Yes', 6, 75, 2, 47, 347, 48, 92, 585), (271, 'ExcelR', 'DigitalTransformation', 'Ahmedabad', 'Graduate', 'no', 'no', 'intermediate', 'Yes', 'Yes', 11, 111, 3, 75, 484, 77, 129, 836), (272, '360DigiTMG', 'DataScience', 'Bengaluru', 'Graduate', 'no', 'Yes', 'beginer', 'No', 'Yes', 6, 78, 2, 51, 356, 52, 95, 602), (273, 'innomatics', 'ArtificialIntelligence', 'Calcutta', 'Graduate', 'no', 'no', 'intermediate', 'No', 'Yes', 11, 114, 3, 79, 498, 80, 133, 863), (274, 'Coursera', 'FullstackDataScience', 'Calcutta', 'UnderGraduate', 'Yes', 'no', 'intermediate', 'No', 'Yes', 8, 97, 2, 65, 431, 67, 105, 743), (275, 'ExcelR', 'DigitalTransformation', 'Delhi', 'Doctorate', 'Yes', 'Yes', 'intermediate', 'No', 'Yes', 1, 42, 1, 16, 209, 17, 52, 320), (276, '360DigiTMG', 'CloudComputing', 'Bengaluru', 'UnderGraduate', 'Yes', 'Yes', 'intermediate', 'No', 'Yes', 20, 198, 5, 148, 798, 149, 224, 1495), (277, 'Edx', 'CloudComputing', 'Calcutta', 'Graduate', 'no', 'Yes', 'advanced', 'No', 'Yes', 15, 160, 4, 115, 645, 117, 179, 1167), (278, '360DigiTMG', 'ProjectManagement', 'Mumbai', 'UnderGraduate', 'Yes', 'Yes', 'intermediate', 'No', 'Yes', 14, 147, 4, 105, 603, 106, 166, 1082), (279, 'Data_camp', 'python', 'Mumbai', 'UnderGraduate', 'Yes', 'no', 'intermediate', 'No', 'Yes', 10, 96, 2, 63, 429, 65, 114, 735), (280, 'innomatics', 'DataScience', 'Ahmedabad', 'Graduate', 'no', 'no', 'beginer', 'Yes', 'Yes', 16, 172, 4, 125, 692, 127, 193, 1271), (281, '360DigiTMG', 'BigData', 'Chennai', 'UnderGraduate', 'Yes', 'Yes', 'advanced', 'No', 'Yes', 11, 121, 3, 84, 520, 85, 140, 905), (282, 'ExcelR', 'CloudComputing', 'Kanpour', 'UnderGraduate', 'Yes', 'Yes', 'advanced', 'No', 'Yes', 8, 90, 2, 58, 404, 60, 107, 690), (283, 'ExcelR', 'Dataanalysis', 'Calcutta', 'UnderGraduate', 'no', 'no', 'intermediate', 'Yes', 'Yes', 19, 188, 5, 139, 755, 140, 211, 1405), (284, 'Coursera', 'Dataanalysis', 'Delhi', 'Graduate', 'Yes', 'Yes', 'advanced', 'Yes', 'Yes', 18, 185, 5, 135, 741, 137, 207, 1378), (285, 'Datatrain', 'DigitalTransformation', 'Bengaluru', 'UnderGraduate', 'no', 'Yes', 'advanced', 'Yes', 'Yes', 6, 74, 2, 45, 341, 47, 90, 574), (286, 'Edx', 'BigData', 'Pune', 'Graduate', 'no', 'no', 'beginer', 'No', 'Yes', 17, 178, 4, 131, 715, 132, 200, 1322), (287, 'Edvancer', 'ArtificialIntelligence', 'Hyderabad', 'Graduate', 'Yes', 'Yes', 'beginer', 'No', 'Yes', 9, 106, 3, 71, 467, 73, 124, 804), (288, '360DigiTMG', 'BigData', 'Chennai', 'UnderGraduate', 'Yes', 'no', 'beginer', 'Yes', 'Yes', 17, 175, 4, 128, 703, 129, 196, 1294), (289, 'Great_Learn', 'ProjectManagement', 'Mumbai', 'Graduate', 'Yes', 'Yes', 'intermediate', 'No', 'Yes', 8, 98, 2, 65, 437, 67, 112, 749), (290, 'Coursera', 'DataScience', 'Pune', 'Graduate', 'Yes', 'Yes', 'advanced', 'Yes', 'Yes', 9, 101, 2, 68, 448, 69, 119, 769), (291, 'Upgrad', 'ArtificialIntelligence', 'Bengaluru', 'Doctorate', 'Yes', 'no', 'beginer', 'No', 'Yes', 6, 72, 2, 44, 335, 45, 88, 563), (292, 'Coursera', 'CloudComputing', 'Delhi', 'Doctorate', 'Yes', 'no', 'intermediate', 'No', 'Yes', 17, 178, 4, 131, 715, 132, 200, 1322), (293, 'ExcelR', 'ArtificialIntelligence', 'Bengaluru', 'Graduate', 'Yes', 'Yes', 'advanced', 'No', 'Yes', 14, 145, 4, 104, 599, 105, 164, 1073), (294, 'Edvancer', 'python', 'Chennai', 'Doctorate', 'Yes', 'Yes', 'intermediate', 'No', 'Yes', 2, 49, 1, 22, 238, 23, 61, 376), (295, 'Data_camp', 'DataScience', 'Hyderabad', 'Doctorate', 'no', 'no', 'beginer', 'No', 'Yes', 1, 44, 1, 18, 220, 19, 55, 339), (296, 'Great_Learn', 'ProjectManagement', 'Mumbai', 'Doctorate', 'Yes', 'Yes', 'advanced', 'Yes', 'Yes', 4, 64, 2, 35, 300, 37, 78, 495), (297, 'Simple_learn', 'BigData', 'Bengaluru', 'Doctorate', 'Yes', 'Yes', 'advanced', 'No', 'Yes', 18, 186, 5, 138, 747, 139, 209, 1390), (298, 'Datatrain', 'DigitalTransformation', 'Chennai', 'Doctorate', 'Yes', 'Yes', 'intermediate', 'Yes', 'Yes', 13, 139, 3, 98, 579, 100, 158, 1028), (299, 'Edvancer', 'ArtificialIntelligence', 'Chennai', 'UnderGraduate', 'no', 'Yes', 'intermediate', 'Yes', 'Yes', 16, 171, 4, 125, 689, 126, 192, 1264), (300, 'Edureka', 'DigitalMarketing', 'Chennai', 'Graduate', 'no', 'no', 'intermediate', 'Yes', 'Yes', 16, 174, 4, 127, 700, 129, 195, 1287), (301, 'Great_Learn', 'ArtificialIntelligence', 'Delhi', 'Graduate', 'no', 'no', 'advanced', 'No', 'Yes', 17, 182, 5, 134, 730, 135, 204, 1353), (302, 'innomatics', 'CloudComputing', 'Kanpour', 'Graduate', 'no', 'Yes', 'advanced', 'No', 'Yes', 1, 45, 1, 19, 221, 20, 56, 342), (303, 'Upgrad', 'ProjectManagement', 'Calcutta', 'Graduate', 'no', 'Yes', 'advanced', 'Yes', 'Yes', 8, 97, 2, 65, 434, 66, 115, 745), (304, 'Udemy', 'FullstackDataScience', 'Chennai', 'Doctorate', 'Yes', 'Yes', 'intermediate', 'Yes', 'Yes', 17, 176, 4, 120, 709, 121, 198, 1307), (305, 'Guvi', 'ProjectManagement', 'Pune', 'Graduate', 'no', 'no', 'advanced', 'Yes', 'Yes', 3, 55, 1, 27, 263, 29, 68, 424), (306, 'Simple_learn', 'BigData', 'Bengaluru', 'UnderGraduate', 'no', 'no', 'intermediate', 'No', 'Yes', 1, 42, 1, 16, 205, 17, 51, 311), (307, '360DigiTMG', 'DigitalMarketing', 'Hyderabad', 'UnderGraduate', 'no', 'no', 'intermediate', 'No', 'Yes', 6, 83, 2, 54, 377, 55, 100, 641), (308, 'Coursera', 'ArtificialIntelligence', 'Chennai', 'Graduate', 'Yes', 'Yes', 'intermediate', 'Yes', 'Yes', 7, 92, 2, 61, 415, 62, 110, 710), (309, 'Simple_learn', 'CloudComputing', 'Bengaluru', 'Graduate', 'no', 'Yes', 'advanced', 'Yes', 'Yes', 19, 189, 4, 129, 754, 131, 212, 1379), (310, 'ExcelR', 'python', 'Ahmedabad', 'Doctorate', 'Yes', 'no', 'intermediate', 'No', 'Yes', 18, 187, 4, 128, 752, 130, 211, 1370), (311, 'Udemy', 'FullstackDataScience', 'Bengaluru', 'UnderGraduate', 'Yes', 'Yes', 'intermediate', 'Yes', 'Yes', 3, 55, 1, 28, 264, 29, 68, 425), (312, 'Great_Learn', 'Dataanalysis', 'Pune', 'UnderGraduate', 'Yes', 'Yes', 'advanced', 'No', 'Yes', 4, 61, 1, 33, 289, 35, 75, 473), (313, 'Upgrad', 'ProjectManagement', 'Bengaluru', 'Doctorate', 'Yes', 'no', 'intermediate', 'No', 'Yes', 15, 156, 4, 112, 769, 114, 175, 1143), (314, 'Udemy', 'python', 'Hyderabad', 'Doctorate', 'Yes', 'no', 'intermediate', 'Yes', 'Yes', 15, 163, 4, 118, 650, 119, 182, 1197), (315, 'Udemy', 'BigData', 'Kanpour', 'Doctorate', 'no', 'no', 'beginer', 'Yes', 'Yes', 12, 127, 3, 90, 542, 91, 146, 952), (316, 'ExcelR', 'DataScience', 'Hyderabad', 'Graduate', 'Yes', 'no', 'beginer', 'No', 'Yes', 7, 90, 2, 59, 407, 61, 108, 695), (317, 'innomatics', 'FullstackDataScience', 'Mumbai', 'UnderGraduate', 'no', 'no', 'advanced', 'Yes', 'Yes', 3, 54, 1, 27, 258, 28, 66, 413), (318, 'Udemy', 'DigitalMarketing', 'Calcutta', 'Doctorate', 'Yes', 'Yes', 'beginer', 'No', 'Yes', 8, 92, 4, 60, 412, 62, 109, 704), (319, 'Datatrain', 'DigitalMarketing', 'Chennai', 'UnderGraduate', 'no', 'no', 'advanced', 'No', 'Yes', 19, 191, 5, 141, 767, 143, 215, 1433), (320, 'Udemy', 'DigitalMarketing', 'Hyderabad', 'Graduate', 'no', 'no', 'beginer', 'Yes', 'Yes', 12, 130, 3, 92, 550, 93, 149, 969), (321, 'Edvancer', 'ProjectManagement', 'Chennai', 'Graduate', 'Yes', 'no', 'intermediate', 'Yes', 'Yes', 11, 115, 3, 80, 503, 81, 134, 870), (322, 'innomatics', 'python', 'Bengaluru', 'UnderGraduate', 'no', 'Yes', 'beginer', 'Yes', 'Yes', 11, 114, 3, 79, 502, 80, 133, 860), (323, 'Edureka', 'python', 'Bengaluru', 'Doctorate', 'no', 'no', 'beginer', 'No', 'Yes', 19, 191, 5, 141, 764, 142, 214, 1427), (324, 'Edureka', 'Dataanalysis', 'Ahmedabad', 'Doctorate', 'Yes', 'no', 'advanced', 'No', 'Yes', 8, 93, 2, 62, 418, 63, 111, 714), (325, 'Simple_learn', 'BigData', 'Hyderabad', 'Graduate', 'Yes', 'no', 'intermediate', 'No', 'Yes', 17, 182, 4, 133, 729, 135, 204, 1352), (326, 'Datatrain', 'DigitalTransformation', 'Ahmedabad', 'Graduate', 'Yes', 'Yes', 'beginer', 'Yes', 'Yes', 13, 134, 3, 95, 564, 96, 153, 997), (327, 'Coursera', 'BigData', 'Hyderabad', 'Doctorate', 'no', 'no', 'beginer', 'No', 'Yes', 11, 114, 3, 78, 496, 80, 133, 859), (328, 'Guvi', 'python', 'Hyderabad', 'Doctorate', 'no', 'Yes', 'advanced', 'Yes', 'Yes', 13, 133, 3, 94, 558, 95, 152, 987), (329, 'Simple_learn', 'FullstackDataScience', 'Bengaluru', 'Doctorate', 'Yes', 'Yes', 'advanced', 'Yes', 'Yes', 13, 129, 3, 91, 547, 92, 148, 962), (330, 'Upgrad', 'BigData', 'Pune', 'Doctorate', 'no', 'no', 'beginer', 'No', 'Yes', 13, 127, 3, 88, 539, 90, 146, 946), (331, 'Datatrain', 'BigData', 'Bengaluru', 'Graduate', 'no', 'Yes', 'beginer', 'No', 'Yes', 17, 173, 4, 127, 697, 128, 194, 1282), (332, 'Upgrad', 'ProjectManagement', 'Hyderabad', 'Doctorate', 'Yes', 'no', 'intermediate', 'Yes', 'Yes', 17, 178, 4, 131, 715, 132, 200, 1321), (333, 'Upgrad', 'DataScience', 'Mumbai', 'UnderGraduate', 'Yes', 'Yes', 'intermediate', 'No', 'Yes', 5, 67, 2, 39, 313, 40, 82, 551), (334, 'Upgrad', 'FullstackDataScience', 'Chennai', 'Graduate', 'Yes', 'no', 'intermediate', 'Yes', 'Yes', 19, 193, 5, 142, 775, 144, 217, 1448), (335, 'Datatrain', 'ArtificialIntelligence', 'Ahmedabad', 'Graduate', 'no', 'Yes', 'beginer', 'Yes', 'Yes', 16, 167, 4, 122, 674, 123, 188, 1233), (336, 'Great_Learn', 'DataScience', 'Hyderabad', 'UnderGraduate', 'Yes', 'no', 'intermediate', 'No', 'Yes', 13, 145, 4, 107, 612, 108, 168, 1098), (337, 'ExcelR', 'python', 'Calcutta', 'Graduate', 'no', 'Yes', 'advanced', 'No', 'Yes', 12, 142, 3, 101, 588, 102, 161, 1050), (338, 'Edvancer', 'ArtificialIntelligence', 'Hyderabad', 'Doctorate', 'no', 'Yes', 'beginer', 'No', 'Yes', 15, 169, 4, 123, 679, 124, 189, 1243), (339, 'Coursera', 'CloudComputing', 'Ahmedabad', 'UnderGraduate', 'Yes', 'Yes', 'beginer', 'Yes', 'Yes', 12, 124, 3, 87, 532, 88, 143, 923), (340, 'innomatics', 'BigData', 'Calcutta', 'Doctorate', 'Yes', 'Yes', 'intermediate', 'No', 'Yes', 6, 82, 2, 53, 372, 54, 99, 631), (341, 'Guvi', 'python', 'Mumbai', 'Graduate', 'Yes', 'no', 'advanced', 'No', 'Yes', 17, 177, 4, 131, 712, 131, 199, 1316), (342, 'Upgrad', 'ProjectManagement', 'Mumbai', 'Doctorate', 'Yes', 'Yes', 'beginer', 'No', 'Yes', 6, 82, 2, 52, 372, 54, 99, 631), (343, 'Data_camp', 'ArtificialIntelligence', 'Pune', 'UnderGraduate', 'no', 'Yes', 'beginer', 'No', 'Yes', 6, 83, 2, 54, 379, 55, 100, 643), (344, 'Great_Learn', 'DigitalTransformation', 'Delhi', 'Doctorate', 'no', 'Yes', 'beginer', 'No', 'Yes', 9, 106, 3, 72, 467, 73, 124, 806), (345, 'Great_Learn', 'Dataanalysis', 'Chennai', 'Doctorate', 'no', 'Yes', 'advanced', 'Yes', 'Yes', 13, 133, 3, 94, 558, 95, 152, 986), (346, 'Upgrad', 'DigitalTransformation', 'Calcutta', 'Graduate', 'no', 'Yes', 'beginer', 'Yes', 'Yes', 19, 190, 5, 141, 761, 142, 213, 1419), (347, 'ExcelR', 'DigitalTransformation', 'Bengaluru', 'Doctorate', 'Yes', 'Yes', 'beginer', 'No', 'Yes', 13, 143, 3, 102, 591, 103, 162, 1055), (348, 'innomatics', 'ProjectManagement', 'Hyderabad', 'Doctorate', 'Yes', 'no', 'advanced', 'No', 'Yes', 6, 78, 2, 50, 360, 51, 95, 610), (349, 'Edvancer', 'ProjectManagement', 'Chennai', 'Graduate', 'Yes', 'Yes', 'intermediate', 'Yes', 'Yes', 13, 140, 3, 100, 581, 101, 159, 1034), (350, 'Simple_learn', 'python', 'Mumbai', 'Graduate', 'Yes', 'Yes', 'intermediate', 'Yes', 'Yes', 6, 77, 2, 49, 354, 50, 94, 598), (351, 'Simple_learn', 'ProjectManagement', 'Delhi', 'Doctorate', 'Yes', 'no', 'intermediate', 'Yes', 'Yes', 12, 127, 3, 89, 539, 90, 146, 945), (352, 'Upgrad', 'CloudComputing', 'Mumbai', 'Graduate', 'Yes', 'no', 'intermediate', 'No', 'Yes', 20, 199, 5, 148, 799, 149, 224, 1495), (353, 'Datatrain', 'DataScience', 'Hyderabad', 'Doctorate', 'Yes', 'no', 'beginer', 'No', 'Yes', 3, 59, 1, 32, 280, 33, 72, 456), (354, 'innomatics', 'DataScience', 'Bengaluru', 'Doctorate', 'Yes', 'Yes', 'beginer', 'Yes', 'Yes', 11, 111, 3, 76, 485, 77, 130, 840), (355, 'Great_Learn', 'DigitalTransformation', 'Hyderabad', 'Doctorate', 'Yes', 'Yes', 'intermediate', 'Yes', 'Yes', 20, 199, 5, 149, 799, 149, 224, 1496), (356, 'ExcelR', 'Dataanalysis', 'Kanpour', 'Graduate', 'Yes', 'no', 'intermediate', 'No', 'Yes', 11, 113, 3, 78, 495, 79, 132, 857), (357, 'innomatics', 'CloudComputing', 'Pune', 'UnderGraduate', 'Yes', 'Yes', 'beginer', 'No', 'Yes', 5, 72, 2, 44, 335, 45, 88, 561), (358, 'Datatrain', 'DataScience', 'Chennai', 'UnderGraduate', 'Yes', 'no', 'beginer', 'No', 'Yes', 2, 50, 1, 24, 244, 25, 62, 388), (359, 'Great_Learn', 'python', 'Calcutta', 'Doctorate', 'Yes', 'no', 'intermediate', 'No', 'Yes', 13, 142, 3, 101, 588, 102, 161, 1049), (360, 'Upgrad', 'BigData', 'Calcutta', 'Doctorate', 'Yes', 'Yes', 'advanced', 'No', 'Yes', 13, 136, 3, 97, 570, 98, 155, 1011), (361, 'ExcelR', 'DigitalTransformation', 'Calcutta', 'UnderGraduate', 'no', 'no', 'advanced', 'No', 'Yes', 13, 140, 3, 100, 581, 101, 159, 1036), (362, 'Edureka', 'ArtificialIntelligence', 'Bengaluru', 'UnderGraduate', 'Yes', 'no', 'intermediate', 'No', 'Yes', 19, 187, 4, 137, 750, 139, 210, 1396), (363, 'Edureka', 'FullstackDataScience', 'Chennai', 'Graduate', 'no', 'no', 'beginer', 'No', 'Yes', 8, 94, 2, 62, 419, 63, 112, 718), (364, 'Edvancer', 'FullstackDataScience', 'Bengaluru', 'UnderGraduate', 'Yes', 'Yes', 'advanced', 'No', 'Yes', 9, 99, 2, 67, 440, 68, 117, 755), (365, 'Edureka', 'ProjectManagement', 'Hyderabad', 'Doctorate', 'Yes', 'no', 'beginer', 'Yes', 'Yes', 10, 108, 3, 74, 474, 75, 127, 818), (366, '360DigiTMG', 'Dataanalysis', 'Ahmedabad', 'Doctorate', 'Yes', 'Yes', 'intermediate', 'No', 'Yes', 15, 158, 4, 114, 639, 115, 177, 1156), (367, 'Datatrain', 'ProjectManagement', 'Mumbai', 'UnderGraduate', 'Yes', 'Yes', 'intermediate', 'No', 'Yes', 8, 92, 2, 61, 413, 62, 110, 706), (368, 'Great_Learn', 'python', 'Delhi', 'Graduate', 'Yes', 'no', 'intermediate', 'Yes', 'Yes', 10, 110, 3, 75, 481, 76, 128, 832), (369, 'Guvi', 'ArtificialIntelligence', 'Chennai', 'Graduate', 'Yes', 'no', 'beginer', 'No', 'Yes', 9, 97, 2, 65, 432, 66, 115, 740), (370, 'Edx', 'ArtificialIntelligence', 'Mumbai', 'Graduate', 'Yes', 'Yes', 'advanced', 'Yes', 'Yes', 1, 43, 1, 17, 208, 18, 54, 331), (371, 'Coursera', 'ProjectManagement', 'Pune', 'Doctorate', 'Yes', 'Yes', 'beginer', 'Yes', 'Yes', 19, 186, 5, 136, 746, 138, 209, 1386), (372, 'Udemy', 'python', 'Pune', 'Graduate', 'no', 'Yes', 'beginer', 'No', 'Yes', 7, 85, 2, 55, 386, 56, 103, 657), (373, 'Udemy', 'FullstackDataScience', 'Pune', 'UnderGraduate', 'no', 'no', 'advanced', 'Yes', 'Yes', 3, 57, 1, 30, 270, 31, 70, 437), (374, 'Udemy', 'Dataanalysis', 'Ahmedabad', 'Graduate', 'no', 'Yes', 'advanced', 'No', 'Yes', 7, 87, 2, 57, 393, 58, 104, 670), (375, 'Data_camp', 'CloudComputing', 'Mumbai', 'UnderGraduate', 'Yes', 'no', 'beginer', 'No', 'Yes', 13, 129, 3, 91, 547, 92, 148, 963), (376, 'Coursera', 'DigitalTransformation', 'Kanpour', 'Doctorate', 'Yes', 'Yes', 'advanced', 'Yes', 'Yes', 13, 131, 3, 92, 549, 93, 149, 967), (377, 'Simple_learn', 'DigitalMarketing', 'Mumbai', 'Doctorate', 'Yes', 'no', 'beginer', 'No', 'Yes', 2, 49, 1, 23, 241, 24, 61, 383), (378, 'Edx', 'BigData', 'Chennai', 'Doctorate', 'no', 'Yes', 'advanced', 'No', 'Yes', 4, 61, 1, 34, 289, 35, 75, 474), (379, 'Edvancer', 'BigData', 'Bengaluru', 'UnderGraduate', 'Yes', 'Yes', 'intermediate', 'Yes', 'Yes', 12, 128, 3, 90, 543, 91, 147, 953), (380, 'Edureka', 'DataScience', 'Hyderabad', 'Doctorate', 'no', 'no', 'intermediate', 'Yes', 'Yes', 2, 49, 1, 22, 238, 23, 61, 376), (381, 'ExcelR', 'Dataanalysis', 'Pune', 'Graduate', 'Yes', 'Yes', 'advanced', 'No', 'Yes', 11, 121, 3, 84, 519, 85, 139, 897), (382, 'Guvi', 'CloudComputing', 'Bengaluru', 'Doctorate', 'no', 'no', 'intermediate', 'Yes', 'Yes', 18, 178, 4, 131, 705, 132, 199, 1318), (383, 'Data_camp', 'DigitalTransformation', 'Chennai', 'Graduate', 'Yes', 'Yes', 'intermediate', 'No', 'Yes', 13, 136, 3, 97, 571, 98, 155, 1012), (384, 'Great_Learn', 'DigitalMarketing', 'Kanpour', 'UnderGraduate', 'no', 'no', 'intermediate', 'Yes', 'Yes', 17, 173, 4, 126, 697, 128, 194, 1281), (385, 'Coursera', 'FullstackDataScience', 'Hyderabad', 'Graduate', 'no', 'Yes', 'beginer', 'Yes', 'Yes', 13, 135, 3, 95, 565, 97, 154, 999), (386, 'Data_camp', 'Dataanalysis', 'Bengaluru', 'UnderGraduate', 'no', 'Yes', 'beginer', 'No', 'Yes', 14, 154, 3, 78, 492, 79, 131, 852), (387, 'Edureka', 'CloudComputing', 'Hyderabad', 'Graduate', 'Yes', 'no', 'advanced', 'Yes', 'Yes', 16, 169, 4, 124, 680, 125, 189, 1246), (388, 'Edvancer', 'CloudComputing', 'Mumbai', 'Doctorate', 'Yes', 'no', 'beginer', 'Yes', 'Yes', 19, 192, 5, 144, 787, 145, 221, 1475), (389, 'Data_camp', 'Dataanalysis', 'Delhi', 'Doctorate', 'no', 'no', 'intermediate', 'Yes', 'Yes', 7, 83, 2, 54, 377, 55, 100, 640), (390, 'Coursera', 'python', 'Chennai', 'UnderGraduate', 'Yes', 'Yes', 'beginer', 'Yes', 'Yes', 2, 51, 1, 24, 246, 25, 63, 389), (391, 'Edx', 'ArtificialIntelligence', 'Hyderabad', 'Graduate', 'no', 'Yes', 'beginer', 'No', 'Yes', 16, 167, 4, 122, 671, 123, 187, 1225), (392, 'ExcelR', 'DataScience', 'Kanpour', 'UnderGraduate', 'no', 'no', 'advanced', 'No', 'Yes', 12, 124, 3, 87, 531, 88, 143, 928), (393, 'innomatics', 'ArtificialIntelligence', 'Chennai', 'Graduate', 'no', 'no', 'beginer', 'No', 'Yes', 10, 110, 3, 75, 481, 76, 128, 831), (394, 'Great_Learn', 'BigData', 'Ahmedabad', 'Graduate', 'Yes', 'no', 'beginer', 'No', 'Yes', 17, 178, 4, 131, 714, 132, 199, 1317), (395, 'ExcelR', 'ProjectManagement', 'Chennai', 'Graduate', 'no', 'Yes', 'intermediate', 'No', 'Yes', 3, 57, 1, 30, 270, 31, 70, 439), (396, 'Data_camp', 'python', 'Mumbai', 'Graduate', 'Yes', 'Yes', 'intermediate', 'No', 'Yes', 3, 54, 1, 27, 258, 28, 66, 413), (397, 'Coursera', 'python', 'Kanpour', 'Doctorate', 'no', 'Yes', 'beginer', 'No', 'Yes', 15, 166, 4, 121, 666, 122, 185, 1215), (398, 'Great_Learn', 'ProjectManagement', 'Bengaluru', 'Graduate', 'Yes', 'no', 'intermediate', 'Yes', 'Yes', 11, 115, 3, 80, 475, 81, 132, 853), (399, 'Edx', 'FullstackDataScience', 'Ahmedabad', 'Graduate', 'no', 'Yes', 'intermediate', 'No', 'Yes', 2, 51, 1, 24, 246, 25, 63, 384), (400, 'Edx', 'Dataanalysis', 'Pune', 'UnderGraduate', 'no', 'Yes', 'advanced', 'Yes', 'Yes', 2, 48, 1, 17, 231, 18, 59, 363), (401, 'innomatics', 'ProjectManagement', 'Hyderabad', 'Doctorate', 'no', 'no', 'advanced', 'Yes', 'Yes', 16, 172, 4, 126, 692, 127, 193, 1272), (402, 'Upgrad', 'FullstackDataScience', 'Delhi', 'Graduate', 'no', 'no', 'beginer', 'No', 'Yes', 13, 143, 3, 103, 592, 104, 161, 1057), (403, 'Simple_learn', 'python', 'Bengaluru', 'Graduate', 'Yes', 'Yes', 'beginer', 'No', 'Yes', 12, 125, 3, 88, 525, 89, 144, 936), (404, 'Datatrain', 'DigitalMarketing', 'Kanpour', 'UnderGraduate', 'Yes', 'no', 'intermediate', 'Yes', 'Yes', 17, 176, 4, 131, 720, 133, 201, 1329), (405, 'Guvi', 'CloudComputing', 'Chennai', 'Graduate', 'no', 'no', 'beginer', 'Yes', 'Yes', 13, 139, 3, 99, 579, 100, 158, 1030), (406, 'Coursera', 'CloudComputing', 'Bengaluru', 'Graduate', 'Yes', 'Yes', 'beginer', 'Yes', 'Yes', 3, 57, 1, 30, 273, 31, 71, 444), (407, 'Edvancer', 'ArtificialIntelligence', 'Pune', 'Graduate', 'no', 'Yes', 'advanced', 'No', 'Yes', 5, 65, 2, 38, 306, 39, 80, 506), (408, 'Upgrad', 'DigitalMarketing', 'Ahmedabad', 'UnderGraduate', 'Yes', 'no', 'intermediate', 'No', 'Yes', 6, 74, 2, 46, 341, 47, 90, 574), (409, 'Edureka', 'Dataanalysis', 'Bengaluru', 'Graduate', 'no', 'no', 'beginer', 'Yes', 'Yes', 10, 109, 3, 75, 478, 76, 127, 826), (410, 'Data_camp', 'python', 'Mumbai', 'Graduate', 'Yes', 'Yes', 'beginer', 'Yes', 'Yes', 5, 67, 2, 40, 315, 41, 83, 524), (411, 'Edx', 'ArtificialIntelligence', 'Bengaluru', 'Graduate', 'Yes', 'no', 'beginer', 'No', 'Yes', 19, 194, 5, 143, 779, 145, 219, 1458), (412, 'Edx', 'BigData', 'Chennai', 'UnderGraduate', 'no', 'no', 'advanced', 'Yes', 'Yes', 20, 196, 5, 145, 787, 147, 221, 1474), (413, 'Great_Learn', 'ProjectManagement', 'Hyderabad', 'Doctorate', 'Yes', 'Yes', 'beginer', 'Yes', 'Yes', 18, 175, 4, 128, 692, 129, 151, 979), (414, 'Simple_learn', 'DataScience', 'Delhi', 'Doctorate', 'no', 'Yes', 'beginer', 'Yes', 'Yes', 6, 79, 2, 51, 363, 52, 96, 616), (415, 'Simple_learn', 'ArtificialIntelligence', 'Hyderabad', 'UnderGraduate', 'no', 'no', 'beginer', 'Yes', 'Yes', 16, 169, 4, 123, 680, 125, 189, 1247), (416, 'Guvi', 'ProjectManagement', 'Mumbai', 'Graduate', 'no', 'no', 'beginer', 'Yes', 'Yes', 7, 84, 2, 55, 382, 56, 68, 649), (417, 'Edvancer', 'ProjectManagement', 'Ahmedabad', 'Doctorate', 'no', 'Yes', 'intermediate', 'No', 'Yes', 5, 62, 1, 30, 406, 31, 65, 401), (418, 'Upgrad', 'ProjectManagement', 'Bengaluru', 'Graduate', 'no', 'Yes', 'advanced', 'No', 'Yes', 5, 61, 1, 34, 290, 35, 75, 475), (419, 'ExcelR', 'DigitalMarketing', 'Calcutta', 'Graduate', 'no', 'Yes', 'beginer', 'Yes', 'Yes', 13, 142, 3, 101, 724, 102, 161, 1049), (420, 'Udemy', 'ProjectManagement', 'Kanpour', 'Doctorate', 'no', 'Yes', 'beginer', 'Yes', 'Yes', 19, 192, 4, 141, 770, 143, 216, 1440), (421, 'Edureka', 'CloudComputing', 'Kanpour', 'Graduate', 'Yes', 'no', 'beginer', 'Yes', 'Yes', 14, 152, 4, 110, 620, 111, 181, 1114), (422, 'Edx', 'DataScience', 'Chennai', 'UnderGraduate', 'Yes', 'Yes', 'intermediate', 'No', 'Yes', 11, 120, 3, 84, 524, 85, 140, 908), (423, 'innomatics', 'DataScience', 'Pune', 'Graduate', 'no', 'Yes', 'intermediate', 'No', 'Yes', 17, 174, 4, 128, 700, 129, 195, 1287), (424, 'innomatics', 'ProjectManagement', 'Pune', 'UnderGraduate', 'Yes', 'Yes', 'intermediate', 'No', 'Yes', 2, 50, 1, 24, 244, 25, 62, 388), (425, 'Edx', 'DigitalTransformation', 'Delhi', 'UnderGraduate', 'Yes', 'no', 'advanced', 'Yes', 'Yes', 8, 94, 2, 63, 421, 64, 112, 722), (426, 'ExcelR', 'DataScience', 'Delhi', 'Graduate', 'Yes', 'Yes', 'beginer', 'No', 'Yes', 5, 67, 2, 38, 312, 40, 82, 517), (427, 'Simple_learn', 'ProjectManagement', 'Pune', 'Graduate', 'Yes', 'Yes', 'intermediate', 'Yes', 'Yes', 17, 176, 4, 129, 708, 130, 198, 1303), (428, 'Edureka', 'Dataanalysis', 'Hyderabad', 'UnderGraduate', 'Yes', 'no', 'advanced', 'Yes', 'Yes', 7, 88, 2, 58, 397, 59, 106, 679), (429, 'Simple_learn', 'python', 'Bengaluru', 'Doctorate', 'no', 'Yes', 'advanced', 'No', 'Yes', 20, 196, 5, 148, 796, 149, 224, 1495), (430, 'Data_camp', 'DigitalTransformation', 'Calcutta', 'Graduate', 'Yes', 'Yes', 'beginer', 'No', 'Yes', 19, 193, 5, 143, 775, 144, 217, 1443), (431, 'innomatics', 'ProjectManagement', 'Calcutta', 'Graduate', 'Yes', 'no', 'advanced', 'Yes', 'Yes', 8, 92, 2, 61, 412, 62, 109, 705), (432, 'Data_camp', 'Dataanalysis', 'Calcutta', 'Doctorate', 'Yes', 'no', 'advanced', 'Yes', 'Yes', 11, 114, 3, 78, 493, 79, 132, 853), (433, 'Edvancer', 'BigData', 'Ahmedabad', 'Graduate', 'no', 'no', 'beginer', 'Yes', 'Yes', 12, 126, 3, 88, 536, 89, 145, 940), (434, 'Edvancer', 'Dataanalysis', 'Kanpour', 'Graduate', 'Yes', 'Yes', 'beginer', 'Yes', 'Yes', 20, 194, 5, 147, 794, 148, 223, 1494), (435, 'Datatrain', 'DigitalMarketing', 'Calcutta', 'Graduate', 'no', 'no', 'beginer', 'Yes', 'Yes', 13, 134, 3, 95, 564, 96, 153, 998), (436, 'Coursera', 'CloudComputing', 'Chennai', 'Doctorate', 'no', 'no', 'advanced', 'No', 'Yes', 8, 90, 2, 59, 404, 60, 107, 691), (437, 'Upgrad', 'DigitalMarketing', 'Calcutta', 'Doctorate', 'Yes', 'no', 'intermediate', 'Yes', 'Yes', 15, 156, 4, 111, 657, 113, 133, 866), (438, 'Upgrad', 'DataScience', 'Hyderabad', 'Graduate', 'no', 'no', 'intermediate', 'Yes', 'Yes', 16, 168, 4, 123, 677, 124, 189, 1238), (439, 'Coursera', 'CloudComputing', 'Mumbai', 'UnderGraduate', 'Yes', 'no', 'intermediate', 'Yes', 'Yes', 1, 44, 1, 18, 220, 19, 55, 340), (440, 'Coursera', 'ProjectManagement', 'Ahmedabad', 'Doctorate', 'Yes', 'no', 'intermediate', 'No', 'Yes', 18, 179, 4, 132, 720, 133, 201, 1330), (441, 'ExcelR', 'DigitalTransformation', 'Ahmedabad', 'Doctorate', 'Yes', 'Yes', 'advanced', 'Yes', 'Yes', 18, 185, 4, 137, 743, 138, 208, 1380), (442, 'Simple_learn', 'ProjectManagement', 'Ahmedabad', 'Doctorate', 'Yes', 'no', 'advanced', 'Yes', 'Yes', 8, 93, 2, 62, 416, 63, 111, 712), (443, 'Coursera', 'DigitalMarketing', 'Kanpour', 'UnderGraduate', 'Yes', 'Yes', 'advanced', 'No', 'Yes', 10, 109, 3, 75, 479, 76, 128, 828), (444, '360DigiTMG', 'DigitalMarketing', 'Hyderabad', 'Doctorate', 'Yes', 'Yes', 'advanced', 'No', 'Yes', 13, 129, 3, 91, 547, 92, 148, 962), (445, 'Simple_learn', 'python', 'Bengaluru', 'Graduate', 'Yes', 'no', 'intermediate', 'No', 'Yes', 1, 41, 1, 15, 207, 16, 52, 307), (446, '360DigiTMG', 'Dataanalysis', 'Kanpour', 'Graduate', 'no', 'Yes', 'advanced', 'Yes', 'Yes', 11, 118, 3, 84, 511, 83, 137, 886), (447, 'Great_Learn', 'CloudComputing', 'Chennai', 'Graduate', 'Yes', 'Yes', 'beginer', 'No', 'Yes', 6, 76, 2, 48, 351, 49, 93, 589), (448, 'innomatics', 'FullstackDataScience', 'Kanpour', 'UnderGraduate', 'no', 'no', 'intermediate', 'No', 'Yes', 14, 151, 3, 109, 616, 110, 170, 1110), (449, 'innomatics', 'DigitalTransformation', 'Kanpour', 'Doctorate', 'no', 'no', 'advanced', 'Yes', 'Yes', 10, 111, 3, 76, 485, 77, 130, 840), (450, 'Coursera', 'ArtificialIntelligence', 'Mumbai', 'Doctorate', 'no', 'Yes', 'beginer', 'No', 'Yes', 2, 51, 1, 25, 249, 26, 64, 396), (451, '360DigiTMG', 'ProjectManagement', 'Delhi', 'Doctorate', 'no', 'Yes', 'intermediate', 'No', 'Yes', 14, 152, 3, 109, 621, 111, 171, 1117), (452, 'Simple_learn', 'ArtificialIntelligence', 'Ahmedabad', 'Doctorate', 'no', 'Yes', 'beginer', 'No', 'Yes', 19, 189, 5, 140, 758, 141, 219, 1414), (453, 'Edvancer', 'DataScience', 'Delhi', 'Doctorate', 'no', 'no', 'beginer', 'Yes', 'Yes', 17, 180, 4, 133, 724, 134, 202, 1319), (454, 'Great_Learn', 'ProjectManagement', 'Hyderabad', 'Graduate', 'no', 'Yes', 'advanced', 'Yes', 'Yes', 10, 112, 3, 77, 490, 78, 131, 848), (455, 'Guvi', 'FullstackDataScience', 'Kanpour', 'Doctorate', 'no', 'no', 'intermediate', 'Yes', 'Yes', 14, 153, 4, 109, 622, 111, 172, 1120), (456, 'Udemy', 'python', 'Mumbai', 'Doctorate', 'Yes', 'Yes', 'beginer', 'No', 'Yes', 10, 111, 3, 77, 465, 78, 130, 842), (457, 'Great_Learn', 'ProjectManagement', 'Kanpour', 'Graduate', 'Yes', 'no', 'intermediate', 'Yes', 'Yes', 9, 106, 3, 72, 465, 73, 124, 802), (458, 'Datatrain', 'DigitalMarketing', 'Calcutta', 'UnderGraduate', 'Yes', 'no', 'advanced', 'No', 'Yes', 15, 156, 4, 112, 633, 114, 175, 1145), (459, 'Udemy', 'FullstackDataScience', 'Pune', 'Doctorate', 'no', 'no', 'intermediate', 'Yes', 'Yes', 4, 59, 1, 31, 280, 33, 72, 456), (460, 'Upgrad', 'DataScience', 'Delhi', 'Graduate', 'no', 'no', 'intermediate', 'Yes', 'Yes', 6, 75, 2, 47, 347, 48, 92, 578), (461, 'Guvi', 'DigitalTransformation', 'Hyderabad', 'Doctorate', 'Yes', 'no', 'advanced', 'No', 'Yes', 11, 118, 3, 84, 511, 83, 137, 882), (462, 'Edx', 'DataScience', 'Kanpour', 'Graduate', 'Yes', 'no', 'advanced', 'Yes', 'Yes', 2, 51, 1, 23, 247, 25, 63, 392), (463, 'Upgrad', 'ProjectManagement', 'Kanpour', 'UnderGraduate', 'Yes', 'no', 'beginer', 'No', 'Yes', 11, 118, 3, 84, 511, 83, 138, 883), (464, 'Simple_learn', 'CloudComputing', 'Delhi', 'UnderGraduate', 'no', 'Yes', 'beginer', 'No', 'Yes', 16, 169, 4, 124, 682, 125, 190, 1248), (465, 'Simple_learn', 'ArtificialIntelligence', 'Delhi', 'UnderGraduate', 'no', 'no', 'advanced', 'No', 'Yes', 12, 124, 3, 87, 532, 88, 143, 932), (466, 'Edx', 'python', 'Hyderabad', 'Graduate', 'no', 'Yes', 'advanced', 'No', 'Yes', 14, 148, 4, 105, 606, 107, 167, 1085), (467, 'Upgrad', 'FullstackDataScience', 'Kanpour', 'Graduate', 'Yes', 'Yes', 'advanced', 'No', 'Yes', 8, 88, 3, 91, 554, 92, 106, 677), (468, 'Great_Learn', 'python', 'Ahmedabad', 'Doctorate', 'Yes', 'Yes', 'advanced', 'Yes', 'Yes', 11, 113, 3, 78, 495, 79, 132, 858), (469, 'Guvi', 'DigitalTransformation', 'Ahmedabad', 'UnderGraduate', 'Yes', 'Yes', 'advanced', 'Yes', 'Yes', 2, 51, 1, 25, 249, 26, 64, 397), (470, 'innomatics', 'ProjectManagement', 'Bengaluru', 'Doctorate', 'Yes', 'no', 'intermediate', 'Yes', 'Yes', 20, 198, 5, 148, 794, 149, 223, 1492), (471, 'Udemy', 'Dataanalysis', 'Calcutta', 'Graduate', 'Yes', 'Yes', 'advanced', 'No', 'Yes', 9, 105, 3, 71, 462, 72, 123, 796), (472, 'Coursera', 'BigData', 'Pune', 'UnderGraduate', 'Yes', 'Yes', 'beginer', 'No', 'Yes', 15, 159, 4, 115, 642, 116, 178, 1161), (473, 'Edureka', 'BigData', 'Hyderabad', 'Graduate', 'no', 'no', 'advanced', 'No', 'Yes', 18, 177, 4, 129, 711, 131, 198, 1295), (474, 'Upgrad', 'DigitalMarketing', 'Calcutta', 'Graduate', 'no', 'no', 'advanced', 'Yes', 'Yes', 3, 56, 1, 28, 267, 30, 69, 432), (475, 'Simple_learn', 'python', 'Ahmedabad', 'Doctorate', 'Yes', 'Yes', 'advanced', 'Yes', 'Yes', 17, 174, 4, 127, 698, 128, 195, 1285), (476, 'Datatrain', 'DataScience', 'Chennai', 'UnderGraduate', 'Yes', 'no', 'advanced', 'No', 'Yes', 9, 97, 2, 64, 434, 66, 115, 745), (477, 'Datatrain', 'BigData', 'Hyderabad', 'Graduate', 'no', 'Yes', 'advanced', 'No', 'Yes', 13, 134, 3, 95, 562, 96, 153, 996), (478, 'Guvi', 'ArtificialIntelligence', 'Calcutta', 'UnderGraduate', 'no', 'Yes', 'intermediate', 'Yes', 'Yes', 5, 65, 2, 38, 306, 39, 80, 505), (479, 'Guvi', 'DataScience', 'Mumbai', 'Graduate', 'no', 'Yes', 'advanced', 'No', 'Yes', 11, 120, 3, 85, 515, 84, 138, 889), (480, 'Great_Learn', 'Dataanalysis', 'Hyderabad', 'Doctorate', 'no', 'Yes', 'intermediate', 'No', 'Yes', 17, 173, 4, 127, 697, 128, 194, 1280), (481, 'Udemy', 'FullstackDataScience', 'Chennai', 'UnderGraduate', 'Yes', 'Yes', 'beginer', 'No', 'Yes', 13, 139, 4, 103, 577, 104, 158, 1027), (482, 'Coursera', 'Dataanalysis', 'Delhi', 'Doctorate', 'no', 'no', 'advanced', 'Yes', 'Yes', 6, 77, 2, 49, 354, 50, 94, 595), (483, '360DigiTMG', 'DigitalTransformation', 'Pune', 'UnderGraduate', 'Yes', 'no', 'advanced', 'Yes', 'Yes', 18, 179, 4, 131, 720, 133, 201, 1329), (484, 'Datatrain', 'CloudComputing', 'Chennai', 'Graduate', 'Yes', 'Yes', 'advanced', 'No', 'Yes', 14, 145, 3, 104, 599, 105, 164, 1073), (485, 'Edureka', 'ArtificialIntelligence', 'Hyderabad', 'UnderGraduate', 'no', 'Yes', 'beginer', 'No', 'Yes', 14, 143, 3, 102, 592, 104, 162, 1058), (486, 'ExcelR', 'DataScience', 'Calcutta', 'Doctorate', 'Yes', 'Yes', 'advanced', 'No', 'Yes', 15, 159, 4, 115, 640, 117, 179, 1167), (487, 'Edx', 'DataScience', 'Mumbai', 'Graduate', 'Yes', 'Yes', 'beginer', 'No', 'Yes', 2, 51, 1, 24, 246, 25, 63, 390), (488, 'Edvancer', 'FullstackDataScience', 'Pune', 'UnderGraduate', 'Yes', 'Yes', 'advanced', 'Yes', 'Yes', 7, 85, 2, 54, 386, 56, 103, 657), (489, 'Upgrad', 'CloudComputing', 'Kanpour', 'UnderGraduate', 'no', 'Yes', 'advanced', 'No', 'Yes', 1, 42, 1, 15, 210, 16, 52, 307), (490, 'Guvi', 'DigitalMarketing', 'Ahmedabad', 'Graduate', 'Yes', 'Yes', 'intermediate', 'No', 'Yes', 9, 136, 3, 97, 569, 98, 155, 1010), (491, 'Data_camp', 'CloudComputing', 'Ahmedabad', 'Doctorate', 'no', 'Yes', 'beginer', 'Yes', 'Yes', 16, 171, 4, 124, 686, 126, 191, 1257), (492, 'innomatics', 'DigitalMarketing', 'Bengaluru', 'Doctorate', 'Yes', 'no', 'beginer', 'Yes', 'Yes', 12, 127, 3, 89, 539, 90, 146, 946), (493, 'ExcelR', 'BigData', 'Calcutta', 'Doctorate', 'Yes', 'no', 'advanced', 'Yes', 'Yes', 11, 121, 3, 84, 520, 85, 140, 904), (494, 'Data_camp', 'ProjectManagement', 'Calcutta', 'UnderGraduate', 'no', 'Yes', 'beginer', 'Yes', 'Yes', 13, 139, 4, 103, 577, 104, 158, 1027), (495, 'Data_camp', 'ProjectManagement', 'Chennai', 'UnderGraduate', 'no', 'no', 'beginer', 'Yes', 'Yes', 6, 74, 2, 46, 343, 47, 90, 578), (496, 'Data_camp', 'Dataanalysis', 'Bengaluru', 'Graduate', 'Yes', 'Yes', 'advanced', 'No', 'Yes', 15, 159, 4, 116, 640, 117, 179, 1167), (497, 'Datatrain', 'DigitalMarketing', 'Mumbai', 'Doctorate', 'Yes', 'no', 'advanced', 'No', 'Yes', 12, 128, 3, 90, 545, 91, 147, 958), (498, '360DigiTMG', 'DigitalMarketing', 'Pune', 'UnderGraduate', 'Yes', 'Yes', 'beginer', 'No', 'Yes', 11, 119, 3, 83, 515, 84, 138, 896), (499, 'Edx', 'ArtificialIntelligence', 'Delhi', 'Doctorate', 'no', 'Yes', 'advanced', 'Yes', 'Yes', 12, 127, 3, 89, 539, 90, 146, 946), (500, 'innomatics', 'DataScience', 'Chennai', 'Graduate', 'Yes', 'no', 'intermediate', 'No', 'Yes', 7, 86, 2, 56, 390, 57, 100, 665), (501, 'Upgrad', 'DigitalMarketing', 'Calcutta', 'UnderGraduate', 'no', 'Yes', 'beginer', 'No', 'Yes', 11, 118, 3, 84, 511, 83, 137, 887), (502, 'Data_camp', 'ProjectManagement', 'Kanpour', 'UnderGraduate', 'no', 'no', 'intermediate', 'No', 'Yes', 10, 109, 3, 75, 478, 76, 127, 825), (503, 'Upgrad', 'FullstackDataScience', 'Delhi', 'UnderGraduate', 'Yes', 'no', 'intermediate', 'No', 'Yes', 17, 178, 4, 131, 714, 132, 199, 1318), (504, 'Upgrad', 'DigitalTransformation', 'Chennai', 'Doctorate', 'Yes', 'Yes', 'intermediate', 'Yes', 'Yes', 12, 127, 3, 89, 541, 90, 146, 948), (505, 'Great_Learn', 'DigitalMarketing', 'Ahmedabad', 'Doctorate', 'no', 'no', 'intermediate', 'No', 'Yes', 7, 83, 2, 53, 377, 54, 100, 642), (506, 'Datatrain', 'DataScience', 'Calcutta', 'UnderGraduate', 'no', 'Yes', 'beginer', 'No', 'Yes', 13, 143, 4, 103, 592, 104, 162, 1057), (507, 'innomatics', 'CloudComputing', 'Ahmedabad', 'Doctorate', 'no', 'Yes', 'advanced', 'No', 'Yes', 19, 194, 5, 144, 779, 145, 219, 1459), (508, 'ExcelR', 'FullstackDataScience', 'Kanpour', 'Graduate', 'no', 'Yes', 'beginer', 'Yes', 'Yes', 9, 105, 3, 72, 463, 73, 124, 800), (509, 'Coursera', 'DigitalMarketing', 'Calcutta', 'UnderGraduate', 'Yes', 'no', 'beginer', 'Yes', 'Yes', 16, 168, 4, 123, 675, 124, 188, 1235), (510, '360DigiTMG', 'python', 'Bengaluru', 'Doctorate', 'Yes', 'Yes', 'intermediate', 'No', 'Yes', 13, 130, 3, 90, 545, 91, 147, 950), (511, 'Edureka', 'BigData', 'Ahmedabad', 'Graduate', 'Yes', 'no', 'beginer', 'Yes', 'Yes', 4, 68, 2, 40, 317, 41, 83, 528), (512, 'innomatics', 'CloudComputing', 'Hyderabad', 'Graduate', 'Yes', 'Yes', 'advanced', 'Yes', 'Yes', 20, 198, 5, 149, 796, 149, 224, 1496), (513, 'Edx', 'FullstackDataScience', 'Calcutta', 'UnderGraduate', 'Yes', 'Yes', 'intermediate', 'No', 'Yes', 19, 192, 5, 142, 770, 143, 217, 1451), (514, 'Guvi', 'ProjectManagement', 'Kanpour', 'Graduate', 'Yes', 'Yes', 'intermediate', 'Yes', 'Yes', 4, 61, 2, 34, 290, 35, 75, 476), (515, 'Edvancer', 'BigData', 'Kanpour', 'UnderGraduate', 'Yes', 'Yes', 'advanced', 'Yes', 'Yes', 15, 167, 4, 123, 653, 124, 188, 1234), (516, 'Guvi', 'BigData', 'Pune', 'Doctorate', 'no', 'no', 'advanced', 'Yes', 'Yes', 2, 49, 1, 22, 238, 23, 61, 377), (517, 'innomatics', 'DigitalMarketing', 'Kanpour', 'UnderGraduate', 'Yes', 'no', 'advanced', 'No', 'Yes', 13, 131, 3, 92, 544, 94, 150, 977), (518, 'Data_camp', 'Dataanalysis', 'Hyderabad', 'UnderGraduate', 'Yes', 'no', 'beginer', 'No', 'Yes', 17, 178, 4, 131, 714, 132, 199, 1318), (519, 'Data_camp', 'DataScience', 'Chennai', 'Doctorate', 'no', 'Yes', 'beginer', 'Yes', 'Yes', 17, 180, 4, 135, 723, 134, 202, 1336), (520, 'innomatics', 'ProjectManagement', 'Pune', 'Graduate', 'Yes', 'no', 'intermediate', 'No', 'Yes', 18, 184, 5, 138, 738, 137, 207, 1371), (521, 'Edureka', 'CloudComputing', 'Delhi', 'Graduate', 'no', 'Yes', 'intermediate', 'Yes', 'Yes', 4, 66, 1, 29, 269, 30, 69, 435), (522, 'Edx', 'FullstackDataScience', 'Hyderabad', 'Doctorate', 'no', 'no', 'beginer', 'Yes', 'Yes', 20, 195, 5, 147, 784, 146, 220, 1462), (523, 'ExcelR', 'DigitalTransformation', 'Delhi', 'Graduate', 'no', 'Yes', 'intermediate', 'Yes', 'Yes', 1, 42, 1, 16, 212, 16, 95, 601), (524, 'Datatrain', 'CloudComputing', 'Pune', 'UnderGraduate', 'no', 'no', 'beginer', 'No', 'Yes', 5, 68, 1, 31, 275, 32, 71, 446), (525, 'Guvi', 'CloudComputing', 'Delhi', 'Graduate', 'Yes', 'Yes', 'beginer', 'Yes', 'Yes', 15, 162, 4, 121, 655, 120, 182, 1187)]\n"
     ]
    }
   ],
   "source": [
    "import mysql.connector\n",
    "#establishing the connection\n",
    "conn = mysql.connector.connect(\n",
    "   user='root', password='Venky@1985', host='localhost', database='sql_intro')\n",
    "\n",
    "\n",
    "#Creating a cursor object using the cursor() method\n",
    "cursor = conn.cursor()\n",
    "\n",
    "#Retrieving single row\n",
    "sql = '''SELECT * from MOCK_DATA'''\n",
    "\n",
    "#Executing the query\n",
    "cursor.execute(sql)\n",
    "\n",
    "#Fetching 1st row from the table\n",
    "result = cursor.fetchall();\n",
    "print(result)\n",
    "\n",
    "\"\"\"#Closing the connection\n",
    "conn.close()\"\"\"\n",
    "import pandas as pd\n",
    "data = pd.DataFrame(result, columns = ['s.no', 'Institute', 'Subject', 'Location', 'Trainer_Qualification',\n",
    "       'Online_classes', 'Offline_classes', 'Trainer_experiance',\n",
    "       'Course_level', 'Course_hours', 'Course_rating', 'Rental_permises',\n",
    "       'Trainer_slary', 'Maintaince_cost', 'Non_teaching_staff_salary',\n",
    "       'Placements', 'Certificate', 'Price'])"
   ]
  },
  {
   "cell_type": "code",
   "execution_count": 22,
   "id": "9fb7ddec",
   "metadata": {},
   "outputs": [
    {
     "data": {
      "text/html": [
       "<div>\n",
       "<style scoped>\n",
       "    .dataframe tbody tr th:only-of-type {\n",
       "        vertical-align: middle;\n",
       "    }\n",
       "\n",
       "    .dataframe tbody tr th {\n",
       "        vertical-align: top;\n",
       "    }\n",
       "\n",
       "    .dataframe thead th {\n",
       "        text-align: right;\n",
       "    }\n",
       "</style>\n",
       "<table border=\"1\" class=\"dataframe\">\n",
       "  <thead>\n",
       "    <tr style=\"text-align: right;\">\n",
       "      <th></th>\n",
       "      <th>s.no</th>\n",
       "      <th>Institute</th>\n",
       "      <th>Subject</th>\n",
       "      <th>Location</th>\n",
       "      <th>Trainer_Qualification</th>\n",
       "      <th>Online_classes</th>\n",
       "      <th>Offline_classes</th>\n",
       "      <th>Trainer_experiance</th>\n",
       "      <th>Course_level</th>\n",
       "      <th>Course_hours</th>\n",
       "      <th>Course_rating</th>\n",
       "      <th>Rental_permises</th>\n",
       "      <th>Trainer_slary</th>\n",
       "      <th>Maintaince_cost</th>\n",
       "      <th>Non_teaching_staff_salary</th>\n",
       "      <th>Placements</th>\n",
       "      <th>Certificate</th>\n",
       "      <th>Price</th>\n",
       "    </tr>\n",
       "  </thead>\n",
       "  <tbody>\n",
       "    <tr>\n",
       "      <th>0</th>\n",
       "      <td>1</td>\n",
       "      <td>Datatrain</td>\n",
       "      <td>ProjectManagement</td>\n",
       "      <td>Delhi</td>\n",
       "      <td>Doctorate</td>\n",
       "      <td>Yes</td>\n",
       "      <td>Yes</td>\n",
       "      <td>advanced</td>\n",
       "      <td>Yes</td>\n",
       "      <td>Yes</td>\n",
       "      <td>19</td>\n",
       "      <td>192</td>\n",
       "      <td>5</td>\n",
       "      <td>145</td>\n",
       "      <td>722</td>\n",
       "      <td>140</td>\n",
       "      <td>205</td>\n",
       "      <td>1419</td>\n",
       "    </tr>\n",
       "    <tr>\n",
       "      <th>1</th>\n",
       "      <td>2</td>\n",
       "      <td>Datatrain</td>\n",
       "      <td>DataScience</td>\n",
       "      <td>Hyderabad</td>\n",
       "      <td>Graduate</td>\n",
       "      <td>Yes</td>\n",
       "      <td>no</td>\n",
       "      <td>advanced</td>\n",
       "      <td>No</td>\n",
       "      <td>Yes</td>\n",
       "      <td>9</td>\n",
       "      <td>94</td>\n",
       "      <td>2</td>\n",
       "      <td>68</td>\n",
       "      <td>454</td>\n",
       "      <td>70</td>\n",
       "      <td>116</td>\n",
       "      <td>746</td>\n",
       "    </tr>\n",
       "    <tr>\n",
       "      <th>2</th>\n",
       "      <td>3</td>\n",
       "      <td>Guvi</td>\n",
       "      <td>python</td>\n",
       "      <td>Chennai</td>\n",
       "      <td>UnderGraduate</td>\n",
       "      <td>no</td>\n",
       "      <td>no</td>\n",
       "      <td>advanced</td>\n",
       "      <td>Yes</td>\n",
       "      <td>Yes</td>\n",
       "      <td>15</td>\n",
       "      <td>154</td>\n",
       "      <td>4</td>\n",
       "      <td>112</td>\n",
       "      <td>641</td>\n",
       "      <td>118</td>\n",
       "      <td>179</td>\n",
       "      <td>1121</td>\n",
       "    </tr>\n",
       "    <tr>\n",
       "      <th>3</th>\n",
       "      <td>4</td>\n",
       "      <td>innomatics</td>\n",
       "      <td>DigitalTransformation</td>\n",
       "      <td>Ahmedabad</td>\n",
       "      <td>Doctorate</td>\n",
       "      <td>Yes</td>\n",
       "      <td>Yes</td>\n",
       "      <td>intermediate</td>\n",
       "      <td>No</td>\n",
       "      <td>Yes</td>\n",
       "      <td>18</td>\n",
       "      <td>182</td>\n",
       "      <td>5</td>\n",
       "      <td>130</td>\n",
       "      <td>729</td>\n",
       "      <td>132</td>\n",
       "      <td>108</td>\n",
       "      <td>1341</td>\n",
       "    </tr>\n",
       "    <tr>\n",
       "      <th>4</th>\n",
       "      <td>5</td>\n",
       "      <td>Datatrain</td>\n",
       "      <td>DigitalTransformation</td>\n",
       "      <td>Pune</td>\n",
       "      <td>UnderGraduate</td>\n",
       "      <td>Yes</td>\n",
       "      <td>Yes</td>\n",
       "      <td>advanced</td>\n",
       "      <td>No</td>\n",
       "      <td>Yes</td>\n",
       "      <td>6</td>\n",
       "      <td>75</td>\n",
       "      <td>2</td>\n",
       "      <td>43</td>\n",
       "      <td>349</td>\n",
       "      <td>45</td>\n",
       "      <td>88</td>\n",
       "      <td>512</td>\n",
       "    </tr>\n",
       "    <tr>\n",
       "      <th>...</th>\n",
       "      <td>...</td>\n",
       "      <td>...</td>\n",
       "      <td>...</td>\n",
       "      <td>...</td>\n",
       "      <td>...</td>\n",
       "      <td>...</td>\n",
       "      <td>...</td>\n",
       "      <td>...</td>\n",
       "      <td>...</td>\n",
       "      <td>...</td>\n",
       "      <td>...</td>\n",
       "      <td>...</td>\n",
       "      <td>...</td>\n",
       "      <td>...</td>\n",
       "      <td>...</td>\n",
       "      <td>...</td>\n",
       "      <td>...</td>\n",
       "      <td>...</td>\n",
       "    </tr>\n",
       "    <tr>\n",
       "      <th>520</th>\n",
       "      <td>521</td>\n",
       "      <td>Edureka</td>\n",
       "      <td>CloudComputing</td>\n",
       "      <td>Delhi</td>\n",
       "      <td>Graduate</td>\n",
       "      <td>no</td>\n",
       "      <td>Yes</td>\n",
       "      <td>intermediate</td>\n",
       "      <td>Yes</td>\n",
       "      <td>Yes</td>\n",
       "      <td>4</td>\n",
       "      <td>66</td>\n",
       "      <td>1</td>\n",
       "      <td>29</td>\n",
       "      <td>269</td>\n",
       "      <td>30</td>\n",
       "      <td>69</td>\n",
       "      <td>435</td>\n",
       "    </tr>\n",
       "    <tr>\n",
       "      <th>521</th>\n",
       "      <td>522</td>\n",
       "      <td>Edx</td>\n",
       "      <td>FullstackDataScience</td>\n",
       "      <td>Hyderabad</td>\n",
       "      <td>Doctorate</td>\n",
       "      <td>no</td>\n",
       "      <td>no</td>\n",
       "      <td>beginer</td>\n",
       "      <td>Yes</td>\n",
       "      <td>Yes</td>\n",
       "      <td>20</td>\n",
       "      <td>195</td>\n",
       "      <td>5</td>\n",
       "      <td>147</td>\n",
       "      <td>784</td>\n",
       "      <td>146</td>\n",
       "      <td>220</td>\n",
       "      <td>1462</td>\n",
       "    </tr>\n",
       "    <tr>\n",
       "      <th>522</th>\n",
       "      <td>523</td>\n",
       "      <td>ExcelR</td>\n",
       "      <td>DigitalTransformation</td>\n",
       "      <td>Delhi</td>\n",
       "      <td>Graduate</td>\n",
       "      <td>no</td>\n",
       "      <td>Yes</td>\n",
       "      <td>intermediate</td>\n",
       "      <td>Yes</td>\n",
       "      <td>Yes</td>\n",
       "      <td>1</td>\n",
       "      <td>42</td>\n",
       "      <td>1</td>\n",
       "      <td>16</td>\n",
       "      <td>212</td>\n",
       "      <td>16</td>\n",
       "      <td>95</td>\n",
       "      <td>601</td>\n",
       "    </tr>\n",
       "    <tr>\n",
       "      <th>523</th>\n",
       "      <td>524</td>\n",
       "      <td>Datatrain</td>\n",
       "      <td>CloudComputing</td>\n",
       "      <td>Pune</td>\n",
       "      <td>UnderGraduate</td>\n",
       "      <td>no</td>\n",
       "      <td>no</td>\n",
       "      <td>beginer</td>\n",
       "      <td>No</td>\n",
       "      <td>Yes</td>\n",
       "      <td>5</td>\n",
       "      <td>68</td>\n",
       "      <td>1</td>\n",
       "      <td>31</td>\n",
       "      <td>275</td>\n",
       "      <td>32</td>\n",
       "      <td>71</td>\n",
       "      <td>446</td>\n",
       "    </tr>\n",
       "    <tr>\n",
       "      <th>524</th>\n",
       "      <td>525</td>\n",
       "      <td>Guvi</td>\n",
       "      <td>CloudComputing</td>\n",
       "      <td>Delhi</td>\n",
       "      <td>Graduate</td>\n",
       "      <td>Yes</td>\n",
       "      <td>Yes</td>\n",
       "      <td>beginer</td>\n",
       "      <td>Yes</td>\n",
       "      <td>Yes</td>\n",
       "      <td>15</td>\n",
       "      <td>162</td>\n",
       "      <td>4</td>\n",
       "      <td>121</td>\n",
       "      <td>655</td>\n",
       "      <td>120</td>\n",
       "      <td>182</td>\n",
       "      <td>1187</td>\n",
       "    </tr>\n",
       "  </tbody>\n",
       "</table>\n",
       "<p>525 rows × 18 columns</p>\n",
       "</div>"
      ],
      "text/plain": [
       "     s.no   Institute                Subject   Location Trainer_Qualification  \\\n",
       "0       1   Datatrain      ProjectManagement      Delhi             Doctorate   \n",
       "1       2   Datatrain            DataScience  Hyderabad              Graduate   \n",
       "2       3        Guvi                 python    Chennai         UnderGraduate   \n",
       "3       4  innomatics  DigitalTransformation  Ahmedabad             Doctorate   \n",
       "4       5   Datatrain  DigitalTransformation       Pune         UnderGraduate   \n",
       "..    ...         ...                    ...        ...                   ...   \n",
       "520   521     Edureka         CloudComputing      Delhi              Graduate   \n",
       "521   522         Edx   FullstackDataScience  Hyderabad             Doctorate   \n",
       "522   523      ExcelR  DigitalTransformation      Delhi              Graduate   \n",
       "523   524   Datatrain         CloudComputing       Pune         UnderGraduate   \n",
       "524   525        Guvi         CloudComputing      Delhi              Graduate   \n",
       "\n",
       "    Online_classes Offline_classes Trainer_experiance Course_level  \\\n",
       "0              Yes             Yes           advanced          Yes   \n",
       "1              Yes              no           advanced           No   \n",
       "2               no              no           advanced          Yes   \n",
       "3              Yes             Yes       intermediate           No   \n",
       "4              Yes             Yes           advanced           No   \n",
       "..             ...             ...                ...          ...   \n",
       "520             no             Yes       intermediate          Yes   \n",
       "521             no              no            beginer          Yes   \n",
       "522             no             Yes       intermediate          Yes   \n",
       "523             no              no            beginer           No   \n",
       "524            Yes             Yes            beginer          Yes   \n",
       "\n",
       "    Course_hours  Course_rating  Rental_permises  Trainer_slary  \\\n",
       "0            Yes             19              192              5   \n",
       "1            Yes              9               94              2   \n",
       "2            Yes             15              154              4   \n",
       "3            Yes             18              182              5   \n",
       "4            Yes              6               75              2   \n",
       "..           ...            ...              ...            ...   \n",
       "520          Yes              4               66              1   \n",
       "521          Yes             20              195              5   \n",
       "522          Yes              1               42              1   \n",
       "523          Yes              5               68              1   \n",
       "524          Yes             15              162              4   \n",
       "\n",
       "     Maintaince_cost  Non_teaching_staff_salary  Placements  Certificate  \\\n",
       "0                145                        722         140          205   \n",
       "1                 68                        454          70          116   \n",
       "2                112                        641         118          179   \n",
       "3                130                        729         132          108   \n",
       "4                 43                        349          45           88   \n",
       "..               ...                        ...         ...          ...   \n",
       "520               29                        269          30           69   \n",
       "521              147                        784         146          220   \n",
       "522               16                        212          16           95   \n",
       "523               31                        275          32           71   \n",
       "524              121                        655         120          182   \n",
       "\n",
       "     Price  \n",
       "0     1419  \n",
       "1      746  \n",
       "2     1121  \n",
       "3     1341  \n",
       "4      512  \n",
       "..     ...  \n",
       "520    435  \n",
       "521   1462  \n",
       "522    601  \n",
       "523    446  \n",
       "524   1187  \n",
       "\n",
       "[525 rows x 18 columns]"
      ]
     },
     "execution_count": 22,
     "metadata": {},
     "output_type": "execute_result"
    }
   ],
   "source": [
    "data "
   ]
  },
  {
   "cell_type": "markdown",
   "id": "51f4ee55",
   "metadata": {},
   "source": [
    "## OR Load data from local computer"
   ]
  },
  {
   "cell_type": "code",
   "execution_count": 25,
   "id": "eaa88f53",
   "metadata": {},
   "outputs": [],
   "source": [
    "import pandas as pd\n",
    "data = pd.read_csv(\"MOCK_DATA.csv\")"
   ]
  },
  {
   "cell_type": "code",
   "execution_count": 26,
   "id": "db95a549",
   "metadata": {},
   "outputs": [
    {
     "data": {
      "text/html": [
       "<div>\n",
       "<style scoped>\n",
       "    .dataframe tbody tr th:only-of-type {\n",
       "        vertical-align: middle;\n",
       "    }\n",
       "\n",
       "    .dataframe tbody tr th {\n",
       "        vertical-align: top;\n",
       "    }\n",
       "\n",
       "    .dataframe thead th {\n",
       "        text-align: right;\n",
       "    }\n",
       "</style>\n",
       "<table border=\"1\" class=\"dataframe\">\n",
       "  <thead>\n",
       "    <tr style=\"text-align: right;\">\n",
       "      <th></th>\n",
       "      <th>s.no</th>\n",
       "      <th>Institute</th>\n",
       "      <th>Subject</th>\n",
       "      <th>Location</th>\n",
       "      <th>Trainer_Qualification</th>\n",
       "      <th>Online_classes</th>\n",
       "      <th>Offline_classes</th>\n",
       "      <th>Course_level</th>\n",
       "      <th>Placements</th>\n",
       "      <th>Certificate</th>\n",
       "      <th>Trainer_experiance</th>\n",
       "      <th>Course_hours</th>\n",
       "      <th>Course_rating</th>\n",
       "      <th>Rental_permises</th>\n",
       "      <th>Trainer_slary</th>\n",
       "      <th>Maintaince_cost</th>\n",
       "      <th>Non_teaching_staff_salary</th>\n",
       "      <th>Price</th>\n",
       "    </tr>\n",
       "  </thead>\n",
       "  <tbody>\n",
       "    <tr>\n",
       "      <th>0</th>\n",
       "      <td>1</td>\n",
       "      <td>Datatrain</td>\n",
       "      <td>ProjectManagement</td>\n",
       "      <td>Delhi</td>\n",
       "      <td>Doctorate</td>\n",
       "      <td>Yes</td>\n",
       "      <td>Yes</td>\n",
       "      <td>advanced</td>\n",
       "      <td>Yes</td>\n",
       "      <td>Yes</td>\n",
       "      <td>19</td>\n",
       "      <td>192</td>\n",
       "      <td>5</td>\n",
       "      <td>145</td>\n",
       "      <td>722</td>\n",
       "      <td>140</td>\n",
       "      <td>205</td>\n",
       "      <td>1419</td>\n",
       "    </tr>\n",
       "    <tr>\n",
       "      <th>1</th>\n",
       "      <td>2</td>\n",
       "      <td>Datatrain</td>\n",
       "      <td>DataScience</td>\n",
       "      <td>Hyderabad</td>\n",
       "      <td>Graduate</td>\n",
       "      <td>Yes</td>\n",
       "      <td>no</td>\n",
       "      <td>advanced</td>\n",
       "      <td>No</td>\n",
       "      <td>Yes</td>\n",
       "      <td>9</td>\n",
       "      <td>94</td>\n",
       "      <td>2</td>\n",
       "      <td>68</td>\n",
       "      <td>454</td>\n",
       "      <td>70</td>\n",
       "      <td>116</td>\n",
       "      <td>746</td>\n",
       "    </tr>\n",
       "    <tr>\n",
       "      <th>2</th>\n",
       "      <td>3</td>\n",
       "      <td>Guvi</td>\n",
       "      <td>python</td>\n",
       "      <td>Chennai</td>\n",
       "      <td>UnderGraduate</td>\n",
       "      <td>no</td>\n",
       "      <td>no</td>\n",
       "      <td>advanced</td>\n",
       "      <td>Yes</td>\n",
       "      <td>Yes</td>\n",
       "      <td>15</td>\n",
       "      <td>154</td>\n",
       "      <td>4</td>\n",
       "      <td>112</td>\n",
       "      <td>641</td>\n",
       "      <td>118</td>\n",
       "      <td>179</td>\n",
       "      <td>1121</td>\n",
       "    </tr>\n",
       "    <tr>\n",
       "      <th>3</th>\n",
       "      <td>4</td>\n",
       "      <td>innomatics</td>\n",
       "      <td>DigitalTransformation</td>\n",
       "      <td>Ahmedabad</td>\n",
       "      <td>Doctorate</td>\n",
       "      <td>Yes</td>\n",
       "      <td>Yes</td>\n",
       "      <td>intermediate</td>\n",
       "      <td>No</td>\n",
       "      <td>Yes</td>\n",
       "      <td>18</td>\n",
       "      <td>182</td>\n",
       "      <td>5</td>\n",
       "      <td>130</td>\n",
       "      <td>729</td>\n",
       "      <td>132</td>\n",
       "      <td>108</td>\n",
       "      <td>1341</td>\n",
       "    </tr>\n",
       "    <tr>\n",
       "      <th>4</th>\n",
       "      <td>5</td>\n",
       "      <td>Datatrain</td>\n",
       "      <td>DigitalTransformation</td>\n",
       "      <td>Pune</td>\n",
       "      <td>UnderGraduate</td>\n",
       "      <td>Yes</td>\n",
       "      <td>Yes</td>\n",
       "      <td>advanced</td>\n",
       "      <td>No</td>\n",
       "      <td>Yes</td>\n",
       "      <td>6</td>\n",
       "      <td>75</td>\n",
       "      <td>2</td>\n",
       "      <td>43</td>\n",
       "      <td>349</td>\n",
       "      <td>45</td>\n",
       "      <td>88</td>\n",
       "      <td>512</td>\n",
       "    </tr>\n",
       "    <tr>\n",
       "      <th>5</th>\n",
       "      <td>6</td>\n",
       "      <td>Datatrain</td>\n",
       "      <td>python</td>\n",
       "      <td>Ahmedabad</td>\n",
       "      <td>UnderGraduate</td>\n",
       "      <td>no</td>\n",
       "      <td>Yes</td>\n",
       "      <td>beginer</td>\n",
       "      <td>Yes</td>\n",
       "      <td>Yes</td>\n",
       "      <td>11</td>\n",
       "      <td>115</td>\n",
       "      <td>3</td>\n",
       "      <td>84</td>\n",
       "      <td>510</td>\n",
       "      <td>80</td>\n",
       "      <td>135</td>\n",
       "      <td>879</td>\n",
       "    </tr>\n",
       "    <tr>\n",
       "      <th>6</th>\n",
       "      <td>7</td>\n",
       "      <td>360DigiTMG</td>\n",
       "      <td>BigData</td>\n",
       "      <td>Pune</td>\n",
       "      <td>UnderGraduate</td>\n",
       "      <td>no</td>\n",
       "      <td>no</td>\n",
       "      <td>beginer</td>\n",
       "      <td>Yes</td>\n",
       "      <td>Yes</td>\n",
       "      <td>6</td>\n",
       "      <td>63</td>\n",
       "      <td>2</td>\n",
       "      <td>37</td>\n",
       "      <td>297</td>\n",
       "      <td>40</td>\n",
       "      <td>76</td>\n",
       "      <td>429</td>\n",
       "    </tr>\n",
       "    <tr>\n",
       "      <th>7</th>\n",
       "      <td>8</td>\n",
       "      <td>Edureka</td>\n",
       "      <td>ArtificialIntelligence</td>\n",
       "      <td>Kanpour</td>\n",
       "      <td>Doctorate</td>\n",
       "      <td>no</td>\n",
       "      <td>Yes</td>\n",
       "      <td>advanced</td>\n",
       "      <td>Yes</td>\n",
       "      <td>Yes</td>\n",
       "      <td>6</td>\n",
       "      <td>70</td>\n",
       "      <td>2</td>\n",
       "      <td>42</td>\n",
       "      <td>315</td>\n",
       "      <td>46</td>\n",
       "      <td>80</td>\n",
       "      <td>481</td>\n",
       "    </tr>\n",
       "    <tr>\n",
       "      <th>8</th>\n",
       "      <td>9</td>\n",
       "      <td>Udemy</td>\n",
       "      <td>BigData</td>\n",
       "      <td>Bengaluru</td>\n",
       "      <td>Doctorate</td>\n",
       "      <td>no</td>\n",
       "      <td>no</td>\n",
       "      <td>beginer</td>\n",
       "      <td>Yes</td>\n",
       "      <td>Yes</td>\n",
       "      <td>6</td>\n",
       "      <td>78</td>\n",
       "      <td>2</td>\n",
       "      <td>51</td>\n",
       "      <td>356</td>\n",
       "      <td>51</td>\n",
       "      <td>95</td>\n",
       "      <td>618</td>\n",
       "    </tr>\n",
       "    <tr>\n",
       "      <th>9</th>\n",
       "      <td>10</td>\n",
       "      <td>Coursera</td>\n",
       "      <td>Dataanalysis</td>\n",
       "      <td>Kanpour</td>\n",
       "      <td>Graduate</td>\n",
       "      <td>Yes</td>\n",
       "      <td>Yes</td>\n",
       "      <td>advanced</td>\n",
       "      <td>Yes</td>\n",
       "      <td>Yes</td>\n",
       "      <td>6</td>\n",
       "      <td>67</td>\n",
       "      <td>2</td>\n",
       "      <td>39</td>\n",
       "      <td>310</td>\n",
       "      <td>43</td>\n",
       "      <td>78</td>\n",
       "      <td>463</td>\n",
       "    </tr>\n",
       "  </tbody>\n",
       "</table>\n",
       "</div>"
      ],
      "text/plain": [
       "   s.no   Institute                 Subject   Location Trainer_Qualification  \\\n",
       "0     1   Datatrain       ProjectManagement      Delhi             Doctorate   \n",
       "1     2   Datatrain             DataScience  Hyderabad              Graduate   \n",
       "2     3        Guvi                  python    Chennai         UnderGraduate   \n",
       "3     4  innomatics   DigitalTransformation  Ahmedabad             Doctorate   \n",
       "4     5   Datatrain   DigitalTransformation       Pune         UnderGraduate   \n",
       "5     6   Datatrain                  python  Ahmedabad         UnderGraduate   \n",
       "6     7  360DigiTMG                 BigData       Pune         UnderGraduate   \n",
       "7     8     Edureka  ArtificialIntelligence    Kanpour             Doctorate   \n",
       "8     9       Udemy                 BigData  Bengaluru             Doctorate   \n",
       "9    10    Coursera            Dataanalysis    Kanpour              Graduate   \n",
       "\n",
       "  Online_classes Offline_classes  Course_level Placements Certificate  \\\n",
       "0            Yes             Yes      advanced        Yes         Yes   \n",
       "1            Yes              no      advanced         No         Yes   \n",
       "2             no              no      advanced        Yes         Yes   \n",
       "3            Yes             Yes  intermediate         No         Yes   \n",
       "4            Yes             Yes      advanced         No         Yes   \n",
       "5             no             Yes       beginer        Yes         Yes   \n",
       "6             no              no       beginer        Yes         Yes   \n",
       "7             no             Yes      advanced        Yes         Yes   \n",
       "8             no              no       beginer        Yes         Yes   \n",
       "9            Yes             Yes      advanced        Yes         Yes   \n",
       "\n",
       "   Trainer_experiance  Course_hours  Course_rating  Rental_permises  \\\n",
       "0                  19           192              5              145   \n",
       "1                   9            94              2               68   \n",
       "2                  15           154              4              112   \n",
       "3                  18           182              5              130   \n",
       "4                   6            75              2               43   \n",
       "5                  11           115              3               84   \n",
       "6                   6            63              2               37   \n",
       "7                   6            70              2               42   \n",
       "8                   6            78              2               51   \n",
       "9                   6            67              2               39   \n",
       "\n",
       "   Trainer_slary  Maintaince_cost  Non_teaching_staff_salary  Price  \n",
       "0            722              140                        205   1419  \n",
       "1            454               70                        116    746  \n",
       "2            641              118                        179   1121  \n",
       "3            729              132                        108   1341  \n",
       "4            349               45                         88    512  \n",
       "5            510               80                        135    879  \n",
       "6            297               40                         76    429  \n",
       "7            315               46                         80    481  \n",
       "8            356               51                         95    618  \n",
       "9            310               43                         78    463  "
      ]
     },
     "execution_count": 26,
     "metadata": {},
     "output_type": "execute_result"
    }
   ],
   "source": [
    "data.head(10)\n",
    "# Showing top 10 rows and all the columns in the dataset."
   ]
  },
  {
   "cell_type": "code",
   "execution_count": 27,
   "id": "93dd6852",
   "metadata": {},
   "outputs": [
    {
     "name": "stdout",
     "output_type": "stream",
     "text": [
      "<class 'pandas.core.frame.DataFrame'>\n",
      "RangeIndex: 525 entries, 0 to 524\n",
      "Data columns (total 18 columns):\n",
      " #   Column                     Non-Null Count  Dtype \n",
      "---  ------                     --------------  ----- \n",
      " 0   s.no                       525 non-null    int64 \n",
      " 1   Institute                  525 non-null    object\n",
      " 2   Subject                    525 non-null    object\n",
      " 3   Location                   525 non-null    object\n",
      " 4   Trainer_Qualification      525 non-null    object\n",
      " 5   Online_classes             525 non-null    object\n",
      " 6   Offline_classes            525 non-null    object\n",
      " 7   Course_level               525 non-null    object\n",
      " 8   Placements                 525 non-null    object\n",
      " 9   Certificate                525 non-null    object\n",
      " 10  Trainer_experiance         525 non-null    int64 \n",
      " 11  Course_hours               525 non-null    int64 \n",
      " 12  Course_rating              525 non-null    int64 \n",
      " 13  Rental_permises            525 non-null    int64 \n",
      " 14  Trainer_slary              525 non-null    int64 \n",
      " 15  Maintaince_cost            525 non-null    int64 \n",
      " 16  Non_teaching_staff_salary  525 non-null    int64 \n",
      " 17  Price                      525 non-null    int64 \n",
      "dtypes: int64(9), object(9)\n",
      "memory usage: 74.0+ KB\n"
     ]
    }
   ],
   "source": [
    "data.info()\n",
    "# Information about the null, data type and memory of the data."
   ]
  },
  {
   "cell_type": "code",
   "execution_count": 28,
   "id": "230e0f47",
   "metadata": {},
   "outputs": [
    {
     "data": {
      "text/html": [
       "<div>\n",
       "<style scoped>\n",
       "    .dataframe tbody tr th:only-of-type {\n",
       "        vertical-align: middle;\n",
       "    }\n",
       "\n",
       "    .dataframe tbody tr th {\n",
       "        vertical-align: top;\n",
       "    }\n",
       "\n",
       "    .dataframe thead th {\n",
       "        text-align: right;\n",
       "    }\n",
       "</style>\n",
       "<table border=\"1\" class=\"dataframe\">\n",
       "  <thead>\n",
       "    <tr style=\"text-align: right;\">\n",
       "      <th></th>\n",
       "      <th>s.no</th>\n",
       "      <th>Trainer_experiance</th>\n",
       "      <th>Course_hours</th>\n",
       "      <th>Course_rating</th>\n",
       "      <th>Rental_permises</th>\n",
       "      <th>Trainer_slary</th>\n",
       "      <th>Maintaince_cost</th>\n",
       "      <th>Non_teaching_staff_salary</th>\n",
       "      <th>Price</th>\n",
       "    </tr>\n",
       "  </thead>\n",
       "  <tbody>\n",
       "    <tr>\n",
       "      <th>count</th>\n",
       "      <td>525.000000</td>\n",
       "      <td>525.000000</td>\n",
       "      <td>525.000000</td>\n",
       "      <td>525.000000</td>\n",
       "      <td>525.000000</td>\n",
       "      <td>525.000000</td>\n",
       "      <td>525.000000</td>\n",
       "      <td>525.000000</td>\n",
       "      <td>525.000000</td>\n",
       "    </tr>\n",
       "    <tr>\n",
       "      <th>mean</th>\n",
       "      <td>263.000000</td>\n",
       "      <td>10.790476</td>\n",
       "      <td>119.563810</td>\n",
       "      <td>2.920000</td>\n",
       "      <td>82.632381</td>\n",
       "      <td>506.112381</td>\n",
       "      <td>84.020952</td>\n",
       "      <td>136.615238</td>\n",
       "      <td>895.992381</td>\n",
       "    </tr>\n",
       "    <tr>\n",
       "      <th>std</th>\n",
       "      <td>151.698715</td>\n",
       "      <td>5.515930</td>\n",
       "      <td>47.492609</td>\n",
       "      <td>1.217431</td>\n",
       "      <td>39.147891</td>\n",
       "      <td>174.455130</td>\n",
       "      <td>38.975838</td>\n",
       "      <td>50.668250</td>\n",
       "      <td>343.817128</td>\n",
       "    </tr>\n",
       "    <tr>\n",
       "      <th>min</th>\n",
       "      <td>1.000000</td>\n",
       "      <td>1.000000</td>\n",
       "      <td>40.000000</td>\n",
       "      <td>1.000000</td>\n",
       "      <td>15.000000</td>\n",
       "      <td>200.000000</td>\n",
       "      <td>15.000000</td>\n",
       "      <td>50.000000</td>\n",
       "      <td>302.000000</td>\n",
       "    </tr>\n",
       "    <tr>\n",
       "      <th>25%</th>\n",
       "      <td>132.000000</td>\n",
       "      <td>6.000000</td>\n",
       "      <td>78.000000</td>\n",
       "      <td>2.000000</td>\n",
       "      <td>49.000000</td>\n",
       "      <td>354.000000</td>\n",
       "      <td>51.000000</td>\n",
       "      <td>94.000000</td>\n",
       "      <td>602.000000</td>\n",
       "    </tr>\n",
       "    <tr>\n",
       "      <th>50%</th>\n",
       "      <td>263.000000</td>\n",
       "      <td>11.000000</td>\n",
       "      <td>118.000000</td>\n",
       "      <td>3.000000</td>\n",
       "      <td>84.000000</td>\n",
       "      <td>515.000000</td>\n",
       "      <td>85.000000</td>\n",
       "      <td>137.000000</td>\n",
       "      <td>889.000000</td>\n",
       "    </tr>\n",
       "    <tr>\n",
       "      <th>75%</th>\n",
       "      <td>394.000000</td>\n",
       "      <td>15.000000</td>\n",
       "      <td>165.000000</td>\n",
       "      <td>4.000000</td>\n",
       "      <td>118.000000</td>\n",
       "      <td>653.000000</td>\n",
       "      <td>119.000000</td>\n",
       "      <td>181.000000</td>\n",
       "      <td>1192.000000</td>\n",
       "    </tr>\n",
       "    <tr>\n",
       "      <th>max</th>\n",
       "      <td>525.000000</td>\n",
       "      <td>20.000000</td>\n",
       "      <td>200.000000</td>\n",
       "      <td>5.000000</td>\n",
       "      <td>150.000000</td>\n",
       "      <td>800.000000</td>\n",
       "      <td>150.000000</td>\n",
       "      <td>225.000000</td>\n",
       "      <td>1499.000000</td>\n",
       "    </tr>\n",
       "  </tbody>\n",
       "</table>\n",
       "</div>"
      ],
      "text/plain": [
       "             s.no  Trainer_experiance  Course_hours  Course_rating  \\\n",
       "count  525.000000          525.000000    525.000000     525.000000   \n",
       "mean   263.000000           10.790476    119.563810       2.920000   \n",
       "std    151.698715            5.515930     47.492609       1.217431   \n",
       "min      1.000000            1.000000     40.000000       1.000000   \n",
       "25%    132.000000            6.000000     78.000000       2.000000   \n",
       "50%    263.000000           11.000000    118.000000       3.000000   \n",
       "75%    394.000000           15.000000    165.000000       4.000000   \n",
       "max    525.000000           20.000000    200.000000       5.000000   \n",
       "\n",
       "       Rental_permises  Trainer_slary  Maintaince_cost  \\\n",
       "count       525.000000     525.000000       525.000000   \n",
       "mean         82.632381     506.112381        84.020952   \n",
       "std          39.147891     174.455130        38.975838   \n",
       "min          15.000000     200.000000        15.000000   \n",
       "25%          49.000000     354.000000        51.000000   \n",
       "50%          84.000000     515.000000        85.000000   \n",
       "75%         118.000000     653.000000       119.000000   \n",
       "max         150.000000     800.000000       150.000000   \n",
       "\n",
       "       Non_teaching_staff_salary        Price  \n",
       "count                 525.000000   525.000000  \n",
       "mean                  136.615238   895.992381  \n",
       "std                    50.668250   343.817128  \n",
       "min                    50.000000   302.000000  \n",
       "25%                    94.000000   602.000000  \n",
       "50%                   137.000000   889.000000  \n",
       "75%                   181.000000  1192.000000  \n",
       "max                   225.000000  1499.000000  "
      ]
     },
     "execution_count": 28,
     "metadata": {},
     "output_type": "execute_result"
    }
   ],
   "source": [
    "data.describe()\n",
    "# Statistical information about the data."
   ]
  },
  {
   "cell_type": "code",
   "execution_count": 29,
   "id": "bb402077",
   "metadata": {},
   "outputs": [
    {
     "data": {
      "text/plain": [
       "Index(['s.no', 'Institute', 'Subject', 'Location', 'Trainer_Qualification',\n",
       "       'Online_classes', 'Offline_classes', 'Course_level', 'Placements',\n",
       "       'Certificate', 'Trainer_experiance', 'Course_hours', 'Course_rating',\n",
       "       'Rental_permises', 'Trainer_slary', 'Maintaince_cost',\n",
       "       'Non_teaching_staff_salary', 'Price'],\n",
       "      dtype='object')"
      ]
     },
     "execution_count": 29,
     "metadata": {},
     "output_type": "execute_result"
    }
   ],
   "source": [
    "data.columns\n",
    "# view the columns"
   ]
  },
  {
   "cell_type": "markdown",
   "id": "aca04112",
   "metadata": {},
   "source": [
    "## Auto Exploratory Data Analysis(EDA)"
   ]
  },
  {
   "cell_type": "code",
   "execution_count": 10,
   "id": "ed890ecf",
   "metadata": {},
   "outputs": [
    {
     "name": "stdout",
     "output_type": "stream",
     "text": [
      "Collecting pandas-profiling\n",
      "  Using cached pandas_profiling-3.2.0-py2.py3-none-any.whl (262 kB)\n",
      "Requirement already satisfied: seaborn>=0.10.1 in c:\\users\\venki\\anaconda3\\lib\\site-packages (from pandas-profiling) (0.11.2)\n",
      "Requirement already satisfied: numpy>=1.16.0 in c:\\users\\venki\\anaconda3\\lib\\site-packages (from pandas-profiling) (1.21.5)\n",
      "Collecting phik>=0.11.1\n",
      "  Using cached phik-0.12.2-cp39-cp39-win_amd64.whl (685 kB)\n",
      "Requirement already satisfied: requests>=2.24.0 in c:\\users\\venki\\anaconda3\\lib\\site-packages (from pandas-profiling) (2.27.1)\n",
      "Requirement already satisfied: matplotlib>=3.2.0 in c:\\users\\venki\\anaconda3\\lib\\site-packages (from pandas-profiling) (3.5.1)\n",
      "Requirement already satisfied: multimethod>=1.4 in c:\\users\\venki\\anaconda3\\lib\\site-packages (from pandas-profiling) (1.8)\n",
      "Collecting pydantic>=1.8.1\n",
      "  Using cached pydantic-1.9.1-cp39-cp39-win_amd64.whl (2.0 MB)\n",
      "Collecting htmlmin>=0.1.12\n",
      "  Using cached htmlmin-0.1.12-py3-none-any.whl\n",
      "Requirement already satisfied: PyYAML>=5.0.0 in c:\\users\\venki\\anaconda3\\lib\\site-packages (from pandas-profiling) (6.0)\n",
      "Collecting missingno>=0.4.2\n",
      "  Using cached missingno-0.5.1-py3-none-any.whl (8.7 kB)\n",
      "Requirement already satisfied: visions[type_image_path]==0.7.4 in c:\\users\\venki\\anaconda3\\lib\\site-packages (from pandas-profiling) (0.7.4)\n",
      "Requirement already satisfied: markupsafe~=2.1.1 in c:\\users\\venki\\anaconda3\\lib\\site-packages (from pandas-profiling) (2.1.1)\n",
      "Requirement already satisfied: tangled-up-in-unicode==0.2.0 in c:\\users\\venki\\anaconda3\\lib\\site-packages (from pandas-profiling) (0.2.0)\n",
      "Requirement already satisfied: scipy>=1.4.1 in c:\\users\\venki\\anaconda3\\lib\\site-packages (from pandas-profiling) (1.7.3)\n",
      "Requirement already satisfied: jinja2>=2.11.1 in c:\\users\\venki\\anaconda3\\lib\\site-packages (from pandas-profiling) (2.11.3)\n",
      "Requirement already satisfied: tqdm>=4.48.2 in c:\\users\\venki\\anaconda3\\lib\\site-packages (from pandas-profiling) (4.64.0)\n",
      "Requirement already satisfied: joblib~=1.1.0 in c:\\users\\venki\\anaconda3\\lib\\site-packages (from pandas-profiling) (1.1.0)\n",
      "Requirement already satisfied: pandas!=1.0.0,!=1.0.1,!=1.0.2,!=1.1.0,>=0.25.3 in c:\\users\\venki\\anaconda3\\lib\\site-packages (from pandas-profiling) (1.4.2)\n",
      "Requirement already satisfied: attrs>=19.3.0 in c:\\users\\venki\\anaconda3\\lib\\site-packages (from visions[type_image_path]==0.7.4->pandas-profiling) (21.4.0)\n",
      "Requirement already satisfied: networkx>=2.4 in c:\\users\\venki\\anaconda3\\lib\\site-packages (from visions[type_image_path]==0.7.4->pandas-profiling) (2.7.1)\n",
      "Collecting imagehash\n",
      "  Using cached ImageHash-4.2.1-py2.py3-none-any.whl\n",
      "Requirement already satisfied: Pillow in c:\\users\\venki\\anaconda3\\lib\\site-packages (from visions[type_image_path]==0.7.4->pandas-profiling) (9.0.1)\n",
      "Requirement already satisfied: packaging>=20.0 in c:\\users\\venki\\anaconda3\\lib\\site-packages (from matplotlib>=3.2.0->pandas-profiling) (21.3)\n",
      "Requirement already satisfied: pyparsing>=2.2.1 in c:\\users\\venki\\anaconda3\\lib\\site-packages (from matplotlib>=3.2.0->pandas-profiling) (3.0.4)\n",
      "Requirement already satisfied: fonttools>=4.22.0 in c:\\users\\venki\\anaconda3\\lib\\site-packages (from matplotlib>=3.2.0->pandas-profiling) (4.25.0)\n",
      "Requirement already satisfied: cycler>=0.10 in c:\\users\\venki\\anaconda3\\lib\\site-packages (from matplotlib>=3.2.0->pandas-profiling) (0.11.0)\n",
      "Requirement already satisfied: python-dateutil>=2.7 in c:\\users\\venki\\anaconda3\\lib\\site-packages (from matplotlib>=3.2.0->pandas-profiling) (2.8.2)\n",
      "Requirement already satisfied: kiwisolver>=1.0.1 in c:\\users\\venki\\anaconda3\\lib\\site-packages (from matplotlib>=3.2.0->pandas-profiling) (1.3.2)\n",
      "Requirement already satisfied: pytz>=2020.1 in c:\\users\\venki\\anaconda3\\lib\\site-packages (from pandas!=1.0.0,!=1.0.1,!=1.0.2,!=1.1.0,>=0.25.3->pandas-profiling) (2021.3)\n",
      "Requirement already satisfied: typing-extensions>=3.7.4.3 in c:\\users\\venki\\anaconda3\\lib\\site-packages (from pydantic>=1.8.1->pandas-profiling) (4.1.1)\n",
      "Requirement already satisfied: six>=1.5 in c:\\users\\venki\\anaconda3\\lib\\site-packages (from python-dateutil>=2.7->matplotlib>=3.2.0->pandas-profiling) (1.16.0)\n",
      "Requirement already satisfied: charset-normalizer~=2.0.0 in c:\\users\\venki\\anaconda3\\lib\\site-packages (from requests>=2.24.0->pandas-profiling) (2.0.4)\n",
      "Requirement already satisfied: urllib3<1.27,>=1.21.1 in c:\\users\\venki\\anaconda3\\lib\\site-packages (from requests>=2.24.0->pandas-profiling) (1.26.9)\n",
      "Requirement already satisfied: certifi>=2017.4.17 in c:\\users\\venki\\anaconda3\\lib\\site-packages (from requests>=2.24.0->pandas-profiling) (2021.10.8)\n",
      "Requirement already satisfied: idna<4,>=2.5 in c:\\users\\venki\\anaconda3\\lib\\site-packages (from requests>=2.24.0->pandas-profiling) (3.3)\n",
      "Requirement already satisfied: colorama in c:\\users\\venki\\anaconda3\\lib\\site-packages (from tqdm>=4.48.2->pandas-profiling) (0.4.4)\n",
      "Requirement already satisfied: PyWavelets in c:\\users\\venki\\anaconda3\\lib\\site-packages (from imagehash->visions[type_image_path]==0.7.4->pandas-profiling) (1.3.0)\n",
      "Installing collected packages: imagehash, pydantic, phik, missingno, htmlmin, pandas-profiling\n",
      "Successfully installed htmlmin-0.1.12 imagehash-4.2.1 missingno-0.5.1 pandas-profiling-3.2.0 phik-0.12.2 pydantic-1.9.1\n"
     ]
    }
   ],
   "source": [
    "!pip install pandas-profiling"
   ]
  },
  {
   "cell_type": "code",
   "execution_count": 16,
   "id": "ebf3d3c8",
   "metadata": {
    "scrolled": true
   },
   "outputs": [
    {
     "ename": "ImportError",
     "evalue": "cannot import name 'soft_unicode' from 'markupsafe' (C:\\Users\\venki\\anaconda3\\lib\\site-packages\\markupsafe\\__init__.py)",
     "output_type": "error",
     "traceback": [
      "\u001b[1;31m---------------------------------------------------------------------------\u001b[0m",
      "\u001b[1;31mImportError\u001b[0m                               Traceback (most recent call last)",
      "Input \u001b[1;32mIn [16]\u001b[0m, in \u001b[0;36m<cell line: 2>\u001b[1;34m()\u001b[0m\n\u001b[0;32m      1\u001b[0m \u001b[38;5;66;03m# Pandas profiling\u001b[39;00m\n\u001b[1;32m----> 2\u001b[0m \u001b[38;5;28;01mfrom\u001b[39;00m \u001b[38;5;21;01mpandas_profiling\u001b[39;00m \u001b[38;5;28;01mimport\u001b[39;00m ProfileReport\n\u001b[0;32m      3\u001b[0m prof \u001b[38;5;241m=\u001b[39m ProfileReport(data)\n\u001b[0;32m      4\u001b[0m prof\u001b[38;5;241m.\u001b[39mto_file(output_file \u001b[38;5;241m=\u001b[39m \u001b[38;5;124m'\u001b[39m\u001b[38;5;124moutput.html\u001b[39m\u001b[38;5;124m'\u001b[39m)\n",
      "File \u001b[1;32m~\\anaconda3\\lib\\site-packages\\pandas_profiling\\__init__.py:6\u001b[0m, in \u001b[0;36m<module>\u001b[1;34m\u001b[0m\n\u001b[0;32m      1\u001b[0m \u001b[38;5;124;03m\"\"\"Main module of pandas-profiling.\u001b[39;00m\n\u001b[0;32m      2\u001b[0m \n\u001b[0;32m      3\u001b[0m \u001b[38;5;124;03m.. include:: ../../README.md\u001b[39;00m\n\u001b[0;32m      4\u001b[0m \u001b[38;5;124;03m\"\"\"\u001b[39;00m\n\u001b[1;32m----> 6\u001b[0m \u001b[38;5;28;01mfrom\u001b[39;00m \u001b[38;5;21;01mpandas_profiling\u001b[39;00m\u001b[38;5;21;01m.\u001b[39;00m\u001b[38;5;21;01mcontroller\u001b[39;00m \u001b[38;5;28;01mimport\u001b[39;00m pandas_decorator\n\u001b[0;32m      7\u001b[0m \u001b[38;5;28;01mfrom\u001b[39;00m \u001b[38;5;21;01mpandas_profiling\u001b[39;00m\u001b[38;5;21;01m.\u001b[39;00m\u001b[38;5;21;01mprofile_report\u001b[39;00m \u001b[38;5;28;01mimport\u001b[39;00m ProfileReport\n\u001b[0;32m      8\u001b[0m \u001b[38;5;28;01mfrom\u001b[39;00m \u001b[38;5;21;01mpandas_profiling\u001b[39;00m\u001b[38;5;21;01m.\u001b[39;00m\u001b[38;5;21;01mversion\u001b[39;00m \u001b[38;5;28;01mimport\u001b[39;00m __version__\n",
      "File \u001b[1;32m~\\anaconda3\\lib\\site-packages\\pandas_profiling\\controller\\pandas_decorator.py:4\u001b[0m, in \u001b[0;36m<module>\u001b[1;34m\u001b[0m\n\u001b[0;32m      1\u001b[0m \u001b[38;5;124;03m\"\"\"This file add the decorator on the DataFrame object.\"\"\"\u001b[39;00m\n\u001b[0;32m      2\u001b[0m \u001b[38;5;28;01mfrom\u001b[39;00m \u001b[38;5;21;01mpandas\u001b[39;00m \u001b[38;5;28;01mimport\u001b[39;00m DataFrame\n\u001b[1;32m----> 4\u001b[0m \u001b[38;5;28;01mfrom\u001b[39;00m \u001b[38;5;21;01mpandas_profiling\u001b[39;00m\u001b[38;5;21;01m.\u001b[39;00m\u001b[38;5;21;01mprofile_report\u001b[39;00m \u001b[38;5;28;01mimport\u001b[39;00m ProfileReport\n\u001b[0;32m      7\u001b[0m \u001b[38;5;28;01mdef\u001b[39;00m \u001b[38;5;21mprofile_report\u001b[39m(df: DataFrame, \u001b[38;5;241m*\u001b[39m\u001b[38;5;241m*\u001b[39mkwargs) \u001b[38;5;241m-\u001b[39m\u001b[38;5;241m>\u001b[39m ProfileReport:\n\u001b[0;32m      8\u001b[0m     \u001b[38;5;124;03m\"\"\"Profile a DataFrame.\u001b[39;00m\n\u001b[0;32m      9\u001b[0m \n\u001b[0;32m     10\u001b[0m \u001b[38;5;124;03m    Args:\u001b[39;00m\n\u001b[1;32m   (...)\u001b[0m\n\u001b[0;32m     15\u001b[0m \u001b[38;5;124;03m        A ProfileReport of the DataFrame.\u001b[39;00m\n\u001b[0;32m     16\u001b[0m \u001b[38;5;124;03m    \"\"\"\u001b[39;00m\n",
      "File \u001b[1;32m~\\anaconda3\\lib\\site-packages\\pandas_profiling\\profile_report.py:27\u001b[0m, in \u001b[0;36m<module>\u001b[1;34m\u001b[0m\n\u001b[0;32m     25\u001b[0m \u001b[38;5;28;01mfrom\u001b[39;00m \u001b[38;5;21;01mpandas_profiling\u001b[39;00m\u001b[38;5;21;01m.\u001b[39;00m\u001b[38;5;21;01mreport\u001b[39;00m\u001b[38;5;21;01m.\u001b[39;00m\u001b[38;5;21;01mpresentation\u001b[39;00m\u001b[38;5;21;01m.\u001b[39;00m\u001b[38;5;21;01mcore\u001b[39;00m \u001b[38;5;28;01mimport\u001b[39;00m Root\n\u001b[0;32m     26\u001b[0m \u001b[38;5;28;01mfrom\u001b[39;00m \u001b[38;5;21;01mpandas_profiling\u001b[39;00m\u001b[38;5;21;01m.\u001b[39;00m\u001b[38;5;21;01mreport\u001b[39;00m\u001b[38;5;21;01m.\u001b[39;00m\u001b[38;5;21;01mpresentation\u001b[39;00m\u001b[38;5;21;01m.\u001b[39;00m\u001b[38;5;21;01mcore\u001b[39;00m\u001b[38;5;21;01m.\u001b[39;00m\u001b[38;5;21;01mrenderable\u001b[39;00m \u001b[38;5;28;01mimport\u001b[39;00m Renderable\n\u001b[1;32m---> 27\u001b[0m \u001b[38;5;28;01mfrom\u001b[39;00m \u001b[38;5;21;01mpandas_profiling\u001b[39;00m\u001b[38;5;21;01m.\u001b[39;00m\u001b[38;5;21;01mreport\u001b[39;00m\u001b[38;5;21;01m.\u001b[39;00m\u001b[38;5;21;01mpresentation\u001b[39;00m\u001b[38;5;21;01m.\u001b[39;00m\u001b[38;5;21;01mflavours\u001b[39;00m\u001b[38;5;21;01m.\u001b[39;00m\u001b[38;5;21;01mhtml\u001b[39;00m\u001b[38;5;21;01m.\u001b[39;00m\u001b[38;5;21;01mtemplates\u001b[39;00m \u001b[38;5;28;01mimport\u001b[39;00m (\n\u001b[0;32m     28\u001b[0m     create_html_assets,\n\u001b[0;32m     29\u001b[0m )\n\u001b[0;32m     30\u001b[0m \u001b[38;5;28;01mfrom\u001b[39;00m \u001b[38;5;21;01mpandas_profiling\u001b[39;00m\u001b[38;5;21;01m.\u001b[39;00m\u001b[38;5;21;01mserialize_report\u001b[39;00m \u001b[38;5;28;01mimport\u001b[39;00m SerializeReport\n\u001b[0;32m     31\u001b[0m \u001b[38;5;28;01mfrom\u001b[39;00m \u001b[38;5;21;01mpandas_profiling\u001b[39;00m\u001b[38;5;21;01m.\u001b[39;00m\u001b[38;5;21;01mutils\u001b[39;00m\u001b[38;5;21;01m.\u001b[39;00m\u001b[38;5;21;01mdataframe\u001b[39;00m \u001b[38;5;28;01mimport\u001b[39;00m hash_dataframe\n",
      "File \u001b[1;32m~\\anaconda3\\lib\\site-packages\\pandas_profiling\\report\\presentation\\flavours\\html\\__init__.py:1\u001b[0m, in \u001b[0;36m<module>\u001b[1;34m\u001b[0m\n\u001b[1;32m----> 1\u001b[0m \u001b[38;5;28;01mfrom\u001b[39;00m \u001b[38;5;21;01mpandas_profiling\u001b[39;00m\u001b[38;5;21;01m.\u001b[39;00m\u001b[38;5;21;01mreport\u001b[39;00m\u001b[38;5;21;01m.\u001b[39;00m\u001b[38;5;21;01mpresentation\u001b[39;00m\u001b[38;5;21;01m.\u001b[39;00m\u001b[38;5;21;01mflavours\u001b[39;00m\u001b[38;5;21;01m.\u001b[39;00m\u001b[38;5;21;01mhtml\u001b[39;00m\u001b[38;5;21;01m.\u001b[39;00m\u001b[38;5;21;01malerts\u001b[39;00m \u001b[38;5;28;01mimport\u001b[39;00m HTMLAlerts\n\u001b[0;32m      2\u001b[0m \u001b[38;5;28;01mfrom\u001b[39;00m \u001b[38;5;21;01mpandas_profiling\u001b[39;00m\u001b[38;5;21;01m.\u001b[39;00m\u001b[38;5;21;01mreport\u001b[39;00m\u001b[38;5;21;01m.\u001b[39;00m\u001b[38;5;21;01mpresentation\u001b[39;00m\u001b[38;5;21;01m.\u001b[39;00m\u001b[38;5;21;01mflavours\u001b[39;00m\u001b[38;5;21;01m.\u001b[39;00m\u001b[38;5;21;01mhtml\u001b[39;00m\u001b[38;5;21;01m.\u001b[39;00m\u001b[38;5;21;01mcollapse\u001b[39;00m \u001b[38;5;28;01mimport\u001b[39;00m HTMLCollapse\n\u001b[0;32m      3\u001b[0m \u001b[38;5;28;01mfrom\u001b[39;00m \u001b[38;5;21;01mpandas_profiling\u001b[39;00m\u001b[38;5;21;01m.\u001b[39;00m\u001b[38;5;21;01mreport\u001b[39;00m\u001b[38;5;21;01m.\u001b[39;00m\u001b[38;5;21;01mpresentation\u001b[39;00m\u001b[38;5;21;01m.\u001b[39;00m\u001b[38;5;21;01mflavours\u001b[39;00m\u001b[38;5;21;01m.\u001b[39;00m\u001b[38;5;21;01mhtml\u001b[39;00m\u001b[38;5;21;01m.\u001b[39;00m\u001b[38;5;21;01mcontainer\u001b[39;00m \u001b[38;5;28;01mimport\u001b[39;00m HTMLContainer\n",
      "File \u001b[1;32m~\\anaconda3\\lib\\site-packages\\pandas_profiling\\report\\presentation\\flavours\\html\\alerts.py:2\u001b[0m, in \u001b[0;36m<module>\u001b[1;34m\u001b[0m\n\u001b[0;32m      1\u001b[0m \u001b[38;5;28;01mfrom\u001b[39;00m \u001b[38;5;21;01mpandas_profiling\u001b[39;00m\u001b[38;5;21;01m.\u001b[39;00m\u001b[38;5;21;01mreport\u001b[39;00m\u001b[38;5;21;01m.\u001b[39;00m\u001b[38;5;21;01mpresentation\u001b[39;00m\u001b[38;5;21;01m.\u001b[39;00m\u001b[38;5;21;01mcore\u001b[39;00m\u001b[38;5;21;01m.\u001b[39;00m\u001b[38;5;21;01malerts\u001b[39;00m \u001b[38;5;28;01mimport\u001b[39;00m Alerts\n\u001b[1;32m----> 2\u001b[0m \u001b[38;5;28;01mfrom\u001b[39;00m \u001b[38;5;21;01mpandas_profiling\u001b[39;00m\u001b[38;5;21;01m.\u001b[39;00m\u001b[38;5;21;01mreport\u001b[39;00m\u001b[38;5;21;01m.\u001b[39;00m\u001b[38;5;21;01mpresentation\u001b[39;00m\u001b[38;5;21;01m.\u001b[39;00m\u001b[38;5;21;01mflavours\u001b[39;00m\u001b[38;5;21;01m.\u001b[39;00m\u001b[38;5;21;01mhtml\u001b[39;00m \u001b[38;5;28;01mimport\u001b[39;00m templates\n\u001b[0;32m      5\u001b[0m \u001b[38;5;28;01mclass\u001b[39;00m \u001b[38;5;21;01mHTMLAlerts\u001b[39;00m(Alerts):\n\u001b[0;32m      6\u001b[0m     \u001b[38;5;28;01mdef\u001b[39;00m \u001b[38;5;21mrender\u001b[39m(\u001b[38;5;28mself\u001b[39m) \u001b[38;5;241m-\u001b[39m\u001b[38;5;241m>\u001b[39m \u001b[38;5;28mstr\u001b[39m:\n",
      "File \u001b[1;32m~\\anaconda3\\lib\\site-packages\\pandas_profiling\\report\\presentation\\flavours\\html\\templates.py:5\u001b[0m, in \u001b[0;36m<module>\u001b[1;34m\u001b[0m\n\u001b[0;32m      2\u001b[0m \u001b[38;5;28;01mimport\u001b[39;00m \u001b[38;5;21;01mshutil\u001b[39;00m\n\u001b[0;32m      3\u001b[0m \u001b[38;5;28;01mfrom\u001b[39;00m \u001b[38;5;21;01mpathlib\u001b[39;00m \u001b[38;5;28;01mimport\u001b[39;00m Path\n\u001b[1;32m----> 5\u001b[0m \u001b[38;5;28;01mimport\u001b[39;00m \u001b[38;5;21;01mjinja2\u001b[39;00m\n\u001b[0;32m      7\u001b[0m \u001b[38;5;28;01mfrom\u001b[39;00m \u001b[38;5;21;01mpandas_profiling\u001b[39;00m\u001b[38;5;21;01m.\u001b[39;00m\u001b[38;5;21;01mconfig\u001b[39;00m \u001b[38;5;28;01mimport\u001b[39;00m Settings, Theme\n\u001b[0;32m      8\u001b[0m \u001b[38;5;28;01mfrom\u001b[39;00m \u001b[38;5;21;01mpandas_profiling\u001b[39;00m\u001b[38;5;21;01m.\u001b[39;00m\u001b[38;5;21;01mreport\u001b[39;00m\u001b[38;5;21;01m.\u001b[39;00m\u001b[38;5;21;01mformatters\u001b[39;00m \u001b[38;5;28;01mimport\u001b[39;00m fmt, fmt_badge, fmt_numeric, fmt_percent\n",
      "File \u001b[1;32m~\\anaconda3\\lib\\site-packages\\jinja2\\__init__.py:12\u001b[0m, in \u001b[0;36m<module>\u001b[1;34m\u001b[0m\n\u001b[0;32m     10\u001b[0m \u001b[38;5;28;01mfrom\u001b[39;00m \u001b[38;5;21;01m.\u001b[39;00m\u001b[38;5;21;01mbccache\u001b[39;00m \u001b[38;5;28;01mimport\u001b[39;00m FileSystemBytecodeCache\n\u001b[0;32m     11\u001b[0m \u001b[38;5;28;01mfrom\u001b[39;00m \u001b[38;5;21;01m.\u001b[39;00m\u001b[38;5;21;01mbccache\u001b[39;00m \u001b[38;5;28;01mimport\u001b[39;00m MemcachedBytecodeCache\n\u001b[1;32m---> 12\u001b[0m \u001b[38;5;28;01mfrom\u001b[39;00m \u001b[38;5;21;01m.\u001b[39;00m\u001b[38;5;21;01menvironment\u001b[39;00m \u001b[38;5;28;01mimport\u001b[39;00m Environment\n\u001b[0;32m     13\u001b[0m \u001b[38;5;28;01mfrom\u001b[39;00m \u001b[38;5;21;01m.\u001b[39;00m\u001b[38;5;21;01menvironment\u001b[39;00m \u001b[38;5;28;01mimport\u001b[39;00m Template\n\u001b[0;32m     14\u001b[0m \u001b[38;5;28;01mfrom\u001b[39;00m \u001b[38;5;21;01m.\u001b[39;00m\u001b[38;5;21;01mexceptions\u001b[39;00m \u001b[38;5;28;01mimport\u001b[39;00m TemplateAssertionError\n",
      "File \u001b[1;32m~\\anaconda3\\lib\\site-packages\\jinja2\\environment.py:25\u001b[0m, in \u001b[0;36m<module>\u001b[1;34m\u001b[0m\n\u001b[0;32m     23\u001b[0m \u001b[38;5;28;01mfrom\u001b[39;00m \u001b[38;5;21;01m.\u001b[39;00m\u001b[38;5;21;01mcompiler\u001b[39;00m \u001b[38;5;28;01mimport\u001b[39;00m CodeGenerator\n\u001b[0;32m     24\u001b[0m \u001b[38;5;28;01mfrom\u001b[39;00m \u001b[38;5;21;01m.\u001b[39;00m\u001b[38;5;21;01mcompiler\u001b[39;00m \u001b[38;5;28;01mimport\u001b[39;00m generate\n\u001b[1;32m---> 25\u001b[0m \u001b[38;5;28;01mfrom\u001b[39;00m \u001b[38;5;21;01m.\u001b[39;00m\u001b[38;5;21;01mdefaults\u001b[39;00m \u001b[38;5;28;01mimport\u001b[39;00m BLOCK_END_STRING\n\u001b[0;32m     26\u001b[0m \u001b[38;5;28;01mfrom\u001b[39;00m \u001b[38;5;21;01m.\u001b[39;00m\u001b[38;5;21;01mdefaults\u001b[39;00m \u001b[38;5;28;01mimport\u001b[39;00m BLOCK_START_STRING\n\u001b[0;32m     27\u001b[0m \u001b[38;5;28;01mfrom\u001b[39;00m \u001b[38;5;21;01m.\u001b[39;00m\u001b[38;5;21;01mdefaults\u001b[39;00m \u001b[38;5;28;01mimport\u001b[39;00m COMMENT_END_STRING\n",
      "File \u001b[1;32m~\\anaconda3\\lib\\site-packages\\jinja2\\defaults.py:3\u001b[0m, in \u001b[0;36m<module>\u001b[1;34m\u001b[0m\n\u001b[0;32m      1\u001b[0m \u001b[38;5;66;03m# -*- coding: utf-8 -*-\u001b[39;00m\n\u001b[0;32m      2\u001b[0m \u001b[38;5;28;01mfrom\u001b[39;00m \u001b[38;5;21;01m.\u001b[39;00m\u001b[38;5;21;01m_compat\u001b[39;00m \u001b[38;5;28;01mimport\u001b[39;00m range_type\n\u001b[1;32m----> 3\u001b[0m \u001b[38;5;28;01mfrom\u001b[39;00m \u001b[38;5;21;01m.\u001b[39;00m\u001b[38;5;21;01mfilters\u001b[39;00m \u001b[38;5;28;01mimport\u001b[39;00m FILTERS \u001b[38;5;28;01mas\u001b[39;00m DEFAULT_FILTERS  \u001b[38;5;66;03m# noqa: F401\u001b[39;00m\n\u001b[0;32m      4\u001b[0m \u001b[38;5;28;01mfrom\u001b[39;00m \u001b[38;5;21;01m.\u001b[39;00m\u001b[38;5;21;01mtests\u001b[39;00m \u001b[38;5;28;01mimport\u001b[39;00m TESTS \u001b[38;5;28;01mas\u001b[39;00m DEFAULT_TESTS  \u001b[38;5;66;03m# noqa: F401\u001b[39;00m\n\u001b[0;32m      5\u001b[0m \u001b[38;5;28;01mfrom\u001b[39;00m \u001b[38;5;21;01m.\u001b[39;00m\u001b[38;5;21;01mutils\u001b[39;00m \u001b[38;5;28;01mimport\u001b[39;00m Cycler\n",
      "File \u001b[1;32m~\\anaconda3\\lib\\site-packages\\jinja2\\filters.py:13\u001b[0m, in \u001b[0;36m<module>\u001b[1;34m\u001b[0m\n\u001b[0;32m     11\u001b[0m \u001b[38;5;28;01mfrom\u001b[39;00m \u001b[38;5;21;01mmarkupsafe\u001b[39;00m \u001b[38;5;28;01mimport\u001b[39;00m escape\n\u001b[0;32m     12\u001b[0m \u001b[38;5;28;01mfrom\u001b[39;00m \u001b[38;5;21;01mmarkupsafe\u001b[39;00m \u001b[38;5;28;01mimport\u001b[39;00m Markup\n\u001b[1;32m---> 13\u001b[0m \u001b[38;5;28;01mfrom\u001b[39;00m \u001b[38;5;21;01mmarkupsafe\u001b[39;00m \u001b[38;5;28;01mimport\u001b[39;00m soft_unicode\n\u001b[0;32m     15\u001b[0m \u001b[38;5;28;01mfrom\u001b[39;00m \u001b[38;5;21;01m.\u001b[39;00m\u001b[38;5;21;01m_compat\u001b[39;00m \u001b[38;5;28;01mimport\u001b[39;00m abc\n\u001b[0;32m     16\u001b[0m \u001b[38;5;28;01mfrom\u001b[39;00m \u001b[38;5;21;01m.\u001b[39;00m\u001b[38;5;21;01m_compat\u001b[39;00m \u001b[38;5;28;01mimport\u001b[39;00m imap\n",
      "\u001b[1;31mImportError\u001b[0m: cannot import name 'soft_unicode' from 'markupsafe' (C:\\Users\\venki\\anaconda3\\lib\\site-packages\\markupsafe\\__init__.py)"
     ]
    }
   ],
   "source": [
    "# Pandas profiling\n",
    "from pandas_profiling import ProfileReport\n",
    "prof = ProfileReport(data)\n",
    "prof.to_file(output_file = 'output.html')"
   ]
  },
  {
   "cell_type": "markdown",
   "id": "4e547ef1",
   "metadata": {},
   "source": [
    "# Data Pre-processing"
   ]
  },
  {
   "cell_type": "code",
   "execution_count": 30,
   "id": "664aafa3",
   "metadata": {},
   "outputs": [
    {
     "data": {
      "text/plain": [
       "(525, 17)"
      ]
     },
     "execution_count": 30,
     "metadata": {},
     "output_type": "execute_result"
    }
   ],
   "source": [
    "data.drop(['s.no'], axis = 1, inplace = True)\n",
    "# s.no column has no information, so dorp it.\n",
    "data.shape"
   ]
  },
  {
   "cell_type": "code",
   "execution_count": 31,
   "id": "196bd5f2",
   "metadata": {},
   "outputs": [
    {
     "data": {
      "text/plain": [
       "0"
      ]
     },
     "execution_count": 31,
     "metadata": {},
     "output_type": "execute_result"
    }
   ],
   "source": [
    "# hndling Duplicates #\n",
    "data.duplicated().sum()  # no duplicates in the data set"
   ]
  },
  {
   "cell_type": "code",
   "execution_count": 32,
   "id": "01adf741",
   "metadata": {},
   "outputs": [
    {
     "data": {
      "text/plain": [
       "Institute                    0\n",
       "Subject                      0\n",
       "Location                     0\n",
       "Trainer_Qualification        0\n",
       "Online_classes               0\n",
       "Offline_classes              0\n",
       "Course_level                 0\n",
       "Placements                   0\n",
       "Certificate                  0\n",
       "Trainer_experiance           0\n",
       "Course_hours                 0\n",
       "Course_rating                0\n",
       "Rental_permises              0\n",
       "Trainer_slary                0\n",
       "Maintaince_cost              0\n",
       "Non_teaching_staff_salary    0\n",
       "Price                        0\n",
       "dtype: int64"
      ]
     },
     "execution_count": 32,
     "metadata": {},
     "output_type": "execute_result"
    }
   ],
   "source": [
    "# Handling Missing values #\n",
    "data.isna().sum() # No missing values in the data set"
   ]
  },
  {
   "cell_type": "markdown",
   "id": "e02ec125",
   "metadata": {},
   "source": [
    "### Checking the data is balanced or imbalanced"
   ]
  },
  {
   "cell_type": "code",
   "execution_count": 34,
   "id": "666c5b58",
   "metadata": {},
   "outputs": [
    {
     "data": {
      "text/plain": [
       "innomatics      49\n",
       "Great_Learn     46\n",
       "Coursera        45\n",
       "Datatrain       41\n",
       "Upgrad          41\n",
       "ExcelR          40\n",
       "Simple_learn    36\n",
       "Udemy           35\n",
       "Edvancer        34\n",
       "Edureka         33\n",
       "Guvi            32\n",
       "Data_camp       32\n",
       "Edx             31\n",
       "360DigiTMG      30\n",
       "Name: Institute, dtype: int64"
      ]
     },
     "execution_count": 34,
     "metadata": {},
     "output_type": "execute_result"
    }
   ],
   "source": [
    "data['Institute'].value_counts()"
   ]
  },
  {
   "cell_type": "code",
   "execution_count": 35,
   "id": "ae105d01",
   "metadata": {},
   "outputs": [
    {
     "data": {
      "text/plain": [
       "ProjectManagement         62\n",
       "python                    60\n",
       "DataScience               58\n",
       "ArtificialIntelligence    53\n",
       "FullstackDataScience      53\n",
       "BigData                   52\n",
       "CloudComputing            52\n",
       "DigitalTransformation     46\n",
       "DigitalMarketing          45\n",
       "Dataanalysis              44\n",
       "Name: Subject, dtype: int64"
      ]
     },
     "execution_count": 35,
     "metadata": {},
     "output_type": "execute_result"
    }
   ],
   "source": [
    "data['Subject'].value_counts()"
   ]
  },
  {
   "cell_type": "code",
   "execution_count": 36,
   "id": "217ff077",
   "metadata": {},
   "outputs": [
    {
     "data": {
      "text/plain": [
       "Graduate         184\n",
       "Doctorate        178\n",
       "UnderGraduate    163\n",
       "Name: Trainer_Qualification, dtype: int64"
      ]
     },
     "execution_count": 36,
     "metadata": {},
     "output_type": "execute_result"
    }
   ],
   "source": [
    "data['Trainer_Qualification'].value_counts()"
   ]
  },
  {
   "cell_type": "code",
   "execution_count": 37,
   "id": "58f7ec53",
   "metadata": {},
   "outputs": [
    {
     "data": {
      "text/plain": [
       "Yes    290\n",
       "no     235\n",
       "Name: Online_classes, dtype: int64"
      ]
     },
     "execution_count": 37,
     "metadata": {},
     "output_type": "execute_result"
    }
   ],
   "source": [
    "data['Online_classes'].value_counts()"
   ]
  },
  {
   "cell_type": "markdown",
   "id": "c520eeff",
   "metadata": {},
   "source": [
    "* All columns have balanced data"
   ]
  },
  {
   "cell_type": "code",
   "execution_count": 39,
   "id": "6a06b4f2",
   "metadata": {},
   "outputs": [],
   "source": [
    "## Label encoder (Converting categorical into numeric)\n",
    "cols = ['Institute', 'Subject', 'Location', 'Trainer_Qualification','Online_classes', 'Offline_classes',\n",
    "        'Course_level','Placements', 'Certificate']\n",
    "\n",
    "from sklearn.preprocessing import LabelEncoder\n",
    "le = LabelEncoder()\n",
    "\n",
    "# Instantiate the encoders\n",
    "encoders = {column: le for column in cols}\n",
    "\n",
    "for column in cols:\n",
    "    data[column] = encoders[column].fit_transform(data[column])"
   ]
  },
  {
   "cell_type": "code",
   "execution_count": 40,
   "id": "62bb900a",
   "metadata": {},
   "outputs": [
    {
     "name": "stdout",
     "output_type": "stream",
     "text": [
      "<class 'pandas.core.frame.DataFrame'>\n",
      "RangeIndex: 525 entries, 0 to 524\n",
      "Data columns (total 17 columns):\n",
      " #   Column                     Non-Null Count  Dtype\n",
      "---  ------                     --------------  -----\n",
      " 0   Institute                  525 non-null    int64\n",
      " 1   Subject                    525 non-null    int64\n",
      " 2   Location                   525 non-null    int64\n",
      " 3   Trainer_Qualification      525 non-null    int64\n",
      " 4   Online_classes             525 non-null    int64\n",
      " 5   Offline_classes            525 non-null    int64\n",
      " 6   Course_level               525 non-null    int64\n",
      " 7   Placements                 525 non-null    int64\n",
      " 8   Certificate                525 non-null    int64\n",
      " 9   Trainer_experiance         525 non-null    int64\n",
      " 10  Course_hours               525 non-null    int64\n",
      " 11  Course_rating              525 non-null    int64\n",
      " 12  Rental_permises            525 non-null    int64\n",
      " 13  Trainer_slary              525 non-null    int64\n",
      " 14  Maintaince_cost            525 non-null    int64\n",
      " 15  Non_teaching_staff_salary  525 non-null    int64\n",
      " 16  Price                      525 non-null    int64\n",
      "dtypes: int64(17)\n",
      "memory usage: 69.9 KB\n"
     ]
    }
   ],
   "source": [
    "data.info()"
   ]
  },
  {
   "cell_type": "markdown",
   "id": "b40d6e33",
   "metadata": {},
   "source": [
    "* Categorical columns are converted into numeric "
   ]
  },
  {
   "cell_type": "code",
   "execution_count": 41,
   "id": "438221da",
   "metadata": {},
   "outputs": [
    {
     "data": {
      "text/plain": [
       "Index(['Institute', 'Subject', 'Location', 'Trainer_Qualification',\n",
       "       'Online_classes', 'Offline_classes', 'Course_level', 'Placements',\n",
       "       'Certificate', 'Trainer_experiance', 'Course_hours', 'Course_rating',\n",
       "       'Rental_permises', 'Trainer_slary', 'Maintaince_cost',\n",
       "       'Non_teaching_staff_salary', 'Price'],\n",
       "      dtype='object')"
      ]
     },
     "execution_count": 41,
     "metadata": {},
     "output_type": "execute_result"
    }
   ],
   "source": [
    "data.columns"
   ]
  },
  {
   "cell_type": "code",
   "execution_count": 43,
   "id": "cc0bdd39",
   "metadata": {},
   "outputs": [
    {
     "name": "stderr",
     "output_type": "stream",
     "text": [
      "/home/venky/anaconda3/lib/python3.9/site-packages/seaborn/_decorators.py:36: FutureWarning: Pass the following variable as a keyword arg: x. From version 0.12, the only valid positional argument will be `data`, and passing other arguments without an explicit keyword will result in an error or misinterpretation.\n",
      "  warnings.warn(\n"
     ]
    },
    {
     "data": {
      "image/png": "[encoded data removed]",
      "text/plain": [
       "<Figure size 432x288 with 1 Axes>"
      ]
     },
     "metadata": {
      "needs_background": "light"
     },
     "output_type": "display_data"
    },
    {
     "name": "stderr",
     "output_type": "stream",
     "text": [
      "/home/venky/anaconda3/lib/python3.9/site-packages/seaborn/_decorators.py:36: FutureWarning: Pass the following variable as a keyword arg: x. From version 0.12, the only valid positional argument will be `data`, and passing other arguments without an explicit keyword will result in an error or misinterpretation.\n",
      "  warnings.warn(\n"
     ]
    },
    {
     "data": {
      "image/png": "[encoded data removed]",
      "text/plain": [
       "<Figure size 432x288 with 1 Axes>"
      ]
     },
     "metadata": {
      "needs_background": "light"
     },
     "output_type": "display_data"
    },
    {
     "name": "stderr",
     "output_type": "stream",
     "text": [
      "/home/venky/anaconda3/lib/python3.9/site-packages/seaborn/_decorators.py:36: FutureWarning: Pass the following variable as a keyword arg: x. From version 0.12, the only valid positional argument will be `data`, and passing other arguments without an explicit keyword will result in an error or misinterpretation.\n",
      "  warnings.warn(\n"
     ]
    },
    {
     "data": {
      "image/png": "[encoded data removed]",
      "text/plain": [
       "<Figure size 432x288 with 1 Axes>"
      ]
     },
     "metadata": {
      "needs_background": "light"
     },
     "output_type": "display_data"
    },
    {
     "name": "stderr",
     "output_type": "stream",
     "text": [
      "/home/venky/anaconda3/lib/python3.9/site-packages/seaborn/_decorators.py:36: FutureWarning: Pass the following variable as a keyword arg: x. From version 0.12, the only valid positional argument will be `data`, and passing other arguments without an explicit keyword will result in an error or misinterpretation.\n",
      "  warnings.warn(\n"
     ]
    },
    {
     "data": {
      "image/png": "[encoded data removed]",
      "text/plain": [
       "<Figure size 432x288 with 1 Axes>"
      ]
     },
     "metadata": {
      "needs_background": "light"
     },
     "output_type": "display_data"
    },
    {
     "name": "stderr",
     "output_type": "stream",
     "text": [
      "/home/venky/anaconda3/lib/python3.9/site-packages/seaborn/_decorators.py:36: FutureWarning: Pass the following variable as a keyword arg: x. From version 0.12, the only valid positional argument will be `data`, and passing other arguments without an explicit keyword will result in an error or misinterpretation.\n",
      "  warnings.warn(\n"
     ]
    },
    {
     "data": {
      "image/png": "[encoded data removed]",
      "text/plain": [
       "<Figure size 432x288 with 1 Axes>"
      ]
     },
     "metadata": {
      "needs_background": "light"
     },
     "output_type": "display_data"
    },
    {
     "name": "stderr",
     "output_type": "stream",
     "text": [
      "/home/venky/anaconda3/lib/python3.9/site-packages/seaborn/_decorators.py:36: FutureWarning: Pass the following variable as a keyword arg: x. From version 0.12, the only valid positional argument will be `data`, and passing other arguments without an explicit keyword will result in an error or misinterpretation.\n",
      "  warnings.warn(\n"
     ]
    },
    {
     "data": {
      "image/png": "[encoded data removed]",
      "text/plain": [
       "<Figure size 432x288 with 1 Axes>"
      ]
     },
     "metadata": {
      "needs_background": "light"
     },
     "output_type": "display_data"
    },
    {
     "name": "stderr",
     "output_type": "stream",
     "text": [
      "/home/venky/anaconda3/lib/python3.9/site-packages/seaborn/_decorators.py:36: FutureWarning: Pass the following variable as a keyword arg: x. From version 0.12, the only valid positional argument will be `data`, and passing other arguments without an explicit keyword will result in an error or misinterpretation.\n",
      "  warnings.warn(\n"
     ]
    },
    {
     "data": {
      "image/png": "[encoded data removed]",
      "text/plain": [
       "<Figure size 432x288 with 1 Axes>"
      ]
     },
     "metadata": {
      "needs_background": "light"
     },
     "output_type": "display_data"
    },
    {
     "name": "stderr",
     "output_type": "stream",
     "text": [
      "/home/venky/anaconda3/lib/python3.9/site-packages/seaborn/_decorators.py:36: FutureWarning: Pass the following variable as a keyword arg: x. From version 0.12, the only valid positional argument will be `data`, and passing other arguments without an explicit keyword will result in an error or misinterpretation.\n",
      "  warnings.warn(\n"
     ]
    },
    {
     "data": {
      "image/png": "[encoded data removed]",
      "text/plain": [
       "<Figure size 432x288 with 1 Axes>"
      ]
     },
     "metadata": {
      "needs_background": "light"
     },
     "output_type": "display_data"
    },
    {
     "name": "stderr",
     "output_type": "stream",
     "text": [
      "/home/venky/anaconda3/lib/python3.9/site-packages/seaborn/_decorators.py:36: FutureWarning: Pass the following variable as a keyword arg: x. From version 0.12, the only valid positional argument will be `data`, and passing other arguments without an explicit keyword will result in an error or misinterpretation.\n",
      "  warnings.warn(\n"
     ]
    },
    {
     "data": {
      "image/png": "[encoded data removed]",
      "text/plain": [
       "<Figure size 432x288 with 1 Axes>"
      ]
     },
     "metadata": {
      "needs_background": "light"
     },
     "output_type": "display_data"
    },
    {
     "name": "stderr",
     "output_type": "stream",
     "text": [
      "/home/venky/anaconda3/lib/python3.9/site-packages/seaborn/_decorators.py:36: FutureWarning: Pass the following variable as a keyword arg: x. From version 0.12, the only valid positional argument will be `data`, and passing other arguments without an explicit keyword will result in an error or misinterpretation.\n",
      "  warnings.warn(\n"
     ]
    },
    {
     "data": {
      "image/png": "[encoded data removed]",
      "text/plain": [
       "<Figure size 432x288 with 1 Axes>"
      ]
     },
     "metadata": {
      "needs_background": "light"
     },
     "output_type": "display_data"
    },
    {
     "name": "stderr",
     "output_type": "stream",
     "text": [
      "/home/venky/anaconda3/lib/python3.9/site-packages/seaborn/_decorators.py:36: FutureWarning: Pass the following variable as a keyword arg: x. From version 0.12, the only valid positional argument will be `data`, and passing other arguments without an explicit keyword will result in an error or misinterpretation.\n",
      "  warnings.warn(\n"
     ]
    },
    {
     "data": {
      "image/png": "[encoded data removed]",
      "text/plain": [
       "<Figure size 432x288 with 1 Axes>"
      ]
     },
     "metadata": {
      "needs_background": "light"
     },
     "output_type": "display_data"
    },
    {
     "name": "stderr",
     "output_type": "stream",
     "text": [
      "/home/venky/anaconda3/lib/python3.9/site-packages/seaborn/_decorators.py:36: FutureWarning: Pass the following variable as a keyword arg: x. From version 0.12, the only valid positional argument will be `data`, and passing other arguments without an explicit keyword will result in an error or misinterpretation.\n",
      "  warnings.warn(\n"
     ]
    },
    {
     "data": {
      "image/png": "[encoded data removed]",
      "text/plain": [
       "<Figure size 432x288 with 1 Axes>"
      ]
     },
     "metadata": {
      "needs_background": "light"
     },
     "output_type": "display_data"
    },
    {
     "name": "stderr",
     "output_type": "stream",
     "text": [
      "/home/venky/anaconda3/lib/python3.9/site-packages/seaborn/_decorators.py:36: FutureWarning: Pass the following variable as a keyword arg: x. From version 0.12, the only valid positional argument will be `data`, and passing other arguments without an explicit keyword will result in an error or misinterpretation.\n",
      "  warnings.warn(\n"
     ]
    },
    {
     "data": {
      "image/png": "[encoded data removed]",
      "text/plain": [
       "<Figure size 432x288 with 1 Axes>"
      ]
     },
     "metadata": {
      "needs_background": "light"
     },
     "output_type": "display_data"
    },
    {
     "name": "stderr",
     "output_type": "stream",
     "text": [
      "/home/venky/anaconda3/lib/python3.9/site-packages/seaborn/_decorators.py:36: FutureWarning: Pass the following variable as a keyword arg: x. From version 0.12, the only valid positional argument will be `data`, and passing other arguments without an explicit keyword will result in an error or misinterpretation.\n",
      "  warnings.warn(\n"
     ]
    },
    {
     "data": {
      "image/png": "[encoded data removed]",
      "text/plain": [
       "<Figure size 432x288 with 1 Axes>"
      ]
     },
     "metadata": {
      "needs_background": "light"
     },
     "output_type": "display_data"
    },
    {
     "name": "stderr",
     "output_type": "stream",
     "text": [
      "/home/venky/anaconda3/lib/python3.9/site-packages/seaborn/_decorators.py:36: FutureWarning: Pass the following variable as a keyword arg: x. From version 0.12, the only valid positional argument will be `data`, and passing other arguments without an explicit keyword will result in an error or misinterpretation.\n",
      "  warnings.warn(\n"
     ]
    },
    {
     "data": {
      "image/png": "[encoded data removed]",
      "text/plain": [
       "<Figure size 432x288 with 1 Axes>"
      ]
     },
     "metadata": {
      "needs_background": "light"
     },
     "output_type": "display_data"
    },
    {
     "name": "stderr",
     "output_type": "stream",
     "text": [
      "/home/venky/anaconda3/lib/python3.9/site-packages/seaborn/_decorators.py:36: FutureWarning: Pass the following variable as a keyword arg: x. From version 0.12, the only valid positional argument will be `data`, and passing other arguments without an explicit keyword will result in an error or misinterpretation.\n",
      "  warnings.warn(\n"
     ]
    },
    {
     "data": {
      "image/png": "[encoded data removed]",
      "text/plain": [
       "<Figure size 432x288 with 1 Axes>"
      ]
     },
     "metadata": {
      "needs_background": "light"
     },
     "output_type": "display_data"
    },
    {
     "name": "stderr",
     "output_type": "stream",
     "text": [
      "/home/venky/anaconda3/lib/python3.9/site-packages/seaborn/_decorators.py:36: FutureWarning: Pass the following variable as a keyword arg: x. From version 0.12, the only valid positional argument will be `data`, and passing other arguments without an explicit keyword will result in an error or misinterpretation.\n",
      "  warnings.warn(\n"
     ]
    },
    {
     "data": {
      "image/png": "[encoded data removed]",
      "text/plain": [
       "<Figure size 432x288 with 1 Axes>"
      ]
     },
     "metadata": {
      "needs_background": "light"
     },
     "output_type": "display_data"
    }
   ],
   "source": [
    "cols = ['Institute', 'Subject', 'Location', 'Trainer_Qualification',\n",
    "       'Online_classes', 'Offline_classes', 'Course_level', 'Placements',\n",
    "       'Certificate', 'Trainer_experiance', 'Course_hours', 'Course_rating',\n",
    "       'Rental_permises', 'Trainer_slary', 'Maintaince_cost',\n",
    "       'Non_teaching_staff_salary', 'Price']\n",
    "\n",
    "## check ing outliers\n",
    "import seaborn as sns\n",
    "import matplotlib.pyplot as plt\n",
    "\n",
    "for i in cols:\n",
    "    sns.boxplot(data[i]); plt.show() "
   ]
  },
  {
   "cell_type": "markdown",
   "id": "e1535213",
   "metadata": {},
   "source": [
    "* No outliers"
   ]
  },
  {
   "cell_type": "code",
   "execution_count": 44,
   "id": "1103e54a",
   "metadata": {},
   "outputs": [
    {
     "data": {
      "text/plain": [
       "Institute                        16.826245\n",
       "Subject                           8.763737\n",
       "Location                          6.746456\n",
       "Trainer_Qualification             0.649945\n",
       "Online_classes                    0.247728\n",
       "Offline_classes                   0.249909\n",
       "Course_level                      0.657346\n",
       "Placements                        0.250324\n",
       "Certificate                       0.000000\n",
       "Trainer_experiance               30.425482\n",
       "Course_hours                   2255.547924\n",
       "Course_rating                     1.482137\n",
       "Rental_permises                1532.557346\n",
       "Trainer_slary                 30434.592308\n",
       "Maintaince_cost                1519.115972\n",
       "Non_teaching_staff_salary      2567.271523\n",
       "Price                        118210.217499\n",
       "dtype: float64"
      ]
     },
     "execution_count": 44,
     "metadata": {},
     "output_type": "execute_result"
    }
   ],
   "source": [
    "# Checking variance #\n",
    "data.var()"
   ]
  },
  {
   "cell_type": "code",
   "execution_count": 45,
   "id": "d622fdab",
   "metadata": {},
   "outputs": [
    {
     "data": {
      "text/plain": [
       "Index(['Institute', 'Subject', 'Location', 'Trainer_Qualification',\n",
       "       'Online_classes', 'Offline_classes', 'Course_level', 'Placements',\n",
       "       'Trainer_experiance', 'Course_hours', 'Course_rating',\n",
       "       'Rental_permises', 'Trainer_slary', 'Maintaince_cost',\n",
       "       'Non_teaching_staff_salary', 'Price'],\n",
       "      dtype='object')"
      ]
     },
     "execution_count": 45,
     "metadata": {},
     "output_type": "execute_result"
    }
   ],
   "source": [
    "## Certificate column has zero variance, so drop it\n",
    "data.drop(['Certificate'], axis = 1, inplace = True)\n",
    "data.columns"
   ]
  },
  {
   "cell_type": "code",
   "execution_count": 46,
   "id": "605886d6",
   "metadata": {},
   "outputs": [
    {
     "data": {
      "text/plain": [
       "(525, 16)"
      ]
     },
     "execution_count": 46,
     "metadata": {},
     "output_type": "execute_result"
    }
   ],
   "source": [
    "data.shape"
   ]
  },
  {
   "cell_type": "code",
   "execution_count": 47,
   "id": "955c1d4d",
   "metadata": {},
   "outputs": [
    {
     "data": {
      "text/html": [
       "<table class=\"simpletable\">\n",
       "<caption>OLS Regression Results</caption>\n",
       "<tr>\n",
       "  <th>Dep. Variable:</th>          <td>Price</td>      <th>  R-squared:         </th> <td>   0.989</td>\n",
       "</tr>\n",
       "<tr>\n",
       "  <th>Model:</th>                   <td>OLS</td>       <th>  Adj. R-squared:    </th> <td>   0.989</td>\n",
       "</tr>\n",
       "<tr>\n",
       "  <th>Method:</th>             <td>Least Squares</td>  <th>  F-statistic:       </th> <td>   3354.</td>\n",
       "</tr>\n",
       "<tr>\n",
       "  <th>Date:</th>             <td>Fri, 01 Jul 2022</td> <th>  Prob (F-statistic):</th>  <td>  0.00</td> \n",
       "</tr>\n",
       "<tr>\n",
       "  <th>Time:</th>                 <td>10:46:20</td>     <th>  Log-Likelihood:    </th> <td> -2620.5</td>\n",
       "</tr>\n",
       "<tr>\n",
       "  <th>No. Observations:</th>      <td>   525</td>      <th>  AIC:               </th> <td>   5271.</td>\n",
       "</tr>\n",
       "<tr>\n",
       "  <th>Df Residuals:</th>          <td>   510</td>      <th>  BIC:               </th> <td>   5335.</td>\n",
       "</tr>\n",
       "<tr>\n",
       "  <th>Df Model:</th>              <td>    14</td>      <th>                     </th>     <td> </td>   \n",
       "</tr>\n",
       "<tr>\n",
       "  <th>Covariance Type:</th>      <td>nonrobust</td>    <th>                     </th>     <td> </td>   \n",
       "</tr>\n",
       "</table>\n",
       "<table class=\"simpletable\">\n",
       "<tr>\n",
       "              <td></td>                 <th>coef</th>     <th>std err</th>      <th>t</th>      <th>P>|t|</th>  <th>[0.025</th>    <th>0.975]</th>  \n",
       "</tr>\n",
       "<tr>\n",
       "  <th>Intercept</th>                 <td>   64.3284</td> <td>   13.243</td> <td>    4.858</td> <td> 0.000</td> <td>   38.311</td> <td>   90.346</td>\n",
       "</tr>\n",
       "<tr>\n",
       "  <th>Institute</th>                 <td>    0.7490</td> <td>    0.394</td> <td>    1.899</td> <td> 0.058</td> <td>   -0.026</td> <td>    1.524</td>\n",
       "</tr>\n",
       "<tr>\n",
       "  <th>Subject</th>                   <td>   -0.3616</td> <td>    0.556</td> <td>   -0.650</td> <td> 0.516</td> <td>   -1.455</td> <td>    0.731</td>\n",
       "</tr>\n",
       "<tr>\n",
       "  <th>Location</th>                  <td>    0.3169</td> <td>    0.623</td> <td>    0.509</td> <td> 0.611</td> <td>   -0.907</td> <td>    1.541</td>\n",
       "</tr>\n",
       "<tr>\n",
       "  <th>Trainer_Qualification</th>     <td>    1.4185</td> <td>    2.017</td> <td>    0.703</td> <td> 0.482</td> <td>   -2.544</td> <td>    5.381</td>\n",
       "</tr>\n",
       "<tr>\n",
       "  <th>Online_classes</th>            <td>   -0.0601</td> <td>    3.233</td> <td>   -0.019</td> <td> 0.985</td> <td>   -6.411</td> <td>    6.291</td>\n",
       "</tr>\n",
       "<tr>\n",
       "  <th>Offline_classes</th>           <td>   -4.1354</td> <td>    3.212</td> <td>   -1.287</td> <td> 0.199</td> <td>  -10.446</td> <td>    2.175</td>\n",
       "</tr>\n",
       "<tr>\n",
       "  <th>Course_level</th>              <td>    1.8705</td> <td>    1.994</td> <td>    0.938</td> <td> 0.349</td> <td>   -2.046</td> <td>    5.787</td>\n",
       "</tr>\n",
       "<tr>\n",
       "  <th>Course_hours</th>              <td>    1.8423</td> <td>    0.252</td> <td>    7.321</td> <td> 0.000</td> <td>    1.348</td> <td>    2.337</td>\n",
       "</tr>\n",
       "<tr>\n",
       "  <th>Course_rating</th>             <td>    5.2488</td> <td>    4.940</td> <td>    1.063</td> <td> 0.288</td> <td>   -4.456</td> <td>   14.954</td>\n",
       "</tr>\n",
       "<tr>\n",
       "  <th>Rental_permises</th>           <td>    3.6064</td> <td>    0.467</td> <td>    7.723</td> <td> 0.000</td> <td>    2.689</td> <td>    4.524</td>\n",
       "</tr>\n",
       "<tr>\n",
       "  <th>Trainer_slary</th>             <td>    0.0805</td> <td>    0.074</td> <td>    1.082</td> <td> 0.280</td> <td>   -0.066</td> <td>    0.227</td>\n",
       "</tr>\n",
       "<tr>\n",
       "  <th>Maintaince_cost</th>           <td>    0.2670</td> <td>    0.271</td> <td>    0.986</td> <td> 0.324</td> <td>   -0.265</td> <td>    0.799</td>\n",
       "</tr>\n",
       "<tr>\n",
       "  <th>Non_teaching_staff_salary</th> <td>    1.6797</td> <td>    0.160</td> <td>   10.468</td> <td> 0.000</td> <td>    1.364</td> <td>    1.995</td>\n",
       "</tr>\n",
       "<tr>\n",
       "  <th>Placements</th>                <td>   -1.1023</td> <td>    3.211</td> <td>   -0.343</td> <td> 0.731</td> <td>   -7.410</td> <td>    5.205</td>\n",
       "</tr>\n",
       "</table>\n",
       "<table class=\"simpletable\">\n",
       "<tr>\n",
       "  <th>Omnibus:</th>       <td>275.332</td> <th>  Durbin-Watson:     </th> <td>   1.639</td> \n",
       "</tr>\n",
       "<tr>\n",
       "  <th>Prob(Omnibus):</th> <td> 0.000</td>  <th>  Jarque-Bera (JB):  </th> <td>10473.592</td>\n",
       "</tr>\n",
       "<tr>\n",
       "  <th>Skew:</th>          <td> 1.613</td>  <th>  Prob(JB):          </th> <td>    0.00</td> \n",
       "</tr>\n",
       "<tr>\n",
       "  <th>Kurtosis:</th>      <td>24.642</td>  <th>  Cond. No.          </th> <td>4.93e+03</td> \n",
       "</tr>\n",
       "</table><br/><br/>Notes:<br/>[1] Standard Errors assume that the covariance matrix of the errors is correctly specified.<br/>[2] The condition number is large, 4.93e+03. This might indicate that there are<br/>strong multicollinearity or other numerical problems."
      ],
      "text/plain": [
       "<class 'statsmodels.iolib.summary.Summary'>\n",
       "\"\"\"\n",
       "                            OLS Regression Results                            \n",
       "==============================================================================\n",
       "Dep. Variable:                  Price   R-squared:                       0.989\n",
       "Model:                            OLS   Adj. R-squared:                  0.989\n",
       "Method:                 Least Squares   F-statistic:                     3354.\n",
       "Date:                Fri, 01 Jul 2022   Prob (F-statistic):               0.00\n",
       "Time:                        10:46:20   Log-Likelihood:                -2620.5\n",
       "No. Observations:                 525   AIC:                             5271.\n",
       "Df Residuals:                     510   BIC:                             5335.\n",
       "Df Model:                          14                                         \n",
       "Covariance Type:            nonrobust                                         \n",
       "=============================================================================================\n",
       "                                coef    std err          t      P>|t|      [0.025      0.975]\n",
       "---------------------------------------------------------------------------------------------\n",
       "Intercept                    64.3284     13.243      4.858      0.000      38.311      90.346\n",
       "Institute                     0.7490      0.394      1.899      0.058      -0.026       1.524\n",
       "Subject                      -0.3616      0.556     -0.650      0.516      -1.455       0.731\n",
       "Location                      0.3169      0.623      0.509      0.611      -0.907       1.541\n",
       "Trainer_Qualification         1.4185      2.017      0.703      0.482      -2.544       5.381\n",
       "Online_classes               -0.0601      3.233     -0.019      0.985      -6.411       6.291\n",
       "Offline_classes              -4.1354      3.212     -1.287      0.199     -10.446       2.175\n",
       "Course_level                  1.8705      1.994      0.938      0.349      -2.046       5.787\n",
       "Course_hours                  1.8423      0.252      7.321      0.000       1.348       2.337\n",
       "Course_rating                 5.2488      4.940      1.063      0.288      -4.456      14.954\n",
       "Rental_permises               3.6064      0.467      7.723      0.000       2.689       4.524\n",
       "Trainer_slary                 0.0805      0.074      1.082      0.280      -0.066       0.227\n",
       "Maintaince_cost               0.2670      0.271      0.986      0.324      -0.265       0.799\n",
       "Non_teaching_staff_salary     1.6797      0.160     10.468      0.000       1.364       1.995\n",
       "Placements                   -1.1023      3.211     -0.343      0.731      -7.410       5.205\n",
       "==============================================================================\n",
       "Omnibus:                      275.332   Durbin-Watson:                   1.639\n",
       "Prob(Omnibus):                  0.000   Jarque-Bera (JB):            10473.592\n",
       "Skew:                           1.613   Prob(JB):                         0.00\n",
       "Kurtosis:                      24.642   Cond. No.                     4.93e+03\n",
       "==============================================================================\n",
       "\n",
       "Notes:\n",
       "[1] Standard Errors assume that the covariance matrix of the errors is correctly specified.\n",
       "[2] The condition number is large, 4.93e+03. This might indicate that there are\n",
       "strong multicollinearity or other numerical problems.\n",
       "\"\"\""
      ]
     },
     "execution_count": 47,
     "metadata": {},
     "output_type": "execute_result"
    }
   ],
   "source": [
    "# Regression model\n",
    "import statsmodels.formula.api as smf \n",
    "         \n",
    "ml1 = smf.ols('Price ~ Institute + Subject + Location + Trainer_Qualification + Online_classes + Offline_classes + Course_level + Course_hours + Course_rating + Rental_permises + Trainer_slary + Maintaince_cost + Non_teaching_staff_salary + Placements', data = data).fit() # regression model\n",
    "\n",
    "# Summary\n",
    "ml1.summary()"
   ]
  },
  {
   "cell_type": "markdown",
   "id": "ab618dd6",
   "metadata": {},
   "source": [
    "* p-values of few columns(Subject,Location, Trainer_Qualification, online_class, offline_class,Course_level,Course_rating, Trainer_salary, Maintence_cost, placements) are more than 0.05(5%) and remaining are less than 0.05(5%)"
   ]
  },
  {
   "cell_type": "code",
   "execution_count": 48,
   "id": "f6f89e18",
   "metadata": {},
   "outputs": [
    {
     "data": {
      "image/png": "[encoded data removed]",
      "text/plain": [
       "<Figure size 432x288 with 1 Axes>"
      ]
     },
     "execution_count": 48,
     "metadata": {},
     "output_type": "execute_result"
    },
    {
     "data": {
      "image/png": "[encoded data removed]",
      "text/plain": [
       "<Figure size 432x288 with 1 Axes>"
      ]
     },
     "metadata": {
      "needs_background": "light"
     },
     "output_type": "display_data"
    }
   ],
   "source": [
    "# Checking whether data has any influential values \n",
    "# Influence Index Plots\n",
    "import statsmodels.api as sm\n",
    "\n",
    "sm.graphics.influence_plot(ml1)\n",
    "# Studentized Residuals = Residual/standard deviation of residuals"
   ]
  },
  {
   "cell_type": "markdown",
   "id": "2a91d2aa",
   "metadata": {},
   "source": [
    "* From my observation no influencer points."
   ]
  },
  {
   "cell_type": "code",
   "execution_count": 49,
   "id": "ab411623",
   "metadata": {},
   "outputs": [
    {
     "name": "stdout",
     "output_type": "stream",
     "text": [
      "                      feature         VIF\n",
      "0                   Institute    3.727864\n",
      "1                     Subject    3.675821\n",
      "2                    Location    3.247619\n",
      "3       Trainer_Qualification    2.574542\n",
      "4              Online_classes    1.874597\n",
      "5             Offline_classes    1.975294\n",
      "6                Course_level    2.758563\n",
      "7                  Placements    2.004485\n",
      "8          Trainer_experiance  206.645226\n",
      "9                Course_hours  511.338172\n",
      "10              Course_rating   94.529550\n",
      "11            Rental_permises  469.894176\n",
      "12              Trainer_slary  341.113548\n",
      "13            Maintaince_cost  257.458984\n",
      "14  Non_teaching_staff_salary  206.160549\n"
     ]
    }
   ],
   "source": [
    "# Check for Colinearity to decide to remove a variable using VIF (variance influcence factor)\n",
    "# Assumption: VIF > 10 = colinearity exist :VIF= (1/1-R^2)\n",
    "# calculating VIF's values of independent variables\n",
    "\n",
    "from statsmodels.stats.outliers_influence import variance_inflation_factor\n",
    "\n",
    "X = data[list(data.select_dtypes(include = ['int64', 'float64']).columns)]\n",
    "\n",
    "# Profit feature is dependent or out put feature so we are deleting\n",
    "X = X.drop('Price', axis = 1)\n",
    "\n",
    "## VIF dataframe\n",
    "vif_data = pd.DataFrame()\n",
    "vif_data[\"feature\"] = X.columns\n",
    "\n",
    "## calculating VIF for each feature\n",
    "vif_data[\"VIF\"] = [variance_inflation_factor(X.values, i)\n",
    "                   for i in range(len(X.columns))]\n",
    "print(vif_data)\n"
   ]
  },
  {
   "cell_type": "markdown",
   "id": "0ac9f0e2",
   "metadata": {},
   "source": [
    "* VIF of few columns are less than 10, and few are greater than 10."
   ]
  },
  {
   "cell_type": "markdown",
   "id": "0b07672e",
   "metadata": {},
   "source": [
    "### Split the data set into train and test"
   ]
  },
  {
   "cell_type": "code",
   "execution_count": 50,
   "id": "f7804adc",
   "metadata": {},
   "outputs": [],
   "source": [
    "# Split the data set into train(80% of the data) and test(20% of the data)\n",
    "from sklearn.model_selection import train_test_split\n",
    "x_train, x_test, y_train, y_test = train_test_split(data.drop(\"Price\", axis = 1), data.Price, test_size = 0.2, random_state = 42)"
   ]
  },
  {
   "cell_type": "code",
   "execution_count": 51,
   "id": "057d4654",
   "metadata": {},
   "outputs": [
    {
     "name": "stdout",
     "output_type": "stream",
     "text": [
      "(420, 15)\n",
      "(420,)\n",
      "(105, 15)\n",
      "(105,)\n"
     ]
    }
   ],
   "source": [
    "print(x_train.shape)\n",
    "print(y_train.shape)\n",
    "print(x_test.shape)\n",
    "print(y_test.shape)\n"
   ]
  },
  {
   "cell_type": "markdown",
   "id": "00f82756",
   "metadata": {},
   "source": [
    "# Model Building"
   ]
  },
  {
   "cell_type": "code",
   "execution_count": 52,
   "id": "648f2f92",
   "metadata": {},
   "outputs": [
    {
     "data": {
      "text/plain": [
       "52.1591956204921"
      ]
     },
     "execution_count": 52,
     "metadata": {},
     "output_type": "execute_result"
    }
   ],
   "source": [
    "import numpy as np\n",
    "from sklearn.linear_model import LinearRegression\n",
    "from sklearn.metrics import mean_squared_error, make_scorer\n",
    "rmse =lambda y, y_hat: np.sqrt(mean_squared_error(y, y_hat))\n",
    "\n",
    "lm = LinearRegression()\n",
    "lm.fit(x_train, y_train)\n",
    "\n",
    "lm_preds = lm.predict(x_test)\n",
    "rmse(y_test, lm_preds)"
   ]
  },
  {
   "cell_type": "markdown",
   "id": "834a21c6",
   "metadata": {},
   "source": [
    "#### To get best model used as TPOTRegressor optimizer"
   ]
  },
  {
   "cell_type": "code",
   "execution_count": 74,
   "id": "b2923893",
   "metadata": {},
   "outputs": [
    {
     "data": {
      "application/vnd.jupyter.widget-view+json": {
       "model_id": "6089b210cbe640c5ad37ae897df2d211",
       "version_major": 2,
       "version_minor": 0
      },
      "text/plain": [
       "Optimization Progress:   0%|          | 0/100 [00:00<?, ?pipeline/s]"
      ]
     },
     "metadata": {},
     "output_type": "display_data"
    },
    {
     "name": "stdout",
     "output_type": "stream",
     "text": [
      "\n",
      "Generation 1 - Current best internal CV score: -28.45589406345446\n",
      "\n",
      "Generation 2 - Current best internal CV score: -27.412176961444196\n",
      "\n",
      "Generation 3 - Current best internal CV score: -27.412176961444196\n",
      "\n",
      "Generation 4 - Current best internal CV score: -27.412176961444196\n",
      "\n",
      "Generation 5 - Current best internal CV score: -27.296301803905045\n",
      "\n",
      "Generation 6 - Current best internal CV score: -27.296301803905045\n",
      "\n",
      "Generation 7 - Current best internal CV score: -27.181393300851276\n",
      "\n",
      "Generation 8 - Current best internal CV score: -27.181393300851276\n",
      "\n",
      "Generation 9 - Current best internal CV score: -27.181393300851276\n",
      "\n",
      "Generation 10 - Current best internal CV score: -26.435549981338305\n",
      "\n",
      "Generation 11 - Current best internal CV score: -26.435549981338305\n",
      "\n",
      "Generation 12 - Current best internal CV score: -25.630790777859186\n",
      "\n",
      "Generation 13 - Current best internal CV score: -25.094222700186776\n",
      "\n",
      "Generation 14 - Current best internal CV score: -25.094222700186776\n",
      "\n",
      "Generation 15 - Current best internal CV score: -24.291897129239857\n",
      "\n",
      "Generation 16 - Current best internal CV score: -24.291897129239857\n",
      "\n",
      "Generation 17 - Current best internal CV score: -24.291897129239857\n",
      "\n",
      "Generation 18 - Current best internal CV score: -24.291897129239857\n",
      "\n",
      "Generation 19 - Current best internal CV score: -24.291897129239857\n",
      "\n",
      "Generation 20 - Current best internal CV score: -24.291897129239857\n",
      "\n",
      "60.00 minutes have elapsed. TPOT will close down.\n",
      "TPOT closed during evaluation in one generation.\n",
      "WARNING: TPOT may not provide a good pipeline if TPOT is stopped/interrupted in a early generation.\n",
      "\n",
      "\n",
      "TPOT closed prematurely. Will use the current best pipeline.\n",
      "\n",
      "Best pipeline: ExtraTreesRegressor(PolynomialFeatures(RandomForestRegressor(AdaBoostRegressor(ExtraTreesRegressor(input_matrix, bootstrap=True, max_features=0.05, min_samples_leaf=19, min_samples_split=17, n_estimators=100), learning_rate=1.0, loss=linear, n_estimators=100), bootstrap=False, max_features=0.9000000000000001, min_samples_leaf=3, min_samples_split=5, n_estimators=100), degree=2, include_bias=False, interaction_only=False), bootstrap=False, max_features=0.6500000000000001, min_samples_leaf=1, min_samples_split=4, n_estimators=100)\n",
      "-40.379994876385695\n"
     ]
    },
    {
     "name": "stderr",
     "output_type": "stream",
     "text": [
      "/home/venky/anaconda3/lib/python3.9/site-packages/sklearn/base.py:450: UserWarning: X does not have valid feature names, but ExtraTreesRegressor was fitted with feature names\n",
      "  warnings.warn(\n"
     ]
    }
   ],
   "source": [
    "from tpot import TPOTRegressor\n",
    "rmse_scorer = make_scorer(rmse, greater_is_better = False)\n",
    "pipeline_optimizer = TPOTRegressor(\n",
    "    scoring = rmse_scorer,\n",
    "    max_time_mins = 60,\n",
    "    random_state = 42,\n",
    "    verbosity = 2\n",
    "    )\n",
    "pipeline_optimizer.fit(x_train, y_train)\n",
    "\n",
    "print(pipeline_optimizer.score(x_test, y_test))"
   ]
  },
  {
   "cell_type": "code",
   "execution_count": 75,
   "id": "9ecc0132",
   "metadata": {},
   "outputs": [],
   "source": [
    "pipeline_optimizer.fitted_pipeline_\n",
    "pipeline_optimizer.export('Mock.py')"
   ]
  },
  {
   "cell_type": "code",
   "execution_count": 76,
   "id": "c3ea60b8",
   "metadata": {},
   "outputs": [],
   "source": [
    "import numpy as np\n",
    "from sklearn.ensemble import AdaBoostRegressor, ExtraTreesRegressor, RandomForestRegressor\n",
    "from sklearn.model_selection import train_test_split\n",
    "from sklearn.pipeline import make_pipeline, make_union\n",
    "from sklearn.preprocessing import PolynomialFeatures\n",
    "from tpot.builtins import StackingEstimator\n",
    "from tpot.export_utils import set_param_recursive\n",
    "\n",
    "exported_pipeline = make_pipeline(\n",
    "    StackingEstimator(estimator=ExtraTreesRegressor(bootstrap=True, max_features=0.05, min_samples_leaf=19, min_samples_split=17, n_estimators=100)),\n",
    "    StackingEstimator(estimator=AdaBoostRegressor(learning_rate=1.0, loss=\"linear\", n_estimators=100)),\n",
    "    StackingEstimator(estimator=RandomForestRegressor(bootstrap=False, max_features=0.9000000000000001, min_samples_leaf=3, min_samples_split=5, n_estimators=100)),\n",
    "    PolynomialFeatures(degree=2, include_bias=False, interaction_only=False),\n",
    "    ExtraTreesRegressor(bootstrap=False, max_features=0.6500000000000001, min_samples_leaf=1, min_samples_split=4, n_estimators=100)\n",
    ")"
   ]
  },
  {
   "cell_type": "code",
   "execution_count": 78,
   "id": "202510b9",
   "metadata": {},
   "outputs": [
    {
     "name": "stderr",
     "output_type": "stream",
     "text": [
      "/home/venky/anaconda3/lib/python3.9/site-packages/sklearn/base.py:450: UserWarning: X does not have valid feature names, but ExtraTreesRegressor was fitted with feature names\n",
      "  warnings.warn(\n",
      "/home/venky/anaconda3/lib/python3.9/site-packages/sklearn/base.py:450: UserWarning: X does not have valid feature names, but ExtraTreesRegressor was fitted with feature names\n",
      "  warnings.warn(\n"
     ]
    },
    {
     "data": {
      "text/html": [
       "<div>\n",
       "<style scoped>\n",
       "    .dataframe tbody tr th:only-of-type {\n",
       "        vertical-align: middle;\n",
       "    }\n",
       "\n",
       "    .dataframe tbody tr th {\n",
       "        vertical-align: top;\n",
       "    }\n",
       "\n",
       "    .dataframe thead th {\n",
       "        text-align: right;\n",
       "    }\n",
       "</style>\n",
       "<table border=\"1\" class=\"dataframe\">\n",
       "  <thead>\n",
       "    <tr style=\"text-align: right;\">\n",
       "      <th></th>\n",
       "      <th>Actual</th>\n",
       "      <th>Predicted</th>\n",
       "    </tr>\n",
       "  </thead>\n",
       "  <tbody>\n",
       "    <tr>\n",
       "      <th>310</th>\n",
       "      <td>425</td>\n",
       "      <td>426.228333</td>\n",
       "    </tr>\n",
       "    <tr>\n",
       "      <th>390</th>\n",
       "      <td>1225</td>\n",
       "      <td>1220.345000</td>\n",
       "    </tr>\n",
       "    <tr>\n",
       "      <th>6</th>\n",
       "      <td>429</td>\n",
       "      <td>470.116667</td>\n",
       "    </tr>\n",
       "    <tr>\n",
       "      <th>184</th>\n",
       "      <td>660</td>\n",
       "      <td>658.158333</td>\n",
       "    </tr>\n",
       "    <tr>\n",
       "      <th>78</th>\n",
       "      <td>777</td>\n",
       "      <td>782.485000</td>\n",
       "    </tr>\n",
       "    <tr>\n",
       "      <th>407</th>\n",
       "      <td>574</td>\n",
       "      <td>585.341667</td>\n",
       "    </tr>\n",
       "    <tr>\n",
       "      <th>524</th>\n",
       "      <td>1187</td>\n",
       "      <td>1190.436667</td>\n",
       "    </tr>\n",
       "    <tr>\n",
       "      <th>487</th>\n",
       "      <td>657</td>\n",
       "      <td>658.545000</td>\n",
       "    </tr>\n",
       "    <tr>\n",
       "      <th>117</th>\n",
       "      <td>694</td>\n",
       "      <td>690.940000</td>\n",
       "    </tr>\n",
       "    <tr>\n",
       "      <th>137</th>\n",
       "      <td>745</td>\n",
       "      <td>743.253333</td>\n",
       "    </tr>\n",
       "  </tbody>\n",
       "</table>\n",
       "</div>"
      ],
      "text/plain": [
       "     Actual    Predicted\n",
       "310     425   426.228333\n",
       "390    1225  1220.345000\n",
       "6       429   470.116667\n",
       "184     660   658.158333\n",
       "78      777   782.485000\n",
       "407     574   585.341667\n",
       "524    1187  1190.436667\n",
       "487     657   658.545000\n",
       "117     694   690.940000\n",
       "137     745   743.253333"
      ]
     },
     "execution_count": 78,
     "metadata": {},
     "output_type": "execute_result"
    }
   ],
   "source": [
    "exported_pipeline.fit(x_train, y_train)\n",
    "\n",
    "y_pred_test = exported_pipeline.predict(x_test)\n",
    "\n",
    "result_test = pd.DataFrame({'Actual':y_test, \"Predicted\": y_pred_test})\n",
    "result_test.head(10)"
   ]
  },
  {
   "cell_type": "code",
   "execution_count": 79,
   "id": "9644bf0c",
   "metadata": {},
   "outputs": [
    {
     "name": "stdout",
     "output_type": "stream",
     "text": [
      "R2 score(test):  0.9844233547884311\n",
      "Mean squared error(test):  1756.627066137566\n",
      "Root Mean squared error(test):  41.91213507013889\n"
     ]
    }
   ],
   "source": [
    "## importing r2_score module\n",
    "from sklearn.metrics import r2_score\n",
    "from sklearn.metrics import mean_squared_error\n",
    "\n",
    "# predicting the accuracy score\n",
    "score_test = r2_score(y_test, y_pred_test)\n",
    "\n",
    "print('R2 score(test): ', score_test)\n",
    "print('Mean squared error(test): ', mean_squared_error(y_test, y_pred_test))\n",
    "print('Root Mean squared error(test): ', np.sqrt(mean_squared_error(y_test, y_pred_test)))\n"
   ]
  },
  {
   "cell_type": "code",
   "execution_count": 80,
   "id": "a2b51214",
   "metadata": {},
   "outputs": [
    {
     "name": "stderr",
     "output_type": "stream",
     "text": [
      "/home/venky/anaconda3/lib/python3.9/site-packages/sklearn/base.py:450: UserWarning: X does not have valid feature names, but ExtraTreesRegressor was fitted with feature names\n",
      "  warnings.warn(\n"
     ]
    },
    {
     "data": {
      "text/html": [
       "<div>\n",
       "<style scoped>\n",
       "    .dataframe tbody tr th:only-of-type {\n",
       "        vertical-align: middle;\n",
       "    }\n",
       "\n",
       "    .dataframe tbody tr th {\n",
       "        vertical-align: top;\n",
       "    }\n",
       "\n",
       "    .dataframe thead th {\n",
       "        text-align: right;\n",
       "    }\n",
       "</style>\n",
       "<table border=\"1\" class=\"dataframe\">\n",
       "  <thead>\n",
       "    <tr style=\"text-align: right;\">\n",
       "      <th></th>\n",
       "      <th>Actual</th>\n",
       "      <th>Predicted</th>\n",
       "    </tr>\n",
       "  </thead>\n",
       "  <tbody>\n",
       "    <tr>\n",
       "      <th>220</th>\n",
       "      <td>497</td>\n",
       "      <td>496.581667</td>\n",
       "    </tr>\n",
       "    <tr>\n",
       "      <th>69</th>\n",
       "      <td>1041</td>\n",
       "      <td>1042.381667</td>\n",
       "    </tr>\n",
       "    <tr>\n",
       "      <th>362</th>\n",
       "      <td>718</td>\n",
       "      <td>718.440000</td>\n",
       "    </tr>\n",
       "    <tr>\n",
       "      <th>483</th>\n",
       "      <td>1073</td>\n",
       "      <td>1072.776667</td>\n",
       "    </tr>\n",
       "    <tr>\n",
       "      <th>173</th>\n",
       "      <td>1383</td>\n",
       "      <td>1383.785000</td>\n",
       "    </tr>\n",
       "    <tr>\n",
       "      <th>352</th>\n",
       "      <td>456</td>\n",
       "      <td>455.928333</td>\n",
       "    </tr>\n",
       "    <tr>\n",
       "      <th>231</th>\n",
       "      <td>867</td>\n",
       "      <td>868.003333</td>\n",
       "    </tr>\n",
       "    <tr>\n",
       "      <th>211</th>\n",
       "      <td>1212</td>\n",
       "      <td>1212.010000</td>\n",
       "    </tr>\n",
       "    <tr>\n",
       "      <th>192</th>\n",
       "      <td>1208</td>\n",
       "      <td>1208.955000</td>\n",
       "    </tr>\n",
       "    <tr>\n",
       "      <th>446</th>\n",
       "      <td>589</td>\n",
       "      <td>589.463333</td>\n",
       "    </tr>\n",
       "  </tbody>\n",
       "</table>\n",
       "</div>"
      ],
      "text/plain": [
       "     Actual    Predicted\n",
       "220     497   496.581667\n",
       "69     1041  1042.381667\n",
       "362     718   718.440000\n",
       "483    1073  1072.776667\n",
       "173    1383  1383.785000\n",
       "352     456   455.928333\n",
       "231     867   868.003333\n",
       "211    1212  1212.010000\n",
       "192    1208  1208.955000\n",
       "446     589   589.463333"
      ]
     },
     "execution_count": 80,
     "metadata": {},
     "output_type": "execute_result"
    }
   ],
   "source": [
    "y_pred_train = exported_pipeline.predict(x_train)\n",
    "\n",
    "result_train = pd.DataFrame({'Actual':y_train, \"Predicted\": y_pred_train})\n",
    "result_train.head(10)"
   ]
  },
  {
   "cell_type": "code",
   "execution_count": 81,
   "id": "d2c1bd50",
   "metadata": {},
   "outputs": [
    {
     "name": "stdout",
     "output_type": "stream",
     "text": [
      "R2 score(train):  0.9999871961343602\n",
      "Mean squared error(train):  1.5260298280423672\n",
      "Root Mean squared error(train):  1.235325798339194\n"
     ]
    }
   ],
   "source": [
    "score_train = r2_score(y_train, y_pred_train)\n",
    "\n",
    "print('R2 score(train): ', score_train)\n",
    "print('Mean squared error(train): ', mean_squared_error(y_train, y_pred_train))\n",
    "print('Root Mean squared error(train): ', np.sqrt(mean_squared_error(y_train, y_pred_train)))"
   ]
  },
  {
   "cell_type": "code",
   "execution_count": 82,
   "id": "15628ab5",
   "metadata": {},
   "outputs": [
    {
     "data": {
      "text/plain": [
       "<matplotlib.collections.PathCollection at 0x7f19df962580>"
      ]
     },
     "execution_count": 82,
     "metadata": {},
     "output_type": "execute_result"
    },
    {
     "data": {
      "image/png": "[encoded data removed]",
      "text/plain": [
       "<Figure size 432x288 with 1 Axes>"
      ]
     },
     "metadata": {
      "needs_background": "light"
     },
     "output_type": "display_data"
    }
   ],
   "source": [
    "import matplotlib.pyplot as plt\n",
    "plt.scatter(y_test, y_pred_test)"
   ]
  },
  {
   "cell_type": "markdown",
   "id": "568ca7a3",
   "metadata": {},
   "source": [
    "* Got a linear shape. I hope this is good fit model"
   ]
  },
  {
   "cell_type": "markdown",
   "id": "83d1298b",
   "metadata": {},
   "source": [
    "## Saving the Model"
   ]
  },
  {
   "cell_type": "markdown",
   "id": "0464c320",
   "metadata": {},
   "source": [
    "### Importing the pickle"
   ]
  },
  {
   "cell_type": "code",
   "execution_count": 83,
   "id": "6541b682",
   "metadata": {},
   "outputs": [],
   "source": [
    "import pickle\n",
    "pickle.dump(exported_pipeline, open('data_model.pkl', 'wb'))"
   ]
  },
  {
   "cell_type": "code",
   "execution_count": 93,
   "id": "33460125",
   "metadata": {},
   "outputs": [
    {
     "name": "stdout",
     "output_type": "stream",
     "text": [
      "[1190.43666667]\n"
     ]
    },
    {
     "name": "stderr",
     "output_type": "stream",
     "text": [
      "/home/venky/anaconda3/lib/python3.9/site-packages/sklearn/base.py:450: UserWarning: X does not have valid feature names, but ExtraTreesRegressor was fitted with feature names\n",
      "  warnings.warn(\n"
     ]
    }
   ],
   "source": [
    "# Load the model from disk\n",
    "model = pickle.load(open('data_model.pkl', 'rb'))\n",
    "print(model.predict([[9,2,4,1,0,0,1,1,15,162,4,121,655,120,182]]))"
   ]
  },
  {
   "cell_type": "markdown",
   "id": "ed687ecd",
   "metadata": {},
   "source": [
    "* Model predict the course price correctly  based on features(15)."
   ]
  },
  {
   "cell_type": "code",
   "execution_count": null,
   "id": "d05e6189",
   "metadata": {},
   "outputs": [],
   "source": []
  }
 ],
 "metadata": {
  "kernelspec": {
   "display_name": "Python 3 (ipykernel)",
   "language": "python",
   "name": "python3"
  },
  "language_info": {
   "codemirror_mode": {
    "name": "ipython",
    "version": 3
   },
   "file_extension": ".py",
   "mimetype": "text/x-python",
   "name": "python",
   "nbconvert_exporter": "python",
   "pygments_lexer": "ipython3",
   "version": "3.9.12"
  }
 },
 "nbformat": 4,
 "nbformat_minor": 5
}
